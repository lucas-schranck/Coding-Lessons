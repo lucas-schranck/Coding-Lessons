{
 "cells": [
  {
   "cell_type": "code",
   "execution_count": 1,
   "id": "554edf27",
   "metadata": {},
   "outputs": [],
   "source": [
    "def func1(n):\n",
    "    return list(map(str,range(n)))"
   ]
  },
  {
   "cell_type": "code",
   "execution_count": 2,
   "id": "ddddf09b",
   "metadata": {},
   "outputs": [],
   "source": [
    "def func2(n):\n",
    "    return [str(num) for num in range(n)]"
   ]
  },
  {
   "cell_type": "code",
   "execution_count": 3,
   "id": "8859cad4",
   "metadata": {},
   "outputs": [
    {
     "data": {
      "text/plain": [
       "['0', '1', '2', '3', '4', '5', '6', '7', '8', '9']"
      ]
     },
     "execution_count": 3,
     "metadata": {},
     "output_type": "execute_result"
    }
   ],
   "source": [
    "func1(10)"
   ]
  },
  {
   "cell_type": "code",
   "execution_count": 4,
   "id": "f4e8f546",
   "metadata": {},
   "outputs": [
    {
     "data": {
      "text/plain": [
       "['0', '1', '2', '3', '4', '5', '6', '7', '8', '9']"
      ]
     },
     "execution_count": 4,
     "metadata": {},
     "output_type": "execute_result"
    }
   ],
   "source": [
    "func2(10)"
   ]
  },
  {
   "cell_type": "code",
   "execution_count": 5,
   "id": "14af72db",
   "metadata": {},
   "outputs": [],
   "source": [
    "import time # initializing time func"
   ]
  },
  {
   "cell_type": "code",
   "execution_count": 6,
   "id": "e97b9cbe",
   "metadata": {},
   "outputs": [
    {
     "name": "stdout",
     "output_type": "stream",
     "text": [
      "0.012937545776367188\n"
     ]
    }
   ],
   "source": [
    "# Current time\n",
    "start_time = time.time()\n",
    "\n",
    "# RUN CODE HERE V\n",
    "result = func1(100000)\n",
    "# RUN CODE HERE ^\n",
    "\n",
    "# Current time after code runs\n",
    "end_time = time.time()\n",
    "\n",
    "# See how long the code takes\n",
    "elapsed_time = end_time - start_time\n",
    "\n",
    "print(elapsed_time)"
   ]
  },
  {
   "cell_type": "code",
   "execution_count": 7,
   "id": "28b310d6",
   "metadata": {},
   "outputs": [
    {
     "name": "stdout",
     "output_type": "stream",
     "text": [
      "0.022937536239624023\n"
     ]
    }
   ],
   "source": [
    "# Current time\n",
    "start_time = time.time()\n",
    "\n",
    "# RUN CODE HERE V\n",
    "result = func2(100000)\n",
    "# RUN CODE HERE ^\n",
    "\n",
    "# Current time after code runs\n",
    "end_time = time.time()\n",
    "\n",
    "# See how long the code takes\n",
    "elapsed_time = end_time - start_time\n",
    "\n",
    "print(elapsed_time)"
   ]
  },
  {
   "cell_type": "code",
   "execution_count": 8,
   "id": "99a71c23",
   "metadata": {},
   "outputs": [
    {
     "name": "stdout",
     "output_type": "stream",
     "text": [
      "1.322465181350708\n"
     ]
    }
   ],
   "source": [
    "# Current time\n",
    "start_time = time.time()\n",
    "\n",
    "# RUN CODE HERE V\n",
    "result = func1(10000000)\n",
    "# RUN CODE HERE ^\n",
    "\n",
    "# Current time after code runs\n",
    "end_time = time.time()\n",
    "\n",
    "# See how long the code takes\n",
    "elapsed_time = end_time - start_time\n",
    "\n",
    "print(elapsed_time)"
   ]
  },
  {
   "cell_type": "code",
   "execution_count": 9,
   "id": "4dd005fc",
   "metadata": {},
   "outputs": [
    {
     "name": "stdout",
     "output_type": "stream",
     "text": [
      "1.973724603652954\n"
     ]
    }
   ],
   "source": [
    "# Current time\n",
    "start_time = time.time()\n",
    "\n",
    "# RUN CODE HERE V\n",
    "result = func2(10000000)\n",
    "# RUN CODE HERE ^\n",
    "\n",
    "# Current time after code runs\n",
    "end_time = time.time()\n",
    "\n",
    "# See how long the code takes\n",
    "elapsed_time = end_time - start_time\n",
    "\n",
    "print(elapsed_time)"
   ]
  },
  {
   "cell_type": "code",
   "execution_count": 10,
   "id": "6785e75e",
   "metadata": {},
   "outputs": [],
   "source": [
    "# Now we can see the difference in codes that need a lot of memory"
   ]
  },
  {
   "cell_type": "code",
   "execution_count": 11,
   "id": "897d184b",
   "metadata": {},
   "outputs": [
    {
     "name": "stdout",
     "output_type": "stream",
     "text": [
      "18.203349113464355\n"
     ]
    }
   ],
   "source": [
    "# Current time\n",
    "start_time = time.time()\n",
    "\n",
    "# RUN CODE HERE V\n",
    "result = func2(100000000)\n",
    "# RUN CODE HERE ^\n",
    "\n",
    "# Current time after code runs\n",
    "end_time = time.time()\n",
    "\n",
    "# See how long the code takes\n",
    "elapsed_time = end_time - start_time\n",
    "\n",
    "print(elapsed_time)"
   ]
  },
  {
   "cell_type": "code",
   "execution_count": 12,
   "id": "adfd3060",
   "metadata": {},
   "outputs": [
    {
     "name": "stdout",
     "output_type": "stream",
     "text": [
      "15.368921756744385\n"
     ]
    }
   ],
   "source": [
    "# Current time\n",
    "start_time = time.time()\n",
    "\n",
    "# RUN CODE HERE V\n",
    "result = func1(100000000)\n",
    "# RUN CODE HERE ^\n",
    "\n",
    "# Current time after code runs\n",
    "end_time = time.time()\n",
    "\n",
    "# See how long the code takes\n",
    "elapsed_time = end_time - start_time\n",
    "\n",
    "print(elapsed_time)"
   ]
  },
  {
   "cell_type": "code",
   "execution_count": 13,
   "id": "0086b095",
   "metadata": {},
   "outputs": [],
   "source": [
    "# Now codes that require almost nothing"
   ]
  },
  {
   "cell_type": "code",
   "execution_count": 15,
   "id": "095d240e",
   "metadata": {},
   "outputs": [
    {
     "name": "stdout",
     "output_type": "stream",
     "text": [
      "0.0\n"
     ]
    }
   ],
   "source": [
    "# Current time\n",
    "start_time = time.time()\n",
    "\n",
    "# RUN CODE HERE V\n",
    "result = func1(1)\n",
    "# RUN CODE HERE ^\n",
    "\n",
    "# Current time after code runs\n",
    "end_time = time.time()\n",
    "\n",
    "# See how long the code takes\n",
    "elapsed_time = end_time - start_time\n",
    "\n",
    "print(elapsed_time)"
   ]
  },
  {
   "cell_type": "code",
   "execution_count": 16,
   "id": "856764ce",
   "metadata": {},
   "outputs": [
    {
     "name": "stdout",
     "output_type": "stream",
     "text": [
      "0.0\n"
     ]
    }
   ],
   "source": [
    "# Current time\n",
    "start_time = time.time()\n",
    "\n",
    "# RUN CODE HERE V\n",
    "result = func1(2)\n",
    "# RUN CODE HERE ^\n",
    "\n",
    "# Current time after code runs\n",
    "end_time = time.time()\n",
    "\n",
    "# See how long the code takes\n",
    "elapsed_time = end_time - start_time\n",
    "\n",
    "print(elapsed_time)"
   ]
  },
  {
   "cell_type": "code",
   "execution_count": 20,
   "id": "f6308138",
   "metadata": {},
   "outputs": [
    {
     "name": "stdout",
     "output_type": "stream",
     "text": [
      "0.0009968280792236328\n"
     ]
    }
   ],
   "source": [
    "# Current time\n",
    "start_time = time.time()\n",
    "\n",
    "# RUN CODE HERE V\n",
    "result = func1(1000)\n",
    "# RUN CODE HERE ^\n",
    "\n",
    "# Current time after code runs\n",
    "end_time = time.time()\n",
    "\n",
    "# See how long the code takes\n",
    "elapsed_time = end_time - start_time\n",
    "\n",
    "print(elapsed_time)"
   ]
  },
  {
   "cell_type": "code",
   "execution_count": 21,
   "id": "a93d2efd",
   "metadata": {},
   "outputs": [
    {
     "name": "stdout",
     "output_type": "stream",
     "text": [
      "0.0009899139404296875\n"
     ]
    }
   ],
   "source": [
    "# Current time\n",
    "start_time = time.time()\n",
    "\n",
    "# RUN CODE HERE V\n",
    "result = func2(1000)\n",
    "# RUN CODE HERE ^\n",
    "\n",
    "# Current time after code runs\n",
    "end_time = time.time()\n",
    "\n",
    "# See how long the code takes\n",
    "elapsed_time = end_time - start_time\n",
    "\n",
    "print(elapsed_time)"
   ]
  },
  {
   "cell_type": "code",
   "execution_count": 22,
   "id": "af4a790f",
   "metadata": {},
   "outputs": [],
   "source": [
    "import timeit # build-in to time things"
   ]
  },
  {
   "cell_type": "code",
   "execution_count": 28,
   "id": "c395d43a",
   "metadata": {},
   "outputs": [],
   "source": [
    "stmt = '''\n",
    "func1(100)\n",
    "'''"
   ]
  },
  {
   "cell_type": "code",
   "execution_count": 24,
   "id": "0530280f",
   "metadata": {},
   "outputs": [],
   "source": [
    "setup = '''\n",
    "def func1(n):\n",
    "    return list(map(str,range(n)))\n",
    "'''"
   ]
  },
  {
   "cell_type": "code",
   "execution_count": 31,
   "id": "4dc6a346",
   "metadata": {},
   "outputs": [
    {
     "data": {
      "text/plain": [
       "10.965189500000065"
      ]
     },
     "execution_count": 31,
     "metadata": {},
     "output_type": "execute_result"
    }
   ],
   "source": [
    "timeit.timeit(stmt,setup,number=1000000)"
   ]
  },
  {
   "cell_type": "code",
   "execution_count": 27,
   "id": "edfad321",
   "metadata": {},
   "outputs": [],
   "source": [
    "stmt2 = '''\n",
    "func2(100)\n",
    "'''"
   ]
  },
  {
   "cell_type": "code",
   "execution_count": 29,
   "id": "4dbb38d0",
   "metadata": {},
   "outputs": [],
   "source": [
    "setup2 = '''\n",
    "def func2(n):\n",
    "    return [str(num) for num in range(n)]\n",
    "'''"
   ]
  },
  {
   "cell_type": "code",
   "execution_count": 32,
   "id": "045bf074",
   "metadata": {},
   "outputs": [
    {
     "data": {
      "text/plain": [
       "15.445350699999949"
      ]
     },
     "execution_count": 32,
     "metadata": {},
     "output_type": "execute_result"
    }
   ],
   "source": [
    "timeit.timeit(stmt2,setup2,number=1000000)"
   ]
  },
  {
   "cell_type": "code",
   "execution_count": 33,
   "id": "83033a50",
   "metadata": {},
   "outputs": [],
   "source": [
    "# now this is only for Jupter notebook:"
   ]
  },
  {
   "cell_type": "code",
   "execution_count": 34,
   "id": "b8e1332e",
   "metadata": {},
   "outputs": [
    {
     "name": "stdout",
     "output_type": "stream",
     "text": [
      "11.1 µs ± 53 ns per loop (mean ± std. dev. of 7 runs, 100000 loops each)\n"
     ]
    }
   ],
   "source": [
    "%%timeit\n",
    "func1(100)"
   ]
  },
  {
   "cell_type": "code",
   "execution_count": 35,
   "id": "5585bb69",
   "metadata": {},
   "outputs": [
    {
     "name": "stdout",
     "output_type": "stream",
     "text": [
      "15.6 µs ± 477 ns per loop (mean ± std. dev. of 7 runs, 100000 loops each)\n"
     ]
    }
   ],
   "source": [
    "%%timeit\n",
    "func2(100)"
   ]
  },
  {
   "cell_type": "code",
   "execution_count": null,
   "id": "409acd2b",
   "metadata": {},
   "outputs": [],
   "source": []
  }
 ],
 "metadata": {
  "kernelspec": {
   "display_name": "Python 3 (ipykernel)",
   "language": "python",
   "name": "python3"
  },
  "language_info": {
   "codemirror_mode": {
    "name": "ipython",
    "version": 3
   },
   "file_extension": ".py",
   "mimetype": "text/x-python",
   "name": "python",
   "nbconvert_exporter": "python",
   "pygments_lexer": "ipython3",
   "version": "3.9.7"
  }
 },
 "nbformat": 4,
 "nbformat_minor": 5
}
