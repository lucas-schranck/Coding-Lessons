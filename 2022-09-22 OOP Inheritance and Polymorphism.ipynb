{
 "cells": [
  {
   "cell_type": "code",
   "execution_count": 1,
   "id": "ef291ac8",
   "metadata": {},
   "outputs": [],
   "source": [
    "class Animal():\n",
    "    \n",
    "    def __init__(self):\n",
    "        print(\"ANIMAL CREATED\")\n",
    "        \n",
    "    def who_am_i(self):\n",
    "        print(\"I am an animal\")\n",
    "        \n",
    "    def eat(self):\n",
    "        print(\"I am eating\")"
   ]
  },
  {
   "cell_type": "code",
   "execution_count": 10,
   "id": "b6c4e697",
   "metadata": {},
   "outputs": [],
   "source": [
    "class Dog(Animal): #this will inherit / derive from the class above\n",
    "    \n",
    "    def __init__(self):\n",
    "        Animal.__init__(self)\n",
    "        print(\"Dog Created\")\n",
    "    \n",
    "    def eat(self):\n",
    "        print(\"I am a dog eating\")\n",
    "    \n",
    "    def bark(self):\n",
    "        print('WOOF!')"
   ]
  },
  {
   "cell_type": "code",
   "execution_count": 11,
   "id": "7d04835a",
   "metadata": {},
   "outputs": [
    {
     "name": "stdout",
     "output_type": "stream",
     "text": [
      "ANIMAL CREATED\n",
      "Dog Created\n"
     ]
    }
   ],
   "source": [
    "mydog = Dog()"
   ]
  },
  {
   "cell_type": "code",
   "execution_count": 12,
   "id": "7c3b68f5",
   "metadata": {},
   "outputs": [
    {
     "name": "stdout",
     "output_type": "stream",
     "text": [
      "I am a dog eating\n"
     ]
    }
   ],
   "source": [
    "mydog.eat() # see, eat wasn't created inside Dog class, but it inherited Animal classes from the above class / now overwritten"
   ]
  },
  {
   "cell_type": "code",
   "execution_count": 13,
   "id": "7e043be4",
   "metadata": {},
   "outputs": [
    {
     "name": "stdout",
     "output_type": "stream",
     "text": [
      "ANIMAL CREATED\n"
     ]
    }
   ],
   "source": [
    "myanimal = Animal()"
   ]
  },
  {
   "cell_type": "code",
   "execution_count": 14,
   "id": "9362ad9e",
   "metadata": {},
   "outputs": [
    {
     "name": "stdout",
     "output_type": "stream",
     "text": [
      "I am eating\n"
     ]
    }
   ],
   "source": [
    "myanimal.eat()"
   ]
  },
  {
   "cell_type": "code",
   "execution_count": 15,
   "id": "c355dd14",
   "metadata": {},
   "outputs": [
    {
     "name": "stdout",
     "output_type": "stream",
     "text": [
      "I am an animal\n"
     ]
    }
   ],
   "source": [
    "myanimal.who_am_i()"
   ]
  },
  {
   "cell_type": "code",
   "execution_count": 16,
   "id": "aa951fa6",
   "metadata": {},
   "outputs": [
    {
     "data": {
      "text/plain": [
       "<bound method Dog.bark of <__main__.Dog object at 0x00000225A7B12C70>>"
      ]
     },
     "execution_count": 16,
     "metadata": {},
     "output_type": "execute_result"
    }
   ],
   "source": [
    "mydog.bark"
   ]
  },
  {
   "cell_type": "code",
   "execution_count": 17,
   "id": "c0247ff9",
   "metadata": {},
   "outputs": [
    {
     "name": "stdout",
     "output_type": "stream",
     "text": [
      "WOOF!\n"
     ]
    }
   ],
   "source": [
    "mydog.bark()"
   ]
  },
  {
   "cell_type": "code",
   "execution_count": 18,
   "id": "e1bb5257",
   "metadata": {},
   "outputs": [],
   "source": [
    "# POLYMORPHISM"
   ]
  },
  {
   "cell_type": "code",
   "execution_count": 26,
   "id": "47704e4e",
   "metadata": {},
   "outputs": [],
   "source": [
    "class Dog():\n",
    "    \n",
    "    def __init__(self,name):\n",
    "        self.name = name\n",
    "        \n",
    "    def speak(self):\n",
    "        return self.name + \" says woof!\""
   ]
  },
  {
   "cell_type": "code",
   "execution_count": 27,
   "id": "52b34f09",
   "metadata": {},
   "outputs": [],
   "source": [
    "class Cat():\n",
    "    \n",
    "    def __init__(self,name):\n",
    "        self.name = name\n",
    "        \n",
    "    def speak(self):\n",
    "        return self.name + \" says meow!\""
   ]
  },
  {
   "cell_type": "code",
   "execution_count": 28,
   "id": "0f23d76b",
   "metadata": {},
   "outputs": [],
   "source": [
    "niko = Dog('Niko')\n",
    "felix = Cat('Felix')"
   ]
  },
  {
   "cell_type": "code",
   "execution_count": 29,
   "id": "378d584c",
   "metadata": {},
   "outputs": [
    {
     "name": "stdout",
     "output_type": "stream",
     "text": [
      "Niko says woof!\n"
     ]
    }
   ],
   "source": [
    "print(niko.speak())"
   ]
  },
  {
   "cell_type": "code",
   "execution_count": 30,
   "id": "f8612e33",
   "metadata": {},
   "outputs": [
    {
     "name": "stdout",
     "output_type": "stream",
     "text": [
      "Felix says meow!\n"
     ]
    }
   ],
   "source": [
    "print(felix.speak())"
   ]
  },
  {
   "cell_type": "code",
   "execution_count": 31,
   "id": "a66edead",
   "metadata": {},
   "outputs": [
    {
     "name": "stdout",
     "output_type": "stream",
     "text": [
      "<class '__main__.Dog'>\n",
      "<class 'str'>\n",
      "<class '__main__.Cat'>\n",
      "<class 'str'>\n"
     ]
    }
   ],
   "source": [
    "for pet in [niko,felix]:\n",
    "    \n",
    "    print(type(pet))\n",
    "    print(type(pet.speak()))"
   ]
  },
  {
   "cell_type": "code",
   "execution_count": 32,
   "id": "b3579b70",
   "metadata": {},
   "outputs": [],
   "source": [
    "def pet_speak(pet):\n",
    "    print(pet.speak())"
   ]
  },
  {
   "cell_type": "code",
   "execution_count": 33,
   "id": "20ca44cc",
   "metadata": {},
   "outputs": [
    {
     "name": "stdout",
     "output_type": "stream",
     "text": [
      "Niko says woof!\n"
     ]
    }
   ],
   "source": [
    "pet_speak(niko)"
   ]
  },
  {
   "cell_type": "code",
   "execution_count": 34,
   "id": "86ed6739",
   "metadata": {},
   "outputs": [
    {
     "name": "stdout",
     "output_type": "stream",
     "text": [
      "Felix says meow!\n"
     ]
    }
   ],
   "source": [
    "pet_speak(felix)"
   ]
  },
  {
   "cell_type": "code",
   "execution_count": 35,
   "id": "20b77a4d",
   "metadata": {},
   "outputs": [],
   "source": [
    "class Animal():\n",
    "    \n",
    "    def __init__(self,name):\n",
    "        self.name = name\n",
    "        \n",
    "    def speak(self):\n",
    "        raise NotImplementedError('Subclass must implement this abstract method')"
   ]
  },
  {
   "cell_type": "code",
   "execution_count": 36,
   "id": "22a644d1",
   "metadata": {},
   "outputs": [],
   "source": [
    "myanimal = Animal('fred')"
   ]
  },
  {
   "cell_type": "code",
   "execution_count": 37,
   "id": "be45626a",
   "metadata": {},
   "outputs": [
    {
     "ename": "NotImplementedError",
     "evalue": "Subclass must implement this abstract method",
     "output_type": "error",
     "traceback": [
      "\u001b[1;31m---------------------------------------------------------------------------\u001b[0m",
      "\u001b[1;31mNotImplementedError\u001b[0m                       Traceback (most recent call last)",
      "\u001b[1;32m~\\AppData\\Local\\Temp/ipykernel_17492/2029186425.py\u001b[0m in \u001b[0;36m<module>\u001b[1;34m\u001b[0m\n\u001b[1;32m----> 1\u001b[1;33m \u001b[0mmyanimal\u001b[0m\u001b[1;33m.\u001b[0m\u001b[0mspeak\u001b[0m\u001b[1;33m(\u001b[0m\u001b[1;33m)\u001b[0m\u001b[1;33m\u001b[0m\u001b[1;33m\u001b[0m\u001b[0m\n\u001b[0m",
      "\u001b[1;32m~\\AppData\\Local\\Temp/ipykernel_17492/2849044380.py\u001b[0m in \u001b[0;36mspeak\u001b[1;34m(self)\u001b[0m\n\u001b[0;32m      5\u001b[0m \u001b[1;33m\u001b[0m\u001b[0m\n\u001b[0;32m      6\u001b[0m     \u001b[1;32mdef\u001b[0m \u001b[0mspeak\u001b[0m\u001b[1;33m(\u001b[0m\u001b[0mself\u001b[0m\u001b[1;33m)\u001b[0m\u001b[1;33m:\u001b[0m\u001b[1;33m\u001b[0m\u001b[1;33m\u001b[0m\u001b[0m\n\u001b[1;32m----> 7\u001b[1;33m         \u001b[1;32mraise\u001b[0m \u001b[0mNotImplementedError\u001b[0m\u001b[1;33m(\u001b[0m\u001b[1;34m'Subclass must implement this abstract method'\u001b[0m\u001b[1;33m)\u001b[0m\u001b[1;33m\u001b[0m\u001b[1;33m\u001b[0m\u001b[0m\n\u001b[0m",
      "\u001b[1;31mNotImplementedError\u001b[0m: Subclass must implement this abstract method"
     ]
    }
   ],
   "source": [
    "myanimal.speak()"
   ]
  },
  {
   "cell_type": "code",
   "execution_count": null,
   "id": "d9e3a94e",
   "metadata": {},
   "outputs": [],
   "source": []
  }
 ],
 "metadata": {
  "kernelspec": {
   "display_name": "Python 3 (ipykernel)",
   "language": "python",
   "name": "python3"
  },
  "language_info": {
   "codemirror_mode": {
    "name": "ipython",
    "version": 3
   },
   "file_extension": ".py",
   "mimetype": "text/x-python",
   "name": "python",
   "nbconvert_exporter": "python",
   "pygments_lexer": "ipython3",
   "version": "3.9.7"
  }
 },
 "nbformat": 4,
 "nbformat_minor": 5
}
