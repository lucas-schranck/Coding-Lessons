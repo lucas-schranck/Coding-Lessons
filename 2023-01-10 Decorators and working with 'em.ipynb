{
 "cells": [
  {
   "cell_type": "code",
   "execution_count": 1,
   "id": "147a482d",
   "metadata": {},
   "outputs": [],
   "source": [
    "def func():\n",
    "    return 1"
   ]
  },
  {
   "cell_type": "code",
   "execution_count": 3,
   "id": "80db356f",
   "metadata": {},
   "outputs": [
    {
     "data": {
      "text/plain": [
       "1"
      ]
     },
     "execution_count": 3,
     "metadata": {},
     "output_type": "execute_result"
    }
   ],
   "source": [
    "func()"
   ]
  },
  {
   "cell_type": "code",
   "execution_count": 4,
   "id": "88bfa656",
   "metadata": {},
   "outputs": [
    {
     "data": {
      "text/plain": [
       "<function __main__.func()>"
      ]
     },
     "execution_count": 4,
     "metadata": {},
     "output_type": "execute_result"
    }
   ],
   "source": [
    "func # no return, just shows you info stored there"
   ]
  },
  {
   "cell_type": "code",
   "execution_count": 7,
   "id": "83a0aece",
   "metadata": {},
   "outputs": [],
   "source": [
    "def hello():\n",
    "    return \"Hello!\""
   ]
  },
  {
   "cell_type": "code",
   "execution_count": 8,
   "id": "f22bd271",
   "metadata": {},
   "outputs": [
    {
     "data": {
      "text/plain": [
       "'Hello!'"
      ]
     },
     "execution_count": 8,
     "metadata": {},
     "output_type": "execute_result"
    }
   ],
   "source": [
    "hello()"
   ]
  },
  {
   "cell_type": "code",
   "execution_count": 9,
   "id": "e9c68772",
   "metadata": {},
   "outputs": [
    {
     "data": {
      "text/plain": [
       "<function __main__.hello()>"
      ]
     },
     "execution_count": 9,
     "metadata": {},
     "output_type": "execute_result"
    }
   ],
   "source": [
    "hello"
   ]
  },
  {
   "cell_type": "code",
   "execution_count": 14,
   "id": "825ad6e9",
   "metadata": {},
   "outputs": [],
   "source": [
    "greet = hello # you can store var to funcs # SIDE NOTE. They copy the whole thing. You can delete def hello now, greet still works"
   ]
  },
  {
   "cell_type": "code",
   "execution_count": 15,
   "id": "41664b9a",
   "metadata": {},
   "outputs": [
    {
     "data": {
      "text/plain": [
       "'Hello!'"
      ]
     },
     "execution_count": 15,
     "metadata": {},
     "output_type": "execute_result"
    }
   ],
   "source": [
    "greet()"
   ]
  },
  {
   "cell_type": "code",
   "execution_count": 16,
   "id": "f449f657",
   "metadata": {},
   "outputs": [],
   "source": [
    "del hello"
   ]
  },
  {
   "cell_type": "code",
   "execution_count": 17,
   "id": "a1553b41",
   "metadata": {},
   "outputs": [
    {
     "ename": "NameError",
     "evalue": "name 'hello' is not defined",
     "output_type": "error",
     "traceback": [
      "\u001b[1;31m---------------------------------------------------------------------------\u001b[0m",
      "\u001b[1;31mNameError\u001b[0m                                 Traceback (most recent call last)",
      "\u001b[1;32m~\\AppData\\Local\\Temp/ipykernel_928/2674044599.py\u001b[0m in \u001b[0;36m<module>\u001b[1;34m\u001b[0m\n\u001b[1;32m----> 1\u001b[1;33m \u001b[0mhello\u001b[0m\u001b[1;33m(\u001b[0m\u001b[1;33m)\u001b[0m\u001b[1;33m\u001b[0m\u001b[1;33m\u001b[0m\u001b[0m\n\u001b[0m",
      "\u001b[1;31mNameError\u001b[0m: name 'hello' is not defined"
     ]
    }
   ],
   "source": [
    "hello() # because we deleted it"
   ]
  },
  {
   "cell_type": "code",
   "execution_count": 26,
   "id": "a699775c",
   "metadata": {},
   "outputs": [
    {
     "data": {
      "text/plain": [
       "'Hello!'"
      ]
     },
     "execution_count": 26,
     "metadata": {},
     "output_type": "execute_result"
    }
   ],
   "source": [
    "greet()"
   ]
  },
  {
   "cell_type": "code",
   "execution_count": 27,
   "id": "b4312289",
   "metadata": {},
   "outputs": [],
   "source": [
    "# Now I'll create func inside funcs and work within and without\n",
    "#"
   ]
  },
  {
   "cell_type": "code",
   "execution_count": 43,
   "id": "95f2a4ac",
   "metadata": {},
   "outputs": [],
   "source": [
    "def hello2(name='Jose'):\n",
    "    print('The hello2() function has been executed!')\n",
    "    \n",
    "    def greet2():\n",
    "        return '\\t This is the greet2() function inside hello2()!'  # \\t being tab\n",
    "    \n",
    "    def welcome2():\n",
    "        return '\\t This is welcome2() inside hello2()'\n",
    "    \n",
    "    print(greet2())\n",
    "    print(welcome2())\n",
    "    print('This is the end of hello2() function.')"
   ]
  },
  {
   "cell_type": "code",
   "execution_count": 44,
   "id": "83fe86ad",
   "metadata": {},
   "outputs": [
    {
     "name": "stdout",
     "output_type": "stream",
     "text": [
      "The hello2() function has been executed!\n",
      "\t This is the greet2() function inside hello2()!\n",
      "\t This is welcome2() inside hello2()\n",
      "This is the end of hello2() function.\n"
     ]
    }
   ],
   "source": [
    "hello2()"
   ]
  },
  {
   "cell_type": "code",
   "execution_count": 45,
   "id": "e48570d4",
   "metadata": {},
   "outputs": [
    {
     "ename": "NameError",
     "evalue": "name 'greet2' is not defined",
     "output_type": "error",
     "traceback": [
      "\u001b[1;31m---------------------------------------------------------------------------\u001b[0m",
      "\u001b[1;31mNameError\u001b[0m                                 Traceback (most recent call last)",
      "\u001b[1;32m~\\AppData\\Local\\Temp/ipykernel_928/2272302326.py\u001b[0m in \u001b[0;36m<module>\u001b[1;34m\u001b[0m\n\u001b[1;32m----> 1\u001b[1;33m \u001b[0mgreet2\u001b[0m\u001b[1;33m(\u001b[0m\u001b[1;33m)\u001b[0m \u001b[1;31m# see it won't work outside. In order for these to work outside the function, we have to return the function itself.\u001b[0m\u001b[1;33m\u001b[0m\u001b[1;33m\u001b[0m\u001b[0m\n\u001b[0m",
      "\u001b[1;31mNameError\u001b[0m: name 'greet2' is not defined"
     ]
    }
   ],
   "source": [
    "greet2() # see it won't work outside. In order for these to work outside the function, we have to return the function itself."
   ]
  },
  {
   "cell_type": "code",
   "execution_count": 53,
   "id": "6a566c7f",
   "metadata": {},
   "outputs": [],
   "source": [
    "def hello3(name='Jose'): # same function, but returning functions\n",
    "    print('The hello3() function has been executed!')\n",
    "    \n",
    "    def greet3():\n",
    "        return '\\t This is the greet3() function inside hello3()!'  # \\t being tab\n",
    "    \n",
    "    def welcome3():\n",
    "        return '\\t This is welcome3() inside hello3()'\n",
    "    \n",
    "    print(\"I'm going to return a function.\")\n",
    "    \n",
    "    if name == 'Jose':\n",
    "        return greet3\n",
    "    else:\n",
    "        return welcome3"
   ]
  },
  {
   "cell_type": "code",
   "execution_count": 54,
   "id": "2905b5f1",
   "metadata": {},
   "outputs": [
    {
     "name": "stdout",
     "output_type": "stream",
     "text": [
      "The hello3() function has been executed!\n",
      "I'm going to return a function.\n"
     ]
    }
   ],
   "source": [
    "my_new_func = hello3('Jose') # no need to call Jose as its default"
   ]
  },
  {
   "cell_type": "code",
   "execution_count": 55,
   "id": "2bab2254",
   "metadata": {},
   "outputs": [
    {
     "data": {
      "text/plain": [
       "<function __main__.hello3.<locals>.greet3()>"
      ]
     },
     "execution_count": 55,
     "metadata": {},
     "output_type": "execute_result"
    }
   ],
   "source": [
    "my_new_func # see it's inside hello"
   ]
  },
  {
   "cell_type": "code",
   "execution_count": 56,
   "id": "b12cfd1d",
   "metadata": {},
   "outputs": [
    {
     "data": {
      "text/plain": [
       "'\\t This is the greet3() function inside hello3()!'"
      ]
     },
     "execution_count": 56,
     "metadata": {},
     "output_type": "execute_result"
    }
   ],
   "source": [
    "my_new_func()"
   ]
  },
  {
   "cell_type": "code",
   "execution_count": 57,
   "id": "54fba761",
   "metadata": {},
   "outputs": [
    {
     "name": "stdout",
     "output_type": "stream",
     "text": [
      "\t This is the greet3() function inside hello3()!\n"
     ]
    }
   ],
   "source": [
    "print(my_new_func())"
   ]
  },
  {
   "cell_type": "code",
   "execution_count": 62,
   "id": "4b58185f",
   "metadata": {},
   "outputs": [],
   "source": [
    "def cool():\n",
    "    \n",
    "    def supercool():\n",
    "        return 'I am supercool!'\n",
    "    return supercool"
   ]
  },
  {
   "cell_type": "code",
   "execution_count": 63,
   "id": "3b6e95da",
   "metadata": {},
   "outputs": [],
   "source": [
    "some_func = cool()"
   ]
  },
  {
   "cell_type": "code",
   "execution_count": 64,
   "id": "23ef7663",
   "metadata": {},
   "outputs": [
    {
     "data": {
      "text/plain": [
       "<function __main__.cool.<locals>.supercool()>"
      ]
     },
     "execution_count": 64,
     "metadata": {},
     "output_type": "execute_result"
    }
   ],
   "source": [
    "some_func"
   ]
  },
  {
   "cell_type": "code",
   "execution_count": 65,
   "id": "7ce86fe1",
   "metadata": {},
   "outputs": [
    {
     "data": {
      "text/plain": [
       "'I am supercool!'"
      ]
     },
     "execution_count": 65,
     "metadata": {},
     "output_type": "execute_result"
    }
   ],
   "source": [
    "some_func()"
   ]
  },
  {
   "cell_type": "code",
   "execution_count": 66,
   "id": "026e159b",
   "metadata": {},
   "outputs": [],
   "source": [
    "# This is how you build out a decorator"
   ]
  },
  {
   "cell_type": "code",
   "execution_count": 67,
   "id": "95bb88d4",
   "metadata": {},
   "outputs": [],
   "source": [
    "# Let's use func as arg"
   ]
  },
  {
   "cell_type": "code",
   "execution_count": 68,
   "id": "6de6bd2e",
   "metadata": {},
   "outputs": [],
   "source": [
    "def helloarg():\n",
    "    return 'Hi Jose'"
   ]
  },
  {
   "cell_type": "code",
   "execution_count": 69,
   "id": "af4dba06",
   "metadata": {},
   "outputs": [],
   "source": [
    "def otherarg(some_def_func): # passing in func inside func\n",
    "    print('Other code runs here!') \n",
    "    print(some_def_func()) #exc function as function inside"
   ]
  },
  {
   "cell_type": "code",
   "execution_count": 70,
   "id": "2559e4bf",
   "metadata": {},
   "outputs": [
    {
     "data": {
      "text/plain": [
       "<function __main__.helloarg()>"
      ]
     },
     "execution_count": 70,
     "metadata": {},
     "output_type": "execute_result"
    }
   ],
   "source": [
    "helloarg"
   ]
  },
  {
   "cell_type": "code",
   "execution_count": 71,
   "id": "f3f2301b",
   "metadata": {},
   "outputs": [
    {
     "data": {
      "text/plain": [
       "'Hi Jose'"
      ]
     },
     "execution_count": 71,
     "metadata": {},
     "output_type": "execute_result"
    }
   ],
   "source": [
    "helloarg()"
   ]
  },
  {
   "cell_type": "code",
   "execution_count": 72,
   "id": "858ffc77",
   "metadata": {},
   "outputs": [
    {
     "name": "stdout",
     "output_type": "stream",
     "text": [
      "Other code runs here!\n",
      "Hi Jose\n"
     ]
    }
   ],
   "source": [
    "otherarg(helloarg) # I wont say helloarg() because I don't want helloarg being passed, only executed"
   ]
  },
  {
   "cell_type": "code",
   "execution_count": 73,
   "id": "5191f12c",
   "metadata": {},
   "outputs": [],
   "source": [
    "def new_decorator(original_func):\n",
    "    \n",
    "    def wrap_func():\n",
    "        \n",
    "        print('Some extra code, before original function')\n",
    "        \n",
    "        original_func()\n",
    "        \n",
    "        print('Some extra code, after the original function')\n",
    "        \n",
    "    return wrap_func"
   ]
  },
  {
   "cell_type": "code",
   "execution_count": 74,
   "id": "635b00a8",
   "metadata": {},
   "outputs": [],
   "source": [
    "# Basically you put a function inside a \"box function\" aka decorator, put codes before and after (to wrap it inside) and on"
   ]
  },
  {
   "cell_type": "code",
   "execution_count": 75,
   "id": "df21027d",
   "metadata": {},
   "outputs": [],
   "source": [
    "def func_needs_decorator():\n",
    "    print(\"I want decoration!\")"
   ]
  },
  {
   "cell_type": "code",
   "execution_count": 76,
   "id": "bf5a3c37",
   "metadata": {},
   "outputs": [
    {
     "name": "stdout",
     "output_type": "stream",
     "text": [
      "I want decoration!\n"
     ]
    }
   ],
   "source": [
    "func_needs_decorator()"
   ]
  },
  {
   "cell_type": "code",
   "execution_count": 84,
   "id": "6aedb3df",
   "metadata": {},
   "outputs": [],
   "source": [
    "def decoration_for_func(func_that_needs_decorator):\n",
    "    \n",
    "    def wrap_this_func():\n",
    "        \n",
    "        print(\"I am wrapping the func from above\")\n",
    "        \n",
    "        func_that_needs_decorator()\n",
    "        \n",
    "        print(\"I am wrapping the func from below\")\n",
    "        \n",
    "        print(\"This func has been decorated successfully\")\n",
    "        \n",
    "    return wrap_this_func"
   ]
  },
  {
   "cell_type": "code",
   "execution_count": 78,
   "id": "9be09b38",
   "metadata": {},
   "outputs": [],
   "source": [
    "# or else use the other decorator"
   ]
  },
  {
   "cell_type": "code",
   "execution_count": 79,
   "id": "65f16d41",
   "metadata": {},
   "outputs": [],
   "source": [
    "decorated_func1 = new_decorator(func_needs_decorator)"
   ]
  },
  {
   "cell_type": "code",
   "execution_count": 85,
   "id": "f112decd",
   "metadata": {},
   "outputs": [],
   "source": [
    "decorated_func2 = decoration_for_func(func_needs_decorator)"
   ]
  },
  {
   "cell_type": "code",
   "execution_count": 81,
   "id": "f16240c7",
   "metadata": {},
   "outputs": [
    {
     "data": {
      "text/plain": [
       "<function __main__.new_decorator.<locals>.wrap_func()>"
      ]
     },
     "execution_count": 81,
     "metadata": {},
     "output_type": "execute_result"
    }
   ],
   "source": [
    "decorated_func1"
   ]
  },
  {
   "cell_type": "code",
   "execution_count": 82,
   "id": "47e3f0fd",
   "metadata": {},
   "outputs": [
    {
     "name": "stdout",
     "output_type": "stream",
     "text": [
      "Some extra code, before original function\n",
      "I want decoration!\n",
      "Some extra code, after the original function\n"
     ]
    }
   ],
   "source": [
    "decorated_func1()"
   ]
  },
  {
   "cell_type": "code",
   "execution_count": 87,
   "id": "b91ca264",
   "metadata": {},
   "outputs": [
    {
     "name": "stdout",
     "output_type": "stream",
     "text": [
      "I am wrapping the func from above\n",
      "I want decoration!\n",
      "I am wrapping the func from below\n",
      "This func has been decorated successfully\n"
     ]
    }
   ],
   "source": [
    "decorated_func2()"
   ]
  },
  {
   "cell_type": "code",
   "execution_count": 90,
   "id": "29cc8c1f",
   "metadata": {},
   "outputs": [],
   "source": [
    "@decoration_for_func  # @ on top of functions will merge them and DECORATE it. # will turn this on and off\n",
    "def func_needs_decorator():\n",
    "    print(\"I want decoration!\")"
   ]
  },
  {
   "cell_type": "code",
   "execution_count": 89,
   "id": "4bfac4eb",
   "metadata": {},
   "outputs": [
    {
     "name": "stdout",
     "output_type": "stream",
     "text": [
      "I am wrapping the func from above\n",
      "I want decoration!\n",
      "I am wrapping the func from below\n",
      "This func has been decorated successfully\n"
     ]
    }
   ],
   "source": [
    "func_needs_decorator()"
   ]
  },
  {
   "cell_type": "code",
   "execution_count": null,
   "id": "52ccbe64",
   "metadata": {},
   "outputs": [],
   "source": []
  }
 ],
 "metadata": {
  "kernelspec": {
   "display_name": "Python 3 (ipykernel)",
   "language": "python",
   "name": "python3"
  },
  "language_info": {
   "codemirror_mode": {
    "name": "ipython",
    "version": 3
   },
   "file_extension": ".py",
   "mimetype": "text/x-python",
   "name": "python",
   "nbconvert_exporter": "python",
   "pygments_lexer": "ipython3",
   "version": "3.9.7"
  }
 },
 "nbformat": 4,
 "nbformat_minor": 5
}
