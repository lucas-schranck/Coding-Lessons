{
 "cells": [
  {
   "cell_type": "code",
   "execution_count": 29,
   "id": "c032014a",
   "metadata": {},
   "outputs": [],
   "source": [
    "class Book():\n",
    "    \n",
    "    def __init__(self,title,author,pages):\n",
    "        \n",
    "        self.title = title\n",
    "        self.author = author\n",
    "        self.pages = pages\n",
    "        \n",
    "    def __str__(self):\n",
    "        return f\"{self.title} by {self.author}\"\n",
    "    \n",
    "    def __len__(self):\n",
    "        return self.pages"
   ]
  },
  {
   "cell_type": "code",
   "execution_count": 30,
   "id": "e6ff2b34",
   "metadata": {},
   "outputs": [],
   "source": [
    "b = Book('Python rocks','Jose',200)"
   ]
  },
  {
   "cell_type": "code",
   "execution_count": 31,
   "id": "c20cbc6b",
   "metadata": {},
   "outputs": [
    {
     "data": {
      "text/plain": [
       "'Python rocks by Jose'"
      ]
     },
     "execution_count": 31,
     "metadata": {},
     "output_type": "execute_result"
    }
   ],
   "source": [
    "str(b) #if you try getting str out of it without def __str__, you'll get this : '<__main__.Book object at 0x00000248D4741A00>'"
   ]
  },
  {
   "cell_type": "code",
   "execution_count": 32,
   "id": "b263dd76",
   "metadata": {},
   "outputs": [
    {
     "name": "stdout",
     "output_type": "stream",
     "text": [
      "Python rocks by Jose\n"
     ]
    }
   ],
   "source": [
    "print(b) # see now we're getting this through def __str__"
   ]
  },
  {
   "cell_type": "code",
   "execution_count": 33,
   "id": "034813c0",
   "metadata": {},
   "outputs": [],
   "source": [
    "class Book2(): # just showing the message you'd get\n",
    "    \n",
    "    def __init__(self,title2,author2,pages2):\n",
    "        \n",
    "        self.title2 = title2\n",
    "        self.author2 = author2\n",
    "        self.pages2 = pages2"
   ]
  },
  {
   "cell_type": "code",
   "execution_count": 34,
   "id": "a884faa3",
   "metadata": {},
   "outputs": [],
   "source": [
    "b2 = Book2('Python rocks','Jose',200)"
   ]
  },
  {
   "cell_type": "code",
   "execution_count": 35,
   "id": "9f3d3c34",
   "metadata": {},
   "outputs": [
    {
     "name": "stdout",
     "output_type": "stream",
     "text": [
      "<__main__.Book2 object at 0x00000248D4841370>\n"
     ]
    }
   ],
   "source": [
    "print(b2)"
   ]
  },
  {
   "cell_type": "code",
   "execution_count": 36,
   "id": "5c896553",
   "metadata": {},
   "outputs": [
    {
     "data": {
      "text/plain": [
       "'<__main__.Book2 object at 0x00000248D4841370>'"
      ]
     },
     "execution_count": 36,
     "metadata": {},
     "output_type": "execute_result"
    }
   ],
   "source": [
    "str(b2) # see, therefore def __str__, __len__, etc is a special method to make it possible to do that so"
   ]
  },
  {
   "cell_type": "code",
   "execution_count": 38,
   "id": "58baa634",
   "metadata": {},
   "outputs": [
    {
     "data": {
      "text/plain": [
       "200"
      ]
     },
     "execution_count": 38,
     "metadata": {},
     "output_type": "execute_result"
    }
   ],
   "source": [
    "len(b) # as B is using method __len__"
   ]
  },
  {
   "cell_type": "code",
   "execution_count": 40,
   "id": "8cc1e612",
   "metadata": {},
   "outputs": [
    {
     "ename": "TypeError",
     "evalue": "object of type 'Book2' has no len()",
     "output_type": "error",
     "traceback": [
      "\u001b[1;31m---------------------------------------------------------------------------\u001b[0m",
      "\u001b[1;31mTypeError\u001b[0m                                 Traceback (most recent call last)",
      "\u001b[1;32m~\\AppData\\Local\\Temp/ipykernel_3092/2981415066.py\u001b[0m in \u001b[0;36m<module>\u001b[1;34m\u001b[0m\n\u001b[1;32m----> 1\u001b[1;33m \u001b[0mlen\u001b[0m\u001b[1;33m(\u001b[0m\u001b[0mb2\u001b[0m\u001b[1;33m)\u001b[0m \u001b[1;31m#because we are not using method __len__\u001b[0m\u001b[1;33m\u001b[0m\u001b[1;33m\u001b[0m\u001b[0m\n\u001b[0m",
      "\u001b[1;31mTypeError\u001b[0m: object of type 'Book2' has no len()"
     ]
    }
   ],
   "source": [
    "len(b2) #because we are not using method __len__"
   ]
  },
  {
   "cell_type": "code",
   "execution_count": null,
   "id": "2d65ec43",
   "metadata": {},
   "outputs": [],
   "source": []
  }
 ],
 "metadata": {
  "kernelspec": {
   "display_name": "Python 3 (ipykernel)",
   "language": "python",
   "name": "python3"
  },
  "language_info": {
   "codemirror_mode": {
    "name": "ipython",
    "version": 3
   },
   "file_extension": ".py",
   "mimetype": "text/x-python",
   "name": "python",
   "nbconvert_exporter": "python",
   "pygments_lexer": "ipython3",
   "version": "3.9.7"
  }
 },
 "nbformat": 4,
 "nbformat_minor": 5
}
