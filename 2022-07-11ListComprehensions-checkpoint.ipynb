{
 "cells": [
  {
   "cell_type": "code",
   "execution_count": 1,
   "id": "042bd9dc",
   "metadata": {},
   "outputs": [],
   "source": [
    "mystring = 'hello'"
   ]
  },
  {
   "cell_type": "code",
   "execution_count": 2,
   "id": "0183d05b",
   "metadata": {},
   "outputs": [],
   "source": [
    "mylist = []\n",
    "\n",
    "for letter in mystring:\n",
    "    mylist.append(letter)"
   ]
  },
  {
   "cell_type": "code",
   "execution_count": 3,
   "id": "3356be74",
   "metadata": {},
   "outputs": [
    {
     "data": {
      "text/plain": [
       "['h', 'e', 'l', 'l', 'o']"
      ]
     },
     "execution_count": 3,
     "metadata": {},
     "output_type": "execute_result"
    }
   ],
   "source": [
    "mylist"
   ]
  },
  {
   "cell_type": "code",
   "execution_count": 5,
   "id": "edadcc2d",
   "metadata": {},
   "outputs": [],
   "source": [
    "mylist2 = 'hello'"
   ]
  },
  {
   "cell_type": "code",
   "execution_count": 7,
   "id": "014d0961",
   "metadata": {},
   "outputs": [],
   "source": [
    "mylist2 = [letter for letter in mylist2]"
   ]
  },
  {
   "cell_type": "code",
   "execution_count": 8,
   "id": "00199306",
   "metadata": {},
   "outputs": [
    {
     "data": {
      "text/plain": [
       "['h', 'e', 'l', 'l', 'o']"
      ]
     },
     "execution_count": 8,
     "metadata": {},
     "output_type": "execute_result"
    }
   ],
   "source": [
    "mylist2"
   ]
  },
  {
   "cell_type": "code",
   "execution_count": 9,
   "id": "1937c136",
   "metadata": {},
   "outputs": [],
   "source": [
    "mylist3 = [x for x in 'word'] #easier and 1string way to list things"
   ]
  },
  {
   "cell_type": "code",
   "execution_count": 10,
   "id": "284b7020",
   "metadata": {},
   "outputs": [
    {
     "data": {
      "text/plain": [
       "['w', 'o', 'r', 'd']"
      ]
     },
     "execution_count": 10,
     "metadata": {},
     "output_type": "execute_result"
    }
   ],
   "source": [
    "mylist3"
   ]
  },
  {
   "cell_type": "code",
   "execution_count": 11,
   "id": "481bcdf4",
   "metadata": {},
   "outputs": [],
   "source": [
    "mylist4 = [x for x in range(0,11)]"
   ]
  },
  {
   "cell_type": "code",
   "execution_count": 12,
   "id": "0a7754a0",
   "metadata": {},
   "outputs": [
    {
     "data": {
      "text/plain": [
       "[0, 1, 2, 3, 4, 5, 6, 7, 8, 9, 10]"
      ]
     },
     "execution_count": 12,
     "metadata": {},
     "output_type": "execute_result"
    }
   ],
   "source": [
    "mylist4"
   ]
  },
  {
   "cell_type": "code",
   "execution_count": 14,
   "id": "c8ca3c94",
   "metadata": {},
   "outputs": [],
   "source": [
    "mylist5 = [num**2 for num in range(0,11)] #this is square of each number"
   ]
  },
  {
   "cell_type": "code",
   "execution_count": 15,
   "id": "0c127a17",
   "metadata": {},
   "outputs": [
    {
     "data": {
      "text/plain": [
       "[0, 1, 4, 9, 16, 25, 36, 49, 64, 81, 100]"
      ]
     },
     "execution_count": 15,
     "metadata": {},
     "output_type": "execute_result"
    }
   ],
   "source": [
    "mylist5"
   ]
  },
  {
   "cell_type": "code",
   "execution_count": 18,
   "id": "f5cd2db5",
   "metadata": {},
   "outputs": [],
   "source": [
    "mylist6 = [num for num in range(0,11) if num%2==0] #grabbing only even numbers"
   ]
  },
  {
   "cell_type": "code",
   "execution_count": 19,
   "id": "0b8bf99e",
   "metadata": {},
   "outputs": [
    {
     "data": {
      "text/plain": [
       "[0, 2, 4, 6, 8, 10]"
      ]
     },
     "execution_count": 19,
     "metadata": {},
     "output_type": "execute_result"
    }
   ],
   "source": [
    "mylist6"
   ]
  },
  {
   "cell_type": "code",
   "execution_count": 21,
   "id": "30e955ee",
   "metadata": {},
   "outputs": [],
   "source": [
    "celciuslist = [0,10,20,34.5]\n",
    "fahrenheitlist = [( (9/5)*temp + 32 ) for temp in celciuslist] #this is a formula"
   ]
  },
  {
   "cell_type": "code",
   "execution_count": 22,
   "id": "381187a9",
   "metadata": {},
   "outputs": [
    {
     "data": {
      "text/plain": [
       "[32.0, 50.0, 68.0, 94.1]"
      ]
     },
     "execution_count": 22,
     "metadata": {},
     "output_type": "execute_result"
    }
   ],
   "source": [
    "fahrenheitlist"
   ]
  },
  {
   "cell_type": "code",
   "execution_count": 23,
   "id": "b5cec96f",
   "metadata": {},
   "outputs": [],
   "source": [
    "fahrenheitlist = []\n",
    "\n",
    "for temp in celciuslist:\n",
    "    fahrenheitlist.append(( (9/5)*temp + 32)) #same thing but with FOR "
   ]
  },
  {
   "cell_type": "code",
   "execution_count": 24,
   "id": "1c571f06",
   "metadata": {},
   "outputs": [
    {
     "data": {
      "text/plain": [
       "[32.0, 50.0, 68.0, 94.1]"
      ]
     },
     "execution_count": 24,
     "metadata": {},
     "output_type": "execute_result"
    }
   ],
   "source": [
    "fahrenheitlist"
   ]
  },
  {
   "cell_type": "code",
   "execution_count": 25,
   "id": "1521d4e8",
   "metadata": {},
   "outputs": [],
   "source": [
    "#now one liner if statement; note that is not useful at all, just good know in just in case"
   ]
  },
  {
   "cell_type": "code",
   "execution_count": 31,
   "id": "d291ae10",
   "metadata": {},
   "outputs": [],
   "source": [
    "results = ['EVEN' if x%2==0 else 'ODD' for x in range(0,11)] #this is inverted compared to other one liners"
   ]
  },
  {
   "cell_type": "code",
   "execution_count": 32,
   "id": "d251773a",
   "metadata": {},
   "outputs": [
    {
     "data": {
      "text/plain": [
       "['EVEN',\n",
       " 'ODD',\n",
       " 'EVEN',\n",
       " 'ODD',\n",
       " 'EVEN',\n",
       " 'ODD',\n",
       " 'EVEN',\n",
       " 'ODD',\n",
       " 'EVEN',\n",
       " 'ODD',\n",
       " 'EVEN']"
      ]
     },
     "execution_count": 32,
     "metadata": {},
     "output_type": "execute_result"
    }
   ],
   "source": [
    "results"
   ]
  },
  {
   "cell_type": "code",
   "execution_count": 33,
   "id": "cdf34f04",
   "metadata": {},
   "outputs": [],
   "source": [
    "results = [x if x%2==0 else 'ODD' for x in range(0,11)]"
   ]
  },
  {
   "cell_type": "code",
   "execution_count": 34,
   "id": "1e7b9f62",
   "metadata": {},
   "outputs": [
    {
     "data": {
      "text/plain": [
       "[0, 'ODD', 2, 'ODD', 4, 'ODD', 6, 'ODD', 8, 'ODD', 10]"
      ]
     },
     "execution_count": 34,
     "metadata": {},
     "output_type": "execute_result"
    }
   ],
   "source": [
    "results"
   ]
  },
  {
   "cell_type": "code",
   "execution_count": 37,
   "id": "6bc32cc3",
   "metadata": {},
   "outputs": [],
   "source": [
    "mylist7 = []\n",
    "\n",
    "for x in [2,4,6]:\n",
    "    for y in [2,4,6]:\n",
    "        mylist7.append(x*y)"
   ]
  },
  {
   "cell_type": "code",
   "execution_count": 38,
   "id": "f4cf080c",
   "metadata": {},
   "outputs": [
    {
     "data": {
      "text/plain": [
       "[4, 8, 12, 8, 16, 24, 12, 24, 36]"
      ]
     },
     "execution_count": 38,
     "metadata": {},
     "output_type": "execute_result"
    }
   ],
   "source": [
    "mylist7"
   ]
  },
  {
   "cell_type": "code",
   "execution_count": 39,
   "id": "e8b7a38a",
   "metadata": {},
   "outputs": [],
   "source": [
    "mylist8 = [x*y for x in [2,4,6] for y in [2,4,6]] #not easy to read, therefore not very useful"
   ]
  },
  {
   "cell_type": "code",
   "execution_count": 40,
   "id": "e5dd0bd0",
   "metadata": {},
   "outputs": [
    {
     "data": {
      "text/plain": [
       "[4, 8, 12, 8, 16, 24, 12, 24, 36]"
      ]
     },
     "execution_count": 40,
     "metadata": {},
     "output_type": "execute_result"
    }
   ],
   "source": [
    "mylist8"
   ]
  },
  {
   "cell_type": "code",
   "execution_count": null,
   "id": "abea37f8",
   "metadata": {},
   "outputs": [],
   "source": []
  }
 ],
 "metadata": {
  "kernelspec": {
   "display_name": "Python 3 (ipykernel)",
   "language": "python",
   "name": "python3"
  },
  "language_info": {
   "codemirror_mode": {
    "name": "ipython",
    "version": 3
   },
   "file_extension": ".py",
   "mimetype": "text/x-python",
   "name": "python",
   "nbconvert_exporter": "python",
   "pygments_lexer": "ipython3",
   "version": "3.9.7"
  }
 },
 "nbformat": 4,
 "nbformat_minor": 5
}
