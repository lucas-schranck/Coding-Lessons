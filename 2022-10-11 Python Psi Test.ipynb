{
 "cells": [
  {
   "cell_type": "code",
   "execution_count": 1,
   "id": "3f3f4f53",
   "metadata": {},
   "outputs": [],
   "source": [
    "acceptable_range = [1,2,3,4,5]"
   ]
  },
  {
   "cell_type": "code",
   "execution_count": 2,
   "id": "dac99afc",
   "metadata": {},
   "outputs": [],
   "source": [
    "def TestQuestion():\n",
    "    global tq1\n",
    "    tq1 = 'null'\n",
    "    within_range = False \n",
    "    \n",
    "    print('Por favor, indique o quanto você concorda com ou discorda com a afirmativa abaixo escolhendo um número entre 1 e 5, sendo que;\\n1=Concordo Fortemente\\n2=Concordo\\n3=Não concordo, nem discordo\\n2=Discordo\\n1=Discordo fortemente \\n\\n Se me resta algum dinheiro depois de ter pago as minhas contas, eu simplesmente preciso gastá-lo.')  \n",
    "\n",
    "    # Checking two conditions; range and digit\n",
    "    while tq1.isdigit() == False or within_range == False:\n",
    "       \n",
    "        tq1 = input(f\"Escolha um número entre: {acceptable_range} \")\n",
    "        \n",
    "        # DIGIT CHECK\n",
    "        if tq1.isdigit() == False:\n",
    "            print(\"Este não é um número, escolha um número válido.\")\n",
    "        \n",
    "        # RANGE CHECK AND LIST OF POSSIBILITIES CHANGE\n",
    "        if tq1.isdigit() == True:\n",
    "            if int(tq1) in acceptable_range:\n",
    "                within_range = True"
   ]
  },
  {
   "cell_type": "code",
   "execution_count": 3,
   "id": "4afba62a",
   "metadata": {},
   "outputs": [],
   "source": [
    "def Question1():\n",
    "    global q1qa\n",
    "    q1qa = 'null'\n",
    "    within_range = False \n",
    "    \n",
    "    print('Por favor, indique o quanto você concorda com ou discorda com a afirmativa abaixo escolhendo um número entre 1 e 5, sendo que;\\n1=Concordo Fortemente\\n2=Concordo\\n3=Não concordo, nem discordo\\n2=Discordo\\n1=Discordo fortemente \\n\\n Se me resta algum dinheiro depois de ter pago as minhas contas, eu simplesmente preciso gastá-lo.')  \n",
    "\n",
    "    # Checking two conditions; range and digit\n",
    "    while q1qa.isdigit() == False or within_range == False:\n",
    "       \n",
    "        q1qa = input(f\"Escolha um número entre: {acceptable_range} \")\n",
    "        \n",
    "        # DIGIT CHECK\n",
    "        if q1qa.isdigit() == False:\n",
    "            print(\"Este não é um número, escolha um número válido.\")\n",
    "        \n",
    "        # RANGE CHECK AND LIST OF POSSIBILITIES CHANGE\n",
    "        if q1qa.isdigit() == True:\n",
    "            if int(q1qa) in acceptable_range:\n",
    "                within_range = True"
   ]
  },
  {
   "cell_type": "code",
   "execution_count": 4,
   "id": "9ef46bee",
   "metadata": {},
   "outputs": [],
   "source": [
    "def Question2a():\n",
    "    global q2qa\n",
    "    q2qa = 'null'\n",
    "    within_range = False \n",
    "    \n",
    "    print('Por favor, indique o quanto você tem feito de cada uma das seguintes coisas, escolhendo um número entre 1 e 5, da questão 2a até 2f, sendo que;\\n\\n1=Muito Frequentemente\\n2=Frequentemente\\n3=Algumas Vezes\\n2=Raramente\\n1=Nunca')\n",
    "    print('\\nSinto que os outros ficariam horrorizados se soubessem meus hábitos de consumo. \\n')\n",
    "    \n",
    "    # Checking two conditions; range and digit\n",
    "    while q2qa.isdigit() == False or within_range == False:\n",
    "       \n",
    "        q2qa = input(f\"Escolha um número entre: {acceptable_range} \")\n",
    "        \n",
    "        # DIGIT CHECK\n",
    "        if q2qa.isdigit() == False:\n",
    "            print(\"Este não é um número, escolha um número válido.\")\n",
    "        \n",
    "        # RANGE CHECK AND LIST OF POSSIBILITIES CHANGE\n",
    "        if q2qa.isdigit() == True:\n",
    "            if int(q2qa) in acceptable_range:\n",
    "                within_range = True"
   ]
  },
  {
   "cell_type": "code",
   "execution_count": 5,
   "id": "8c249b54",
   "metadata": {},
   "outputs": [],
   "source": [
    "def Question2b():\n",
    "    global q2qb\n",
    "    q2qb = 'null'\n",
    "    within_range = False \n",
    "    \n",
    "    print('Por favor, indique o quanto você tem feito de cada uma das seguintes coisas, escolhendo um número entre 1 e 5, da questão 2a até 2f, sendo que;\\n\\n1=Muito Frequentemente\\n2=Frequentemente\\n3=Algumas Vezes\\n2=Raramente\\n1=Nunca')\n",
    "    print('\\nComprei coisas mesmo sem dinheiro para gastá-las.\\n')\n",
    "    # Checking two conditions; range and digit\n",
    "    while q2qb.isdigit() == False or within_range == False:\n",
    "       \n",
    "        q2qb = input(f\"Escolha um número entre: {acceptable_range} \")\n",
    "        \n",
    "        # DIGIT CHECK\n",
    "        if q2qb.isdigit() == False:\n",
    "            print(\"Este não é um número, escolha um número válido.\")\n",
    "        \n",
    "        # RANGE CHECK AND LIST OF POSSIBILITIES CHANGE\n",
    "        if q2qb.isdigit() == True:\n",
    "            if int(q2qb) in acceptable_range:\n",
    "                within_range = True"
   ]
  },
  {
   "cell_type": "code",
   "execution_count": 6,
   "id": "851be7e3",
   "metadata": {},
   "outputs": [],
   "source": [
    "def Question2c():\n",
    "    global q2qc\n",
    "    q2qc = 'null'\n",
    "    within_range = False \n",
    "    \n",
    "    print('Por favor, indique o quanto você tem feito de cada uma das seguintes coisas, escolhendo um número entre 1 e 5, da questão 2a até 2f, sendo que;\\n\\n1=Muito Frequentemente\\n2=Frequentemente\\n3=Algumas Vezes\\n2=Raramente\\n1=Nunca')\n",
    "    print('\\nPassei um cheque mesmo sabendo que estava sem dinheiro no banco para cobri-lo. \\n')\n",
    "    # Checking two conditions; range and digit\n",
    "    while q2qc.isdigit() == False or within_range == False:\n",
    "       \n",
    "        q2qc = input(f\"Escolha um número entre: {acceptable_range} \")\n",
    "        \n",
    "        # DIGIT CHECK\n",
    "        if q2qc.isdigit() == False:\n",
    "            print(\"Este não é um número, escolha um número válido.\")\n",
    "        \n",
    "        # RANGE CHECK AND LIST OF POSSIBILITIES CHANGE\n",
    "        if q2qc.isdigit() == True:\n",
    "            if int(q2qc) in acceptable_range:\n",
    "                within_range = True"
   ]
  },
  {
   "cell_type": "code",
   "execution_count": 7,
   "id": "c452e5fb",
   "metadata": {},
   "outputs": [],
   "source": [
    "def Question2d():\n",
    "    global q2qd\n",
    "    q2qd = 'null'\n",
    "    within_range = False \n",
    "    \n",
    "    print('Por favor, indique o quanto você tem feito de cada uma das seguintes coisas, escolhendo um número entre 1 e 5, da questão 2a até 2f, sendo que;\\n\\n1=Muito Frequentemente\\n2=Frequentemente\\n3=Algumas Vezes\\n2=Raramente\\n1=Nunca')\n",
    "    print('\\nComprei coisas para mim com o objetivo de me sentir melhor. \\n') \n",
    "    # Checking two conditions; range and digit\n",
    "    while q2qd.isdigit() == False or within_range == False:\n",
    "       \n",
    "        q2qd = input(f\"Escolha um número entre: {acceptable_range} \")\n",
    "        \n",
    "        # DIGIT CHECK\n",
    "        if q2qd.isdigit() == False:\n",
    "            print(\"Este não é um número, escolha um número válido.\")\n",
    "        \n",
    "        # RANGE CHECK AND LIST OF POSSIBILITIES CHANGE\n",
    "        if q2qd.isdigit() == True:\n",
    "            if int(q2qd) in acceptable_range:\n",
    "                within_range = True"
   ]
  },
  {
   "cell_type": "code",
   "execution_count": 8,
   "id": "2283bac3",
   "metadata": {},
   "outputs": [],
   "source": [
    "def Question2e():\n",
    "    global q2qe\n",
    "    q2qe = 'null'\n",
    "    within_range = False \n",
    "    \n",
    "    print('Por favor, indique o quanto você tem feito de cada uma das seguintes coisas, escolhendo um número entre 1 e 5, da questão 2a até 2f, sendo que;\\n\\n1=Muito Frequentemente\\n2=Frequentemente\\n3=Algumas Vezes\\n2=Raramente\\n1=Nunca')\n",
    "    print('\\nSenti ansiedade ou nervosismo nos dias que não sai para comprar.\\n')\n",
    "    # Checking two conditions; range and digit\n",
    "    while q2qe.isdigit() == False or within_range == False:\n",
    "       \n",
    "        q2qe = input(f\"Escolha um número entre: {acceptable_range} \")\n",
    "        \n",
    "        # DIGIT CHECK\n",
    "        if q2qe.isdigit() == False:\n",
    "            print(\"Este não é um número, escolha um número válido.\")\n",
    "        \n",
    "        # RANGE CHECK AND LIST OF POSSIBILITIES CHANGE\n",
    "        if q2qe.isdigit() == True:\n",
    "            if int(q2qe) in acceptable_range:\n",
    "                within_range = True"
   ]
  },
  {
   "cell_type": "code",
   "execution_count": 9,
   "id": "52fb7857",
   "metadata": {},
   "outputs": [],
   "source": [
    "def Question2f():\n",
    "    global q2qf\n",
    "    q2qf = 'null'\n",
    "    within_range = False \n",
    "    \n",
    "    print('Por favor, indique o quanto você tem feito de cada uma das seguintes coisas, escolhendo um número entre 1 e 5, da questão 2a até 2f, sendo que;\\n\\n1=Muito Frequentemente\\n2=Frequentemente\\n3=Algumas Vezes\\n2=Raramente\\n1=Nunca')\n",
    "    print('\\nPaguei apenas o mínimo da fatura do meu cartão de crédito.\\n')\n",
    "    # Checking two conditions; range and digit\n",
    "    while q2qf.isdigit() == False or within_range == False:\n",
    "       \n",
    "        q2qf = input(f\"Escolha um número entre: {acceptable_range} \")\n",
    "        \n",
    "        # DIGIT CHECK\n",
    "        if q2qf.isdigit() == False:\n",
    "            print(\"Este não é um número, escolha um número válido.\")\n",
    "        \n",
    "        # RANGE CHECK AND LIST OF POSSIBILITIES CHANGE\n",
    "        if q2qf.isdigit() == True:\n",
    "            if int(q2qf) in acceptable_range:\n",
    "                within_range = True"
   ]
  },
  {
   "cell_type": "code",
   "execution_count": 10,
   "id": "238a0f74",
   "metadata": {},
   "outputs": [
    {
     "name": "stdout",
     "output_type": "stream",
     "text": [
      "Por favor, indique o quanto você concorda com ou discorda com a afirmativa abaixo escolhendo um número entre 1 e 5, sendo que;\n",
      "1=Concordo Fortemente\n",
      "2=Concordo\n",
      "3=Não concordo, nem discordo\n",
      "2=Discordo\n",
      "1=Discordo fortemente \n",
      "\n",
      " Se me resta algum dinheiro depois de ter pago as minhas contas, eu simplesmente preciso gastá-lo.\n",
      "Escolha um número entre: [1, 2, 3, 4, 5] 3\n"
     ]
    }
   ],
   "source": [
    "Question1()"
   ]
  },
  {
   "cell_type": "code",
   "execution_count": 11,
   "id": "0e421811",
   "metadata": {},
   "outputs": [
    {
     "name": "stdout",
     "output_type": "stream",
     "text": [
      "Por favor, indique o quanto você tem feito de cada uma das seguintes coisas, escolhendo um número entre 1 e 5, da questão 2a até 2f, sendo que;\n",
      "\n",
      "1=Muito Frequentemente\n",
      "2=Frequentemente\n",
      "3=Algumas Vezes\n",
      "2=Raramente\n",
      "1=Nunca\n",
      "\n",
      "Sinto que os outros ficariam horrorizados se soubessem meus hábitos de consumo. \n",
      "\n",
      "Escolha um número entre: [1, 2, 3, 4, 5] 5\n"
     ]
    }
   ],
   "source": [
    "Question2a()"
   ]
  },
  {
   "cell_type": "code",
   "execution_count": 12,
   "id": "0fc968d5",
   "metadata": {},
   "outputs": [
    {
     "name": "stdout",
     "output_type": "stream",
     "text": [
      "Por favor, indique o quanto você tem feito de cada uma das seguintes coisas, escolhendo um número entre 1 e 5, da questão 2a até 2f, sendo que;\n",
      "\n",
      "1=Muito Frequentemente\n",
      "2=Frequentemente\n",
      "3=Algumas Vezes\n",
      "2=Raramente\n",
      "1=Nunca\n",
      "\n",
      "Comprei coisas mesmo sem dinheiro para gastá-las.\n",
      "\n",
      "Escolha um número entre: [1, 2, 3, 4, 5] 1\n"
     ]
    }
   ],
   "source": [
    "Question2b()"
   ]
  },
  {
   "cell_type": "code",
   "execution_count": 13,
   "id": "22e39e87",
   "metadata": {},
   "outputs": [
    {
     "name": "stdout",
     "output_type": "stream",
     "text": [
      "Por favor, indique o quanto você tem feito de cada uma das seguintes coisas, escolhendo um número entre 1 e 5, da questão 2a até 2f, sendo que;\n",
      "\n",
      "1=Muito Frequentemente\n",
      "2=Frequentemente\n",
      "3=Algumas Vezes\n",
      "2=Raramente\n",
      "1=Nunca\n",
      "\n",
      "Passei um cheque mesmo sabendo que estava sem dinheiro no banco para cobri-lo. \n",
      "\n",
      "Escolha um número entre: [1, 2, 3, 4, 5] 2\n"
     ]
    }
   ],
   "source": [
    "Question2c()"
   ]
  },
  {
   "cell_type": "code",
   "execution_count": 14,
   "id": "4eb83961",
   "metadata": {},
   "outputs": [
    {
     "name": "stdout",
     "output_type": "stream",
     "text": [
      "Por favor, indique o quanto você tem feito de cada uma das seguintes coisas, escolhendo um número entre 1 e 5, da questão 2a até 2f, sendo que;\n",
      "\n",
      "1=Muito Frequentemente\n",
      "2=Frequentemente\n",
      "3=Algumas Vezes\n",
      "2=Raramente\n",
      "1=Nunca\n",
      "\n",
      "Comprei coisas para mim com o objetivo de me sentir melhor. \n",
      "\n",
      "Escolha um número entre: [1, 2, 3, 4, 5] 3\n"
     ]
    }
   ],
   "source": [
    "Question2d()"
   ]
  },
  {
   "cell_type": "code",
   "execution_count": 15,
   "id": "3c9ba81c",
   "metadata": {},
   "outputs": [
    {
     "name": "stdout",
     "output_type": "stream",
     "text": [
      "Por favor, indique o quanto você tem feito de cada uma das seguintes coisas, escolhendo um número entre 1 e 5, da questão 2a até 2f, sendo que;\n",
      "\n",
      "1=Muito Frequentemente\n",
      "2=Frequentemente\n",
      "3=Algumas Vezes\n",
      "2=Raramente\n",
      "1=Nunca\n",
      "\n",
      "Senti ansiedade ou nervosismo nos dias que não sai para comprar.\n",
      "\n",
      "Escolha um número entre: [1, 2, 3, 4, 5] 5\n"
     ]
    }
   ],
   "source": [
    "Question2e()"
   ]
  },
  {
   "cell_type": "code",
   "execution_count": 16,
   "id": "e571d38a",
   "metadata": {},
   "outputs": [
    {
     "name": "stdout",
     "output_type": "stream",
     "text": [
      "Por favor, indique o quanto você tem feito de cada uma das seguintes coisas, escolhendo um número entre 1 e 5, da questão 2a até 2f, sendo que;\n",
      "\n",
      "1=Muito Frequentemente\n",
      "2=Frequentemente\n",
      "3=Algumas Vezes\n",
      "2=Raramente\n",
      "1=Nunca\n",
      "\n",
      "Paguei apenas o mínimo da fatura do meu cartão de crédito.\n",
      "\n",
      "Escolha um número entre: [1, 2, 3, 4, 5] 2\n"
     ]
    }
   ],
   "source": [
    "Question2f()"
   ]
  },
  {
   "cell_type": "code",
   "execution_count": 17,
   "id": "47f914ef",
   "metadata": {},
   "outputs": [
    {
     "name": "stdout",
     "output_type": "stream",
     "text": [
      " Estes são os números escolhidos:3 5 1 2 3 5 2\n"
     ]
    }
   ],
   "source": [
    "print(f' Estes são os números escolhidos:{q1qa} {q2qa} {q2qb} {q2qc} {q2qd} {q2qe} {q2qf}')"
   ]
  },
  {
   "cell_type": "code",
   "execution_count": 18,
   "id": "cecbe604",
   "metadata": {},
   "outputs": [],
   "source": [
    "def compulsivotest(q1qa,q2qa,q2qb,q2qc,q2qd,q2qe,q2qf):\n",
    "    \n",
    "    # número nulo\n",
    "    compulsivo = 0\n",
    "    q1qa = int(q1qa)\n",
    "    q2qa = int(q2qa)\n",
    "    q2qb = int(q2qb)\n",
    "    q2qc = int(q2qc)\n",
    "    q2qd = int(q2qd)\n",
    "    q2qe = int(q2qe)\n",
    "    q2qf = int(q2qf)\n",
    "    #conta a ser feita usando as questões\n",
    "    \n",
    "    compulsivo = -9.69 + (q1qa*.33) + (q2qa*.34) + (q2qb*.50) + (q2qc*.47) + (q2qd*.33) + (q2qe*.38) + (q2qf*.31)\n",
    "    print('Uma pessoa compulsiva marca pontos abaixo ou igual à 1.34')\n",
    "    if compulsivo <= 1.34:\n",
    "        print(f'Você é uma pessoa qualificada como compulsiva, marcando {compulsivo} pontos')\n",
    "        \n",
    "    else:\n",
    "        print(f'Você não é uma pessoa qualificada como compulsiva, marcando {compulsivo} pontos')"
   ]
  },
  {
   "cell_type": "code",
   "execution_count": 19,
   "id": "59a61fab",
   "metadata": {},
   "outputs": [
    {
     "name": "stdout",
     "output_type": "stream",
     "text": [
      "Uma pessoa compulsiva marca pontos abaixo ou igual à 1.34\n",
      "Você é uma pessoa qualificada como compulsiva, marcando -2.0499999999999985 pontos\n"
     ]
    }
   ],
   "source": [
    "compulsivotest(q1qa,q2qa,q2qb,q2qc,q2qd,q2qe,q2qf) #teste usando os valores no input do usuário"
   ]
  },
  {
   "cell_type": "code",
   "execution_count": 21,
   "id": "a4f851cd",
   "metadata": {},
   "outputs": [
    {
     "name": "stdout",
     "output_type": "stream",
     "text": [
      "Uma pessoa compulsiva marca pontos abaixo ou igual à 1.34\n",
      "Você é uma pessoa qualificada como compulsiva, marcando -7.029999999999999 pontos\n"
     ]
    }
   ],
   "source": [
    "compulsivotest(1,1,1,1,1,1,1) # início da série de testes usando valores colocados diretamente"
   ]
  },
  {
   "cell_type": "code",
   "execution_count": 22,
   "id": "a189db32",
   "metadata": {},
   "outputs": [
    {
     "name": "stdout",
     "output_type": "stream",
     "text": [
      "Uma pessoa compulsiva marca pontos abaixo ou igual à 1.34\n",
      "Você não é uma pessoa qualificada como compulsiva, marcando 1.61 pontos\n"
     ]
    }
   ],
   "source": [
    "compulsivotest(4,3,5,5,2,5,5)"
   ]
  },
  {
   "cell_type": "code",
   "execution_count": 23,
   "id": "69c56fc4",
   "metadata": {},
   "outputs": [
    {
     "name": "stdout",
     "output_type": "stream",
     "text": [
      "Uma pessoa compulsiva marca pontos abaixo ou igual à 1.34\n",
      "Você não é uma pessoa qualificada como compulsiva, marcando 1.5200000000000011 pontos\n"
     ]
    }
   ],
   "source": [
    "compulsivotest(5,4,5,5,2,3,5)"
   ]
  },
  {
   "cell_type": "code",
   "execution_count": 24,
   "id": "5f03c3c2",
   "metadata": {},
   "outputs": [
    {
     "name": "stdout",
     "output_type": "stream",
     "text": [
      "Uma pessoa compulsiva marca pontos abaixo ou igual à 1.34\n",
      "Você é uma pessoa qualificada como compulsiva, marcando -1.299999999999999 pontos\n"
     ]
    }
   ],
   "source": [
    "compulsivotest(3,4,4,4,1,4,1)"
   ]
  },
  {
   "cell_type": "code",
   "execution_count": 25,
   "id": "107a0b03",
   "metadata": {},
   "outputs": [
    {
     "name": "stdout",
     "output_type": "stream",
     "text": [
      "Uma pessoa compulsiva marca pontos abaixo ou igual à 1.34\n",
      "Você não é uma pessoa qualificada como compulsiva, marcando 1.7400000000000009 pontos\n"
     ]
    }
   ],
   "source": [
    "compulsivotest(5,5,4,5,2,4,5)"
   ]
  },
  {
   "cell_type": "code",
   "execution_count": 26,
   "id": "c3cb713b",
   "metadata": {},
   "outputs": [
    {
     "name": "stdout",
     "output_type": "stream",
     "text": [
      "Uma pessoa compulsiva marca pontos abaixo ou igual à 1.34\n",
      "Você não é uma pessoa qualificada como compulsiva, marcando 1.9400000000000002 pontos\n"
     ]
    }
   ],
   "source": [
    "compulsivotest(5,3,5,5,2,5,5)"
   ]
  },
  {
   "cell_type": "code",
   "execution_count": 27,
   "id": "560a988a",
   "metadata": {},
   "outputs": [
    {
     "name": "stdout",
     "output_type": "stream",
     "text": [
      "Uma pessoa compulsiva marca pontos abaixo ou igual à 1.34\n",
      "Você é uma pessoa qualificada como compulsiva, marcando 0.7400000000000009 pontos\n"
     ]
    }
   ],
   "source": [
    "compulsivotest(3,4,4,5,2,4,5)"
   ]
  },
  {
   "cell_type": "code",
   "execution_count": 28,
   "id": "e50417d3",
   "metadata": {},
   "outputs": [
    {
     "name": "stdout",
     "output_type": "stream",
     "text": [
      "Uma pessoa compulsiva marca pontos abaixo ou igual à 1.34\n",
      "Você é uma pessoa qualificada como compulsiva, marcando 0.7000000000000008 pontos\n"
     ]
    }
   ],
   "source": [
    "compulsivotest(4,5,4,4,2,5,3)"
   ]
  }
 ],
 "metadata": {
  "kernelspec": {
   "display_name": "Python 3 (ipykernel)",
   "language": "python",
   "name": "python3"
  },
  "language_info": {
   "codemirror_mode": {
    "name": "ipython",
    "version": 3
   },
   "file_extension": ".py",
   "mimetype": "text/x-python",
   "name": "python",
   "nbconvert_exporter": "python",
   "pygments_lexer": "ipython3",
   "version": "3.9.7"
  }
 },
 "nbformat": 4,
 "nbformat_minor": 5
}
