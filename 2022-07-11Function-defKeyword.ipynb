{
 "cells": [
  {
   "cell_type": "code",
   "execution_count": 8,
   "id": "c47793c7",
   "metadata": {},
   "outputs": [],
   "source": [
    "def name_of_function(num): #snake casing which uses _\n",
    "    if True:\n",
    "        print('True')\n",
    "    else: print('False')"
   ]
  },
  {
   "cell_type": "code",
   "execution_count": 12,
   "id": "7d2e84e9",
   "metadata": {},
   "outputs": [],
   "source": [
    "num = (1+1==2)"
   ]
  },
  {
   "cell_type": "code",
   "execution_count": 15,
   "id": "0d915be8",
   "metadata": {},
   "outputs": [
    {
     "name": "stdout",
     "output_type": "stream",
     "text": [
      "True\n"
     ]
    }
   ],
   "source": [
    "name_of_function()"
   ]
  },
  {
   "cell_type": "code",
   "execution_count": 16,
   "id": "bec50c04",
   "metadata": {},
   "outputs": [],
   "source": [
    "def add_function(num1,num2):\n",
    "    return num1+num2"
   ]
  },
  {
   "cell_type": "code",
   "execution_count": 19,
   "id": "32c1aa5e",
   "metadata": {},
   "outputs": [
    {
     "data": {
      "text/plain": [
       "45"
      ]
     },
     "execution_count": 19,
     "metadata": {},
     "output_type": "execute_result"
    }
   ],
   "source": [
    "add_function(15,30)"
   ]
  },
  {
   "cell_type": "code",
   "execution_count": null,
   "id": "9b1697f3",
   "metadata": {},
   "outputs": [],
   "source": []
  }
 ],
 "metadata": {
  "kernelspec": {
   "display_name": "Python 3 (ipykernel)",
   "language": "python",
   "name": "python3"
  },
  "language_info": {
   "codemirror_mode": {
    "name": "ipython",
    "version": 3
   },
   "file_extension": ".py",
   "mimetype": "text/x-python",
   "name": "python",
   "nbconvert_exporter": "python",
   "pygments_lexer": "ipython3",
   "version": "3.9.7"
  }
 },
 "nbformat": 4,
 "nbformat_minor": 5
}
