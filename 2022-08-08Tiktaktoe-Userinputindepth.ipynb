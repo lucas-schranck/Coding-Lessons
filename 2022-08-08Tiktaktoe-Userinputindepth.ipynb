{
 "cells": [
  {
   "cell_type": "code",
   "execution_count": 1,
   "id": "d7fc7ca5",
   "metadata": {},
   "outputs": [],
   "source": [
    "def user_choice():\n",
    "    \n",
    "    choice = input(\"Please enter a number (0-10): \")\n",
    "    \n",
    "    return int(choice)"
   ]
  },
  {
   "cell_type": "code",
   "execution_count": 2,
   "id": "fe135427",
   "metadata": {},
   "outputs": [
    {
     "name": "stdout",
     "output_type": "stream",
     "text": [
      "Please enter a number (0-10): 2\n"
     ]
    },
    {
     "data": {
      "text/plain": [
       "2"
      ]
     },
     "execution_count": 2,
     "metadata": {},
     "output_type": "execute_result"
    }
   ],
   "source": [
    "user_choice()"
   ]
  },
  {
   "cell_type": "code",
   "execution_count": 3,
   "id": "436588a8",
   "metadata": {},
   "outputs": [],
   "source": [
    "def user_choice():\n",
    "    \n",
    "    choice = 'wrong' #anything that is not digit\n",
    "    \n",
    "    while choice.isdigit() == False:\n",
    "        \n",
    "        choice = input(\"Please enter a number (0-10): \")\n",
    "        \n",
    "        if choice.isdigit() == False:\n",
    "            print(\"Input is not a number, please, add a valid number.\")\n",
    "    \n",
    "    return int(choice)"
   ]
  },
  {
   "cell_type": "code",
   "execution_count": 4,
   "id": "1aea2fba",
   "metadata": {},
   "outputs": [],
   "source": [
    "some_value = '100'"
   ]
  },
  {
   "cell_type": "code",
   "execution_count": 5,
   "id": "0b70b384",
   "metadata": {},
   "outputs": [
    {
     "data": {
      "text/plain": [
       "True"
      ]
     },
     "execution_count": 5,
     "metadata": {},
     "output_type": "execute_result"
    }
   ],
   "source": [
    "some_value.isdigit() #if true, it can be use with int() method"
   ]
  },
  {
   "cell_type": "code",
   "execution_count": 6,
   "id": "f7aab270",
   "metadata": {},
   "outputs": [
    {
     "name": "stdout",
     "output_type": "stream",
     "text": [
      "Please enter a number (0-10): two\n",
      "Input is not a number, please, add a valid number.\n",
      "Please enter a number (0-10): t\n",
      "Input is not a number, please, add a valid number.\n",
      "Please enter a number (0-10): 2\n"
     ]
    },
    {
     "data": {
      "text/plain": [
       "2"
      ]
     },
     "execution_count": 6,
     "metadata": {},
     "output_type": "execute_result"
    }
   ],
   "source": [
    "user_choice()"
   ]
  },
  {
   "cell_type": "code",
   "execution_count": 10,
   "id": "48a592ca",
   "metadata": {},
   "outputs": [],
   "source": [
    "def user_choice():\n",
    "    \n",
    "    # VARIABLES\n",
    "    # Initial\n",
    "    choice = 'wrong' #anything that is not digit\n",
    "    \n",
    "    # Range of choices\n",
    "    acceptable_range = range(0,10)\n",
    "    within_range = False\n",
    "\n",
    "    # Checking two conditions; range and digit\n",
    "    while choice.isdigit() == False or within_range == False:\n",
    "        \n",
    "        choice = input(\"Please enter a number (0-10): \")\n",
    "        \n",
    "        # DIGIT CHECK\n",
    "        if choice.isdigit() == False:\n",
    "            print(\"Input is not a number, please, add a valid number.\")\n",
    "        \n",
    "        # RANGE CHECK\n",
    "        if choice.isdigit() == True:\n",
    "            if int(choice) in acceptable_range:\n",
    "                within_range = True\n",
    "            else:\n",
    "                print('Sorry, the acceptable range is between 0 and 10')\n",
    "                within_range = False\n",
    "                \n",
    "    return int(choice)"
   ]
  },
  {
   "cell_type": "code",
   "execution_count": 11,
   "id": "0b53099f",
   "metadata": {},
   "outputs": [
    {
     "name": "stdout",
     "output_type": "stream",
     "text": [
      "Please enter a number (0-10): tw\n",
      "Input is not a number, please, add a valid number.\n",
      "Please enter a number (0-10): 11\n",
      "Sorry, the acceptable range is between 0 and 10\n",
      "Please enter a number (0-10): 5\n"
     ]
    },
    {
     "data": {
      "text/plain": [
       "5"
      ]
     },
     "execution_count": 11,
     "metadata": {},
     "output_type": "execute_result"
    }
   ],
   "source": [
    "user_choice()"
   ]
  },
  {
   "cell_type": "code",
   "execution_count": null,
   "id": "fda1c079",
   "metadata": {},
   "outputs": [],
   "source": []
  }
 ],
 "metadata": {
  "kernelspec": {
   "display_name": "Python 3 (ipykernel)",
   "language": "python",
   "name": "python3"
  },
  "language_info": {
   "codemirror_mode": {
    "name": "ipython",
    "version": 3
   },
   "file_extension": ".py",
   "mimetype": "text/x-python",
   "name": "python",
   "nbconvert_exporter": "python",
   "pygments_lexer": "ipython3",
   "version": "3.9.7"
  }
 },
 "nbformat": 4,
 "nbformat_minor": 5
}
