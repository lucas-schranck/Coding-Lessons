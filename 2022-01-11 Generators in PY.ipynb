{
 "cells": [
  {
   "cell_type": "code",
   "execution_count": 1,
   "id": "fdff5001",
   "metadata": {},
   "outputs": [],
   "source": [
    "def create_cubes(n): #regular listing\n",
    "    result = []\n",
    "    \n",
    "    for x in range(n):\n",
    "        result.append(x**3)\n",
    "    return result"
   ]
  },
  {
   "cell_type": "code",
   "execution_count": 2,
   "id": "e04660ce",
   "metadata": {},
   "outputs": [
    {
     "data": {
      "text/plain": [
       "[0, 1, 8, 27, 64, 125, 216, 343, 512, 729]"
      ]
     },
     "execution_count": 2,
     "metadata": {},
     "output_type": "execute_result"
    }
   ],
   "source": [
    "create_cubes(10)"
   ]
  },
  {
   "cell_type": "code",
   "execution_count": 3,
   "id": "9ae2f618",
   "metadata": {},
   "outputs": [
    {
     "name": "stdout",
     "output_type": "stream",
     "text": [
      "0\n",
      "1\n",
      "8\n",
      "27\n",
      "64\n",
      "125\n",
      "216\n",
      "343\n",
      "512\n",
      "729\n"
     ]
    }
   ],
   "source": [
    "for x in create_cubes(10): # this way I do not store a list, don't need to\n",
    "    print(x)"
   ]
  },
  {
   "cell_type": "code",
   "execution_count": 4,
   "id": "e2a0fb75",
   "metadata": {},
   "outputs": [],
   "source": [
    "def create_cubes2(n):\n",
    "    \n",
    "    for x in range(n):\n",
    "        yield x**3"
   ]
  },
  {
   "cell_type": "code",
   "execution_count": 9,
   "id": "55932582",
   "metadata": {},
   "outputs": [
    {
     "name": "stdout",
     "output_type": "stream",
     "text": [
      "0\n",
      "1\n",
      "8\n",
      "27\n",
      "64\n",
      "125\n",
      "216\n",
      "343\n",
      "512\n",
      "729\n"
     ]
    }
   ],
   "source": [
    "for x in create_cubes2(10): # using yield, I do not keep the list stored\n",
    "    print(x) # this is called generator because it won't keep anything. You create as you use"
   ]
  },
  {
   "cell_type": "code",
   "execution_count": 10,
   "id": "135bc63a",
   "metadata": {},
   "outputs": [
    {
     "data": {
      "text/plain": [
       "[0, 1, 8, 27, 64, 125, 216, 343, 512, 729, 1000, 1331, 1728, 2197, 2744]"
      ]
     },
     "execution_count": 10,
     "metadata": {},
     "output_type": "execute_result"
    }
   ],
   "source": [
    "list(create_cubes2(15)) # this way I'd have a list using a generator"
   ]
  },
  {
   "cell_type": "code",
   "execution_count": 11,
   "id": "33b61d1b",
   "metadata": {},
   "outputs": [],
   "source": [
    "def gen_fib(n): # fibonacci sequence means each(new) number is equal to the sum of the preceding two numbers\n",
    "    \n",
    "    a = 1 # pregen as default value\n",
    "    b = 1 # same as above\n",
    "    for i in range(n): # for every item in the list\n",
    "        yield a # generate A\n",
    "        a,b = b, a+b # reset A,b as B then get the sum (therefore self deleting and recreating)."
   ]
  },
  {
   "cell_type": "code",
   "execution_count": 12,
   "id": "248e4dd2",
   "metadata": {},
   "outputs": [
    {
     "name": "stdout",
     "output_type": "stream",
     "text": [
      "1\n",
      "1\n",
      "2\n",
      "3\n",
      "5\n",
      "8\n",
      "13\n",
      "21\n",
      "34\n",
      "55\n"
     ]
    }
   ],
   "source": [
    "for n in gen_fib(10):\n",
    "    print(n)"
   ]
  },
  {
   "cell_type": "code",
   "execution_count": 15,
   "id": "2fba8571",
   "metadata": {},
   "outputs": [],
   "source": [
    "def gen_fiblist(n):  # the difference for creating a list is here - less memory efficiency\n",
    "    \n",
    "    a = 1\n",
    "    b = 1 \n",
    "    output = []\n",
    "    \n",
    "    for i in range(n): \n",
    "        output.append(a) # here we add to the list\n",
    "        a,b = b, a+b\n",
    "    return output # we need a return to store memory"
   ]
  },
  {
   "cell_type": "code",
   "execution_count": 16,
   "id": "a2d4ae9f",
   "metadata": {},
   "outputs": [
    {
     "name": "stdout",
     "output_type": "stream",
     "text": [
      "1\n",
      "1\n",
      "2\n",
      "3\n",
      "5\n",
      "8\n",
      "13\n",
      "21\n",
      "34\n",
      "55\n"
     ]
    }
   ],
   "source": [
    "for n in gen_fiblist(10):\n",
    "    print(n)"
   ]
  },
  {
   "cell_type": "code",
   "execution_count": null,
   "id": "94af7103",
   "metadata": {},
   "outputs": [],
   "source": []
  }
 ],
 "metadata": {
  "kernelspec": {
   "display_name": "Python 3 (ipykernel)",
   "language": "python",
   "name": "python3"
  },
  "language_info": {
   "codemirror_mode": {
    "name": "ipython",
    "version": 3
   },
   "file_extension": ".py",
   "mimetype": "text/x-python",
   "name": "python",
   "nbconvert_exporter": "python",
   "pygments_lexer": "ipython3",
   "version": "3.9.7"
  }
 },
 "nbformat": 4,
 "nbformat_minor": 5
}
