{
 "cells": [
  {
   "cell_type": "code",
   "execution_count": 3,
   "id": "cc7621d0",
   "metadata": {},
   "outputs": [],
   "source": [
    "row1 = [1,2,3]\n",
    "row2 = [4,5,6]\n",
    "row3 = [7,8,9]"
   ]
  },
  {
   "cell_type": "code",
   "execution_count": 4,
   "id": "ed12f212",
   "metadata": {},
   "outputs": [],
   "source": [
    "game_list = [row1, row2, row3]\n",
    "from IPython.display import clear_output\n",
    "clear_output()"
   ]
  },
  {
   "cell_type": "code",
   "execution_count": 5,
   "id": "657ecf9e",
   "metadata": {},
   "outputs": [],
   "source": [
    "def display_game(game_list):\n",
    "    for item in game_list:\n",
    "        print(item)\n",
    "    return 'This is the actual game'"
   ]
  },
  {
   "cell_type": "code",
   "execution_count": 6,
   "id": "fe42f317",
   "metadata": {},
   "outputs": [
    {
     "name": "stdout",
     "output_type": "stream",
     "text": [
      "[1, 2, 3]\n",
      "[4, 5, 6]\n",
      "[7, 8, 9]\n"
     ]
    },
    {
     "data": {
      "text/plain": [
       "'This is the actual game'"
      ]
     },
     "execution_count": 6,
     "metadata": {},
     "output_type": "execute_result"
    }
   ],
   "source": [
    "display_game(game_list)"
   ]
  },
  {
   "cell_type": "code",
   "execution_count": 7,
   "id": "05bfb2a9",
   "metadata": {},
   "outputs": [],
   "source": [
    "usercount = 0"
   ]
  },
  {
   "cell_type": "code",
   "execution_count": 8,
   "id": "ffcebee5",
   "metadata": {},
   "outputs": [],
   "source": [
    "tiktak_acceptable_range = [1,2,3,4,5,6,7,8,9]"
   ]
  },
  {
   "cell_type": "code",
   "execution_count": 9,
   "id": "bf857105",
   "metadata": {},
   "outputs": [],
   "source": [
    "def position_choice():\n",
    "    \n",
    "    # VARIABLES\n",
    "    # Initial\n",
    "    choice = 'wrong' #anything that is not digit\n",
    "    \n",
    "    # Range of choices\n",
    "    global tiktak_acceptable_range\n",
    "    within_range = False\n",
    "    global usercount\n",
    "\n",
    "    # Checking two conditions; range and digit\n",
    "    while choice.isdigit() == False or within_range == False:\n",
    "        choice = input(f\"Please enter a number {tiktak_acceptable_range}: \")\n",
    "        \n",
    "        # DIGIT CHECK\n",
    "        if choice.isdigit() == False:\n",
    "            print(\"Input is not a number, please, add a valid number.\")\n",
    "        \n",
    "        # RANGE CHECK AND LIST OF POSSIBILITIES CHANGE\n",
    "        if choice.isdigit() == True:\n",
    "            if int(choice) in tiktak_acceptable_range:\n",
    "                within_range = True\n",
    "                usercount += 1\n",
    "                choice = int(choice)-1\n",
    "                if usercount%2 == 0:\n",
    "                    tiktak_acceptable_range[int(choice)] = 'X'\n",
    "                else:\n",
    "                    tiktak_acceptable_range[int(choice)] = 'O'\n",
    "                \n",
    "            \n",
    "\n",
    "            else:\n",
    "                print(f'Sorry, the acceptable numbers are {tiktak_acceptable_range}')\n",
    "                within_range = False\n",
    "                \n",
    "        print(f'{display_game(game_list)}')"
   ]
  },
  {
   "cell_type": "code",
   "execution_count": 12,
   "id": "8b3905db",
   "metadata": {},
   "outputs": [
    {
     "name": "stdout",
     "output_type": "stream",
     "text": [
      "Please enter a number [1, 2, 3, 4, 5, 'O', 'X', 8, 9]: s\n",
      "Input is not a number, please, add a valid number.\n",
      "[1, 2, 3]\n",
      "[4, 5, 6]\n",
      "[7, 8, 9]\n",
      "This is the actual game\n",
      "Please enter a number [1, 2, 3, 4, 5, 'O', 'X', 8, 9]: a\n",
      "Input is not a number, please, add a valid number.\n",
      "[1, 2, 3]\n",
      "[4, 5, 6]\n",
      "[7, 8, 9]\n",
      "This is the actual game\n",
      "Please enter a number [1, 2, 3, 4, 5, 'O', 'X', 8, 9]: 66\n",
      "Sorry, the acceptable numbers are [1, 2, 3, 4, 5, 'O', 'X', 8, 9]\n",
      "[1, 2, 3]\n",
      "[4, 5, 6]\n",
      "[7, 8, 9]\n",
      "This is the actual game\n",
      "Please enter a number [1, 2, 3, 4, 5, 'O', 'X', 8, 9]: 6\n",
      "Sorry, the acceptable numbers are [1, 2, 3, 4, 5, 'O', 'X', 8, 9]\n",
      "[1, 2, 3]\n",
      "[4, 5, 6]\n",
      "[7, 8, 9]\n",
      "This is the actual game\n",
      "Please enter a number [1, 2, 3, 4, 5, 'O', 'X', 8, 9]: O\n",
      "Input is not a number, please, add a valid number.\n",
      "[1, 2, 3]\n",
      "[4, 5, 6]\n",
      "[7, 8, 9]\n",
      "This is the actual game\n",
      "Please enter a number [1, 2, 3, 4, 5, 'O', 'X', 8, 9]: 5\n",
      "[1, 2, 3]\n",
      "[4, 5, 6]\n",
      "[7, 8, 9]\n",
      "This is the actual game\n"
     ]
    },
    {
     "ename": "AttributeError",
     "evalue": "'int' object has no attribute 'isdigit'",
     "output_type": "error",
     "traceback": [
      "\u001b[1;31m---------------------------------------------------------------------------\u001b[0m",
      "\u001b[1;31mAttributeError\u001b[0m                            Traceback (most recent call last)",
      "\u001b[1;32m~\\AppData\\Local\\Temp/ipykernel_8460/3282840806.py\u001b[0m in \u001b[0;36m<module>\u001b[1;34m\u001b[0m\n\u001b[1;32m----> 1\u001b[1;33m \u001b[0mposition_choice\u001b[0m\u001b[1;33m(\u001b[0m\u001b[1;33m)\u001b[0m\u001b[1;33m\u001b[0m\u001b[1;33m\u001b[0m\u001b[0m\n\u001b[0m",
      "\u001b[1;32m~\\AppData\\Local\\Temp/ipykernel_8460/4183729211.py\u001b[0m in \u001b[0;36mposition_choice\u001b[1;34m()\u001b[0m\n\u001b[0;32m     11\u001b[0m \u001b[1;33m\u001b[0m\u001b[0m\n\u001b[0;32m     12\u001b[0m     \u001b[1;31m# Checking two conditions; range and digit\u001b[0m\u001b[1;33m\u001b[0m\u001b[1;33m\u001b[0m\u001b[0m\n\u001b[1;32m---> 13\u001b[1;33m     \u001b[1;32mwhile\u001b[0m \u001b[0mchoice\u001b[0m\u001b[1;33m.\u001b[0m\u001b[0misdigit\u001b[0m\u001b[1;33m(\u001b[0m\u001b[1;33m)\u001b[0m \u001b[1;33m==\u001b[0m \u001b[1;32mFalse\u001b[0m \u001b[1;32mor\u001b[0m \u001b[0mwithin_range\u001b[0m \u001b[1;33m==\u001b[0m \u001b[1;32mFalse\u001b[0m\u001b[1;33m:\u001b[0m\u001b[1;33m\u001b[0m\u001b[1;33m\u001b[0m\u001b[0m\n\u001b[0m\u001b[0;32m     14\u001b[0m         \u001b[0mchoice\u001b[0m \u001b[1;33m=\u001b[0m \u001b[0minput\u001b[0m\u001b[1;33m(\u001b[0m\u001b[1;34mf\"Please enter a number {tiktak_acceptable_range}: \"\u001b[0m\u001b[1;33m)\u001b[0m\u001b[1;33m\u001b[0m\u001b[1;33m\u001b[0m\u001b[0m\n\u001b[0;32m     15\u001b[0m \u001b[1;33m\u001b[0m\u001b[0m\n",
      "\u001b[1;31mAttributeError\u001b[0m: 'int' object has no attribute 'isdigit'"
     ]
    }
   ],
   "source": [
    "position_choice()"
   ]
  },
  {
   "cell_type": "code",
   "execution_count": null,
   "id": "f68b18e0",
   "metadata": {},
   "outputs": [],
   "source": [
    "tiktak_acceptable_range"
   ]
  },
  {
   "cell_type": "code",
   "execution_count": 28,
   "id": "ca041468",
   "metadata": {},
   "outputs": [],
   "source": [
    "def replacementchoice(choice):\n",
    "    \n",
    "    user_placement = input(\"Type a string to place at the position\")\n",
    "    \n",
    "    game_list[position] = user_placement\n",
    "    \n",
    "    return game_list"
   ]
  },
  {
   "cell_type": "code",
   "execution_count": 30,
   "id": "3322e13e",
   "metadata": {},
   "outputs": [],
   "source": [
    "def gameon_choice():\n",
    "    \n",
    "    # This is original, before Y or N\n",
    "    choice = 'wrong'\n",
    "    \n",
    "    # while choice is not digit, keep asking for Y or N\n",
    "    while choice not in ['Y', 'N', 'y', 'n', 'Yes', 'No', 'yes', 'no']:\n",
    "        \n",
    "        choice = input(\"Would you like to keep playing? Y or N\")\n",
    "        \n",
    "        if choice not in ['Y', 'N', 'y', 'n', 'Yes', 'No', 'yes', 'no']:\n",
    "            # This will clear the current cell\n",
    "            clear_output()\n",
    "            \n",
    "            print(\"Sorry, I didn't understand. Please make sure to choose Y or N\")\n",
    "            \n",
    "    if choice == 'Y' or choice == 'y' or choice == 'yes' or choice == 'Yes':\n",
    "        # game is still on\n",
    "        return True\n",
    "    else:\n",
    "        # game is over\n",
    "        return False"
   ]
  },
  {
   "cell_type": "code",
   "execution_count": 37,
   "id": "dcf70cbd",
   "metadata": {},
   "outputs": [
    {
     "name": "stdout",
     "output_type": "stream",
     "text": [
      "[1, 2, 3]\n",
      "[4, 5, 6]\n",
      "[7, 8, 9]\n",
      "Please enter a number [1, 2, 3, 4, 5, 6, 7, 8, 9]: 1\n",
      "[1, 2, 3]\n",
      "[4, 5, 6]\n",
      "[7, 8, 9]\n",
      "None is the actual game\n"
     ]
    },
    {
     "ename": "NameError",
     "evalue": "name 'replacement_choice' is not defined",
     "output_type": "error",
     "traceback": [
      "\u001b[1;31m---------------------------------------------------------------------------\u001b[0m",
      "\u001b[1;31mNameError\u001b[0m                                 Traceback (most recent call last)",
      "\u001b[1;32m~\\AppData\\Local\\Temp/ipykernel_16628/1078572615.py\u001b[0m in \u001b[0;36m<module>\u001b[1;34m\u001b[0m\n\u001b[0;32m     14\u001b[0m     \u001b[1;31m# rewrite position and update list\u001b[0m\u001b[1;33m\u001b[0m\u001b[1;33m\u001b[0m\u001b[0m\n\u001b[0;32m     15\u001b[0m \u001b[1;33m\u001b[0m\u001b[0m\n\u001b[1;32m---> 16\u001b[1;33m     \u001b[0mgame_list\u001b[0m \u001b[1;33m=\u001b[0m \u001b[0mreplacement_choice\u001b[0m\u001b[1;33m(\u001b[0m\u001b[0mgame_list\u001b[0m\u001b[1;33m,\u001b[0m \u001b[0mposition\u001b[0m\u001b[1;33m)\u001b[0m\u001b[1;33m\u001b[0m\u001b[1;33m\u001b[0m\u001b[0m\n\u001b[0m\u001b[0;32m     17\u001b[0m \u001b[1;33m\u001b[0m\u001b[0m\n\u001b[0;32m     18\u001b[0m     \u001b[1;31m# clear screen and show updated game list\u001b[0m\u001b[1;33m\u001b[0m\u001b[1;33m\u001b[0m\u001b[0m\n",
      "\u001b[1;31mNameError\u001b[0m: name 'replacement_choice' is not defined"
     ]
    }
   ],
   "source": [
    "game_on = True\n",
    "\n",
    "# game_list\n",
    "\n",
    "while game_on:\n",
    "    \n",
    "    # clear any output and show list\n",
    "    clear_output()\n",
    "    display_game(game_list)\n",
    "    \n",
    "    # player chooses position\n",
    "    position = position_choice()\n",
    "    \n",
    "    # rewrite position and update list\n",
    "    \n",
    "    game_list = replacement_choice(game_list, position)\n",
    "    \n",
    "    # clear screen and show updated game list\n",
    "    clear_output()\n",
    "    display_game(game_list)\n",
    "    \n",
    "    # Ask if wanna keep playing\n",
    "    game_on = gameon_choice()"
   ]
  },
  {
   "cell_type": "code",
   "execution_count": 51,
   "id": "021745dd",
   "metadata": {},
   "outputs": [],
   "source": [
    "def restart_game():\n",
    "    choice = input('Do you really want to restart game? Y or N')\n",
    "    if choice == 'Y':\n",
    "        row1 = [1,2,3]\n",
    "        row2 = [4,5,6]\n",
    "        row3 = [7,8,9]\n",
    "        usercount = 0\n",
    "    else:\n",
    "        pass"
   ]
  },
  {
   "cell_type": "code",
   "execution_count": 50,
   "id": "415d5dea",
   "metadata": {},
   "outputs": [
    {
     "data": {
      "text/plain": [
       "[1, 2, 3]"
      ]
     },
     "execution_count": 50,
     "metadata": {},
     "output_type": "execute_result"
    }
   ],
   "source": [
    "row1"
   ]
  },
  {
   "cell_type": "code",
   "execution_count": null,
   "id": "501710d9",
   "metadata": {},
   "outputs": [],
   "source": []
  }
 ],
 "metadata": {
  "kernelspec": {
   "display_name": "Python 3 (ipykernel)",
   "language": "python",
   "name": "python3"
  },
  "language_info": {
   "codemirror_mode": {
    "name": "ipython",
    "version": 3
   },
   "file_extension": ".py",
   "mimetype": "text/x-python",
   "name": "python",
   "nbconvert_exporter": "python",
   "pygments_lexer": "ipython3",
   "version": "3.9.7"
  }
 },
 "nbformat": 4,
 "nbformat_minor": 5
}
