{
 "cells": [
  {
   "cell_type": "code",
   "execution_count": 1,
   "id": "cc7621d0",
   "metadata": {},
   "outputs": [],
   "source": [
    "row1 = [1,2,3]\n",
    "row2 = [4,5,6]\n",
    "row3 = [7,8,9]"
   ]
  },
  {
   "cell_type": "code",
   "execution_count": 47,
   "id": "657ecf9e",
   "metadata": {},
   "outputs": [],
   "source": [
    "def display_game():\n",
    "    print(row1)\n",
    "    print(row2)\n",
    "    print(row3)\n",
    "    return 'This'"
   ]
  },
  {
   "cell_type": "code",
   "execution_count": 49,
   "id": "ffcebee5",
   "metadata": {},
   "outputs": [],
   "source": [
    "tiktak_acceptable_range = [1,2,3,4,5,6,7,8,9]\n",
    "usercount = 0"
   ]
  },
  {
   "cell_type": "code",
   "execution_count": 44,
   "id": "fe42f317",
   "metadata": {},
   "outputs": [
    {
     "name": "stdout",
     "output_type": "stream",
     "text": [
      "[1, 2, 3]\n",
      "[4, 5, 6]\n",
      "[7, 8, 9]\n"
     ]
    },
    {
     "data": {
      "text/plain": [
       "''"
      ]
     },
     "execution_count": 44,
     "metadata": {},
     "output_type": "execute_result"
    }
   ],
   "source": [
    "display_game()"
   ]
  },
  {
   "cell_type": "code",
   "execution_count": 50,
   "id": "bf857105",
   "metadata": {},
   "outputs": [],
   "source": [
    "def userpositionchoice():\n",
    "    \n",
    "    # VARIABLES\n",
    "    # Initial\n",
    "    choice = 'wrong' #anything that is not digit\n",
    "    \n",
    "    # Range of choices\n",
    "    tiktak_acceptable_range = [1,2,3,4,5,6,7,8,9]\n",
    "    within_range = False\n",
    "\n",
    "    # Checking two conditions; range and digit\n",
    "    while choice.isdigit() == False or within_range == False:\n",
    "        \n",
    "       \n",
    "        choice = input(f\"Please enter a number {tiktak_acceptable_range}: \")\n",
    "        \n",
    "        # DIGIT CHECK\n",
    "        if choice.isdigit() == False:\n",
    "            print(\"Input is not a number, please, add a valid number.\")\n",
    "        \n",
    "        # RANGE CHECK\n",
    "        if choice.isdigit() == True:\n",
    "            if int(choice) in tiktak_acceptable_range:\n",
    "                within_range = True\n",
    "                usercount += 1\n",
    "\n",
    "            else:\n",
    "                print(f'Sorry, the acceptable numbers are {tiktak_acceptable_range}')\n",
    "                within_range = False\n",
    "                \n",
    "        print(f'''{display_game()} is the actual game''')"
   ]
  },
  {
   "cell_type": "code",
   "execution_count": 48,
   "id": "8b3905db",
   "metadata": {},
   "outputs": [
    {
     "name": "stdout",
     "output_type": "stream",
     "text": [
      "Please enter a number [1, 2, 3, 4, 5, 6, 7, 8, 9]: 2\n",
      "[1, 2, 3]\n",
      "[4, 5, 6]\n",
      "[7, 8, 9]\n",
      "This is the actual game\n"
     ]
    }
   ],
   "source": [
    "userpositionchoice()"
   ]
  },
  {
   "cell_type": "code",
   "execution_count": 13,
   "id": "f68b18e0",
   "metadata": {},
   "outputs": [
    {
     "data": {
      "text/plain": [
       "[1, 2, 3, 4, 5, 6, 7, 8, 9]"
      ]
     },
     "execution_count": 13,
     "metadata": {},
     "output_type": "execute_result"
    }
   ],
   "source": [
    "tiktak_acceptable_range"
   ]
  },
  {
   "cell_type": "code",
   "execution_count": null,
   "id": "ca041468",
   "metadata": {},
   "outputs": [],
   "source": [
    "def replacementchoice(choice):\n",
    "    "
   ]
  }
 ],
 "metadata": {
  "kernelspec": {
   "display_name": "Python 3 (ipykernel)",
   "language": "python",
   "name": "python3"
  },
  "language_info": {
   "codemirror_mode": {
    "name": "ipython",
    "version": 3
   },
   "file_extension": ".py",
   "mimetype": "text/x-python",
   "name": "python",
   "nbconvert_exporter": "python",
   "pygments_lexer": "ipython3",
   "version": "3.9.7"
  }
 },
 "nbformat": 4,
 "nbformat_minor": 5
}
