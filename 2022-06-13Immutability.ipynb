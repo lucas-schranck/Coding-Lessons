{
 "cells": [
  {
   "cell_type": "code",
   "execution_count": 1,
   "id": "5cc66e92",
   "metadata": {},
   "outputs": [],
   "source": [
    "name = \"Sam\""
   ]
  },
  {
   "cell_type": "code",
   "execution_count": 2,
   "id": "3573e2cb",
   "metadata": {},
   "outputs": [],
   "source": [
    "# name[0] = 'P' will get you an error"
   ]
  },
  {
   "cell_type": "code",
   "execution_count": 3,
   "id": "1648138b",
   "metadata": {},
   "outputs": [
    {
     "data": {
      "text/plain": [
       "'am'"
      ]
     },
     "execution_count": 3,
     "metadata": {},
     "output_type": "execute_result"
    }
   ],
   "source": [
    "name[1:]"
   ]
  },
  {
   "cell_type": "code",
   "execution_count": 4,
   "id": "f1a0e492",
   "metadata": {},
   "outputs": [],
   "source": [
    "# we will slice it and assign"
   ]
  },
  {
   "cell_type": "code",
   "execution_count": 5,
   "id": "8e2361a5",
   "metadata": {},
   "outputs": [],
   "source": [
    "last_letters = name[1:]"
   ]
  },
  {
   "cell_type": "code",
   "execution_count": 6,
   "id": "166d2904",
   "metadata": {},
   "outputs": [
    {
     "data": {
      "text/plain": [
       "'am'"
      ]
     },
     "execution_count": 6,
     "metadata": {},
     "output_type": "execute_result"
    }
   ],
   "source": [
    "last_letters"
   ]
  },
  {
   "cell_type": "code",
   "execution_count": 7,
   "id": "e69224cb",
   "metadata": {},
   "outputs": [
    {
     "data": {
      "text/plain": [
       "'Pam'"
      ]
     },
     "execution_count": 7,
     "metadata": {},
     "output_type": "execute_result"
    }
   ],
   "source": [
    "'P' + last_letters"
   ]
  },
  {
   "cell_type": "code",
   "execution_count": 8,
   "id": "614eee3b",
   "metadata": {},
   "outputs": [],
   "source": [
    "# this is string concatenation"
   ]
  },
  {
   "cell_type": "code",
   "execution_count": 9,
   "id": "3b161644",
   "metadata": {},
   "outputs": [],
   "source": [
    "x = 'Hello World'"
   ]
  },
  {
   "cell_type": "code",
   "execution_count": 10,
   "id": "7926b827",
   "metadata": {},
   "outputs": [
    {
     "data": {
      "text/plain": [
       "'Hello World it is beautiful outside!'"
      ]
     },
     "execution_count": 10,
     "metadata": {},
     "output_type": "execute_result"
    }
   ],
   "source": [
    "x + \" it is beautiful outside!\""
   ]
  },
  {
   "cell_type": "code",
   "execution_count": 12,
   "id": "6f712ae5",
   "metadata": {},
   "outputs": [
    {
     "data": {
      "text/plain": [
       "'Hello World'"
      ]
     },
     "execution_count": 12,
     "metadata": {},
     "output_type": "execute_result"
    }
   ],
   "source": [
    "x"
   ]
  },
  {
   "cell_type": "code",
   "execution_count": 13,
   "id": "d9640f14",
   "metadata": {},
   "outputs": [],
   "source": [
    "x = x + \" it is beautiful outside!\""
   ]
  },
  {
   "cell_type": "code",
   "execution_count": 14,
   "id": "18e04bc7",
   "metadata": {},
   "outputs": [
    {
     "data": {
      "text/plain": [
       "'Hello World it is beautiful outside!'"
      ]
     },
     "execution_count": 14,
     "metadata": {},
     "output_type": "execute_result"
    }
   ],
   "source": [
    "x"
   ]
  },
  {
   "cell_type": "code",
   "execution_count": 15,
   "id": "61916135",
   "metadata": {},
   "outputs": [],
   "source": [
    "letter = 'z'"
   ]
  },
  {
   "cell_type": "code",
   "execution_count": 16,
   "id": "cff7ad3c",
   "metadata": {},
   "outputs": [
    {
     "data": {
      "text/plain": [
       "'zzzzzzzzzz'"
      ]
     },
     "execution_count": 16,
     "metadata": {},
     "output_type": "execute_result"
    }
   ],
   "source": [
    "letter*10"
   ]
  },
  {
   "cell_type": "code",
   "execution_count": 17,
   "id": "115f1b74",
   "metadata": {},
   "outputs": [
    {
     "data": {
      "text/plain": [
       "5"
      ]
     },
     "execution_count": 17,
     "metadata": {},
     "output_type": "execute_result"
    }
   ],
   "source": [
    "2 + 3"
   ]
  },
  {
   "cell_type": "code",
   "execution_count": 18,
   "id": "6bb8b78b",
   "metadata": {},
   "outputs": [
    {
     "data": {
      "text/plain": [
       "'23'"
      ]
     },
     "execution_count": 18,
     "metadata": {},
     "output_type": "execute_result"
    }
   ],
   "source": [
    "'2' + '3'"
   ]
  },
  {
   "cell_type": "code",
   "execution_count": 19,
   "id": "15a6e45b",
   "metadata": {},
   "outputs": [],
   "source": [
    "# first will get you adding, the second is concatenation"
   ]
  },
  {
   "cell_type": "code",
   "execution_count": 20,
   "id": "c541b3b9",
   "metadata": {},
   "outputs": [],
   "source": [
    "x = \"Hello World\""
   ]
  },
  {
   "cell_type": "code",
   "execution_count": 21,
   "id": "bdf20be9",
   "metadata": {},
   "outputs": [],
   "source": [
    "#x. + tab will get you a list"
   ]
  },
  {
   "cell_type": "code",
   "execution_count": 22,
   "id": "61af395d",
   "metadata": {},
   "outputs": [
    {
     "data": {
      "text/plain": [
       "'HELLO WORLD'"
      ]
     },
     "execution_count": 22,
     "metadata": {},
     "output_type": "execute_result"
    }
   ],
   "source": [
    "x.upper()"
   ]
  },
  {
   "cell_type": "code",
   "execution_count": 23,
   "id": "47dcb773",
   "metadata": {},
   "outputs": [
    {
     "data": {
      "text/plain": [
       "'Hello World'"
      ]
     },
     "execution_count": 23,
     "metadata": {},
     "output_type": "execute_result"
    }
   ],
   "source": [
    "x"
   ]
  },
  {
   "cell_type": "code",
   "execution_count": 24,
   "id": "bdc4c804",
   "metadata": {},
   "outputs": [],
   "source": [
    "# x.upper it wont change the string by itself"
   ]
  },
  {
   "cell_type": "code",
   "execution_count": 25,
   "id": "f17217be",
   "metadata": {},
   "outputs": [],
   "source": [
    "#when you call it as x.upper with no (), python understands as a \"help\" and explains it to you"
   ]
  },
  {
   "cell_type": "code",
   "execution_count": 26,
   "id": "ce149853",
   "metadata": {},
   "outputs": [
    {
     "data": {
      "text/plain": [
       "<function str.upper()>"
      ]
     },
     "execution_count": 26,
     "metadata": {},
     "output_type": "execute_result"
    }
   ],
   "source": [
    "x.upper"
   ]
  },
  {
   "cell_type": "code",
   "execution_count": 27,
   "id": "8c45c88f",
   "metadata": {},
   "outputs": [
    {
     "data": {
      "text/plain": [
       "['Hello', 'World']"
      ]
     },
     "execution_count": 27,
     "metadata": {},
     "output_type": "execute_result"
    }
   ],
   "source": [
    "x.split()"
   ]
  },
  {
   "cell_type": "code",
   "execution_count": 28,
   "id": "3ca5c329",
   "metadata": {},
   "outputs": [],
   "source": [
    "x = 'Hi this is a string'"
   ]
  },
  {
   "cell_type": "code",
   "execution_count": 29,
   "id": "531aba2b",
   "metadata": {},
   "outputs": [
    {
     "data": {
      "text/plain": [
       "['Hi', 'this', 'is', 'a', 'string']"
      ]
     },
     "execution_count": 29,
     "metadata": {},
     "output_type": "execute_result"
    }
   ],
   "source": [
    "x.split()"
   ]
  },
  {
   "cell_type": "code",
   "execution_count": 30,
   "id": "d22de3ef",
   "metadata": {},
   "outputs": [
    {
     "data": {
      "text/plain": [
       "['H', ' th', 's ', 's a str', 'ng']"
      ]
     },
     "execution_count": 30,
     "metadata": {},
     "output_type": "execute_result"
    }
   ],
   "source": [
    "x.split('i')"
   ]
  },
  {
   "cell_type": "code",
   "execution_count": 31,
   "id": "b64c4b3b",
   "metadata": {},
   "outputs": [],
   "source": [
    "#now formatting for printing"
   ]
  },
  {
   "cell_type": "code",
   "execution_count": 32,
   "id": "1344b785",
   "metadata": {},
   "outputs": [
    {
     "name": "stdout",
     "output_type": "stream",
     "text": [
      "Hello\n"
     ]
    }
   ],
   "source": [
    "print('Hello')"
   ]
  },
  {
   "cell_type": "code",
   "execution_count": null,
   "id": "c74ff5e0",
   "metadata": {},
   "outputs": [],
   "source": []
  }
 ],
 "metadata": {
  "kernelspec": {
   "display_name": "Python 3 (ipykernel)",
   "language": "python",
   "name": "python3"
  },
  "language_info": {
   "codemirror_mode": {
    "name": "ipython",
    "version": 3
   },
   "file_extension": ".py",
   "mimetype": "text/x-python",
   "name": "python",
   "nbconvert_exporter": "python",
   "pygments_lexer": "ipython3",
   "version": "3.9.7"
  }
 },
 "nbformat": 4,
 "nbformat_minor": 5
}
