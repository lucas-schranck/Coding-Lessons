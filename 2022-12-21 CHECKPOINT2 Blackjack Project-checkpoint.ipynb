{
 "cells": [
  {
   "cell_type": "code",
   "execution_count": 111,
   "id": "da6db266",
   "metadata": {},
   "outputs": [],
   "source": [
    "# CARD\n",
    "# SUIT,RANK,VALUE-int\n",
    "import random # for shuffling deck\n",
    "ranks = ('Two', 'Three', 'Four', 'Five', 'Six', 'Seven', 'Eight', 'Nine', 'Ten', 'Jack', 'Queen', 'King', 'Ace') # all global\n",
    "values = {'Two':2, 'Three':3, 'Four':4, 'Five':5, 'Six':6, 'Seven':7, 'Eight':8, 'Nine':9, 'Ten':10,\n",
    "         'Jack':10, 'Queen':10, 'King':10, 'Ace':11} # dictionary to link ranks with INT and not STR\n",
    "# I put all this here for readability"
   ]
  },
  {
   "cell_type": "code",
   "execution_count": 137,
   "id": "f96d0089",
   "metadata": {},
   "outputs": [],
   "source": [
    "# create card class first\n",
    "class Card: # no need for () as we won't use inheritance\n",
    "    \n",
    "    def __init__(self,rank,value): # no need for user to figure the value\n",
    "        self.rank = rank\n",
    "        self.value = value\n",
    "        \n",
    "    def __str__(self): # string method in case human wants to know what's happening\n",
    "        return self.rank\n",
    "    \n",
    "    def __int__(self): # making cards have values\n",
    "        return self.value"
   ]
  },
  {
   "cell_type": "code",
   "execution_count": 138,
   "id": "cb6541a5",
   "metadata": {},
   "outputs": [
    {
     "name": "stdout",
     "output_type": "stream",
     "text": [
      "dict_values([2, 3, 4, 5, 6, 7, 8, 9, 10, 10, 10, 10, 11])\n"
     ]
    }
   ],
   "source": [
    "print(values.values())"
   ]
  },
  {
   "cell_type": "code",
   "execution_count": 139,
   "id": "9fd5d2f5",
   "metadata": {},
   "outputs": [],
   "source": [
    "class Deck:\n",
    "    \n",
    "    def __init__(self): # instantiating; no need for all_cards as we don't need user input\n",
    "        \n",
    "        self.all_cards = []\n",
    "        \n",
    "        for rank in ranks:\n",
    "                # Creating the Card Object\n",
    "                created_card = Card(rank)\n",
    "                \n",
    "                # Below we fill the list with created cards\n",
    "                self.all_cards.append(created_card) #notice that everytime I create deck, they're in order\n",
    "                \n",
    "    def shuffle(self): # method to shuffle\n",
    "        \n",
    "        random.shuffle(self.all_cards) # I don't need to return this, because the method is internal in all_cards\n",
    "        \n",
    "    def deal_one(self): # method to deal cards\n",
    "        return self.all_cards.pop() # it will remove one card from all_cards and return\n",
    "        # this method could be any number of dealings, just repeat them until you get all deck (in this case, 52 times)."
   ]
  },
  {
   "cell_type": "code",
   "execution_count": 140,
   "id": "0710b378",
   "metadata": {},
   "outputs": [],
   "source": [
    "class Player:\n",
    "    \n",
    "    def __init__ (self,name):\n",
    "        \n",
    "        self.name = name\n",
    "        self.all_cards = [] # this to represent the hand\n",
    "        \n",
    "        \n",
    "    def remove_one(self): # method to remove cards from hand\n",
    "        return self.all_cards.pop(0) # has to be 0 so it pops from the beginning\n",
    "    \n",
    "    \n",
    "    def add_cards(self, new_cards):\n",
    "        # If new_cards is a list of card objects, use .extend\n",
    "        if type(new_cards) == type([]):\n",
    "            self.all_cards.extend(new_cards)\n",
    "        # if new_cards is not a list, it is a single card, use .append\n",
    "        else:\n",
    "            self.all_cards.append(new_cards)\n",
    "    \n",
    "    def __str__(self):\n",
    "        return f'Player {self.name} has {len(self.all_cards)} cards.'"
   ]
  },
  {
   "cell_type": "code",
   "execution_count": 141,
   "id": "e961aa9a",
   "metadata": {},
   "outputs": [],
   "source": [
    "class Dealer:\n",
    "    \n",
    "    def __init__ (self,name):\n",
    "        \n",
    "        self.name = name\n",
    "        self.all_cards = [] # this to represent the hand\n",
    "        \n",
    "        \n",
    "    def remove_one(self): # method to remove cards from hand\n",
    "        return self.all_cards.pop(0) # has to be 0 so it pops from the beginning\n",
    "    \n",
    "    \n",
    "    def add_cards(self, new_cards):\n",
    "        # If new_cards is a list of card objects, use .extend\n",
    "        if type(new_cards) == type([]):\n",
    "            self.all_cards.extend(new_cards)\n",
    "        # if new_cards is not a list, it is a single card, use .append\n",
    "        else:\n",
    "            self.all_cards.append(new_cards)\n",
    "    \n",
    "    def __str__(self):\n",
    "        return f'Dealer {self.name} has {len(self.all_cards)} cards.'    "
   ]
  },
  {
   "cell_type": "code",
   "execution_count": 142,
   "id": "d3ee3f03",
   "metadata": {},
   "outputs": [
    {
     "ename": "TypeError",
     "evalue": "__init__() missing 1 required positional argument: 'value'",
     "output_type": "error",
     "traceback": [
      "\u001b[1;31m---------------------------------------------------------------------------\u001b[0m",
      "\u001b[1;31mTypeError\u001b[0m                                 Traceback (most recent call last)",
      "\u001b[1;32m~\\AppData\\Local\\Temp/ipykernel_13208/1473536295.py\u001b[0m in \u001b[0;36m<module>\u001b[1;34m\u001b[0m\n\u001b[0;32m      3\u001b[0m \u001b[0mdealer\u001b[0m \u001b[1;33m=\u001b[0m \u001b[0mDealer\u001b[0m\u001b[1;33m(\u001b[0m\u001b[1;34m\"Dealer\"\u001b[0m\u001b[1;33m)\u001b[0m\u001b[1;33m\u001b[0m\u001b[1;33m\u001b[0m\u001b[0m\n\u001b[0;32m      4\u001b[0m \u001b[1;33m\u001b[0m\u001b[0m\n\u001b[1;32m----> 5\u001b[1;33m \u001b[0mnew_deck\u001b[0m \u001b[1;33m=\u001b[0m \u001b[0mDeck\u001b[0m\u001b[1;33m(\u001b[0m\u001b[1;33m)\u001b[0m\u001b[1;33m\u001b[0m\u001b[1;33m\u001b[0m\u001b[0m\n\u001b[0m\u001b[0;32m      6\u001b[0m \u001b[0mnew_deck\u001b[0m\u001b[1;33m.\u001b[0m\u001b[0mshuffle\u001b[0m\u001b[1;33m(\u001b[0m\u001b[1;33m)\u001b[0m \u001b[1;31m# Split the deck between them\u001b[0m\u001b[1;33m\u001b[0m\u001b[1;33m\u001b[0m\u001b[0m\n\u001b[0;32m      7\u001b[0m \u001b[1;33m\u001b[0m\u001b[0m\n",
      "\u001b[1;32m~\\AppData\\Local\\Temp/ipykernel_13208/2556999751.py\u001b[0m in \u001b[0;36m__init__\u001b[1;34m(self)\u001b[0m\n\u001b[0;32m      7\u001b[0m         \u001b[1;32mfor\u001b[0m \u001b[0mrank\u001b[0m \u001b[1;32min\u001b[0m \u001b[0mranks\u001b[0m\u001b[1;33m:\u001b[0m\u001b[1;33m\u001b[0m\u001b[1;33m\u001b[0m\u001b[0m\n\u001b[0;32m      8\u001b[0m                 \u001b[1;31m# Creating the Card Object\u001b[0m\u001b[1;33m\u001b[0m\u001b[1;33m\u001b[0m\u001b[0m\n\u001b[1;32m----> 9\u001b[1;33m                 \u001b[0mcreated_card\u001b[0m \u001b[1;33m=\u001b[0m \u001b[0mCard\u001b[0m\u001b[1;33m(\u001b[0m\u001b[0mrank\u001b[0m\u001b[1;33m)\u001b[0m\u001b[1;33m\u001b[0m\u001b[1;33m\u001b[0m\u001b[0m\n\u001b[0m\u001b[0;32m     10\u001b[0m \u001b[1;33m\u001b[0m\u001b[0m\n\u001b[0;32m     11\u001b[0m                 \u001b[1;31m# Below we fill the list with created cards\u001b[0m\u001b[1;33m\u001b[0m\u001b[1;33m\u001b[0m\u001b[0m\n",
      "\u001b[1;31mTypeError\u001b[0m: __init__() missing 1 required positional argument: 'value'"
     ]
    }
   ],
   "source": [
    "# GAME SETUP\n",
    "player_one = Player(\"One\")\n",
    "dealer = Dealer(\"Dealer\")\n",
    "\n",
    "new_deck = Deck()\n",
    "new_deck.shuffle() # Split the deck between them\n",
    "\n",
    "for x in range(2): # this because starting hand is by default 2 cards\n",
    "    player_one.add_cards(new_deck.deal_one())\n",
    "    dealer.add_cards(new_deck.deal_one())"
   ]
  },
  {
   "cell_type": "code",
   "execution_count": 122,
   "id": "c5984e58",
   "metadata": {},
   "outputs": [
    {
     "data": {
      "text/plain": [
       "2"
      ]
     },
     "execution_count": 122,
     "metadata": {},
     "output_type": "execute_result"
    }
   ],
   "source": [
    "len(dealer.all_cards) # checking if it worked"
   ]
  },
  {
   "cell_type": "code",
   "execution_count": 123,
   "id": "2fc82355",
   "metadata": {},
   "outputs": [
    {
     "data": {
      "text/plain": [
       "2"
      ]
     },
     "execution_count": 123,
     "metadata": {},
     "output_type": "execute_result"
    }
   ],
   "source": [
    "len(player_one.all_cards)"
   ]
  },
  {
   "cell_type": "code",
   "execution_count": 124,
   "id": "5afe804b",
   "metadata": {},
   "outputs": [],
   "source": [
    "game_on = True # to make sure we start with the game \"online\""
   ]
  },
  {
   "cell_type": "code",
   "execution_count": 125,
   "id": "76ae1e99",
   "metadata": {},
   "outputs": [
    {
     "name": "stdout",
     "output_type": "stream",
     "text": [
      "Five\n"
     ]
    }
   ],
   "source": [
    "print(player_one.all_cards[0])"
   ]
  },
  {
   "cell_type": "code",
   "execution_count": 136,
   "id": "7e89314b",
   "metadata": {},
   "outputs": [
    {
     "ename": "AttributeError",
     "evalue": "'list' object has no attribute 'values'",
     "output_type": "error",
     "traceback": [
      "\u001b[1;31m---------------------------------------------------------------------------\u001b[0m",
      "\u001b[1;31mAttributeError\u001b[0m                            Traceback (most recent call last)",
      "\u001b[1;32m~\\AppData\\Local\\Temp/ipykernel_13208/2736085155.py\u001b[0m in \u001b[0;36m<module>\u001b[1;34m\u001b[0m\n\u001b[1;32m----> 1\u001b[1;33m \u001b[0mprint\u001b[0m\u001b[1;33m(\u001b[0m\u001b[0mplayer_one\u001b[0m\u001b[1;33m.\u001b[0m\u001b[0mall_cards\u001b[0m\u001b[1;33m.\u001b[0m\u001b[0mvalues\u001b[0m\u001b[1;33m(\u001b[0m\u001b[1;33m)\u001b[0m\u001b[1;33m)\u001b[0m \u001b[1;31m# checking for value numbers\u001b[0m\u001b[1;33m\u001b[0m\u001b[1;33m\u001b[0m\u001b[0m\n\u001b[0m",
      "\u001b[1;31mAttributeError\u001b[0m: 'list' object has no attribute 'values'"
     ]
    }
   ],
   "source": [
    "print(player_one.all_cards.values()) # checking for value numbers"
   ]
  },
  {
   "cell_type": "code",
   "execution_count": 62,
   "id": "3fa73898",
   "metadata": {},
   "outputs": [
    {
     "ename": "SyntaxError",
     "evalue": "invalid syntax (Temp/ipykernel_13208/3830776744.py, line 3)",
     "output_type": "error",
     "traceback": [
      "\u001b[1;36m  File \u001b[1;32m\"C:\\Users\\User\\AppData\\Local\\Temp/ipykernel_13208/3830776744.py\"\u001b[1;36m, line \u001b[1;32m3\u001b[0m\n\u001b[1;33m    if sum(player_one.all_cards.[0].value + player_one.all_cards.[1].value + player_one.all_cards.[2].value + player_one.all_cards.[3].value + player_one.all_cards.[4].value + player_one.all_cards.[5].value + ) > 21:\u001b[0m\n\u001b[1;37m                                ^\u001b[0m\n\u001b[1;31mSyntaxError\u001b[0m\u001b[1;31m:\u001b[0m invalid syntax\n"
     ]
    }
   ],
   "source": [
    "while game_on:\n",
    "    \n",
    "    if sum(player_one.all_cards.[0].value) > 21:\n",
    "        print(f'Player has busted! Dealer wins.')\n",
    "        game_on = False\n",
    "        break\n",
    "              \n",
    "              \n",
    "    elif sum(player_one.all_cards.[0].value) <= 21:\n",
    "        hitorstay = ''\n",
    "        if hitorstay != 'Hit' or 'Stay':\n",
    "            hitorstay = input('Do you want to Hit or Stay? ')\n",
    "        elif hitorstay == 'Hit':\n",
    "             player_one.add_cards(player_one_cards)\n",
    "        else:\n",
    "            player_hand = sum(player_one.all_cards.value)"
   ]
  },
  {
   "cell_type": "code",
   "execution_count": null,
   "id": "5926b034",
   "metadata": {},
   "outputs": [],
   "source": []
  }
 ],
 "metadata": {
  "kernelspec": {
   "display_name": "Python 3 (ipykernel)",
   "language": "python",
   "name": "python3"
  },
  "language_info": {
   "codemirror_mode": {
    "name": "ipython",
    "version": 3
   },
   "file_extension": ".py",
   "mimetype": "text/x-python",
   "name": "python",
   "nbconvert_exporter": "python",
   "pygments_lexer": "ipython3",
   "version": "3.9.7"
  }
 },
 "nbformat": 4,
 "nbformat_minor": 5
}
