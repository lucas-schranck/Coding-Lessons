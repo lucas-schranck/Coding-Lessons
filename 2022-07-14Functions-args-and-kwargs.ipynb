{
 "cells": [
  {
   "cell_type": "code",
   "execution_count": 1,
   "id": "1e1a193e",
   "metadata": {},
   "outputs": [],
   "source": [
    "def myfunc(a,b):\n",
    "    # returns 5% of the sum of a and b\n",
    "    return sum((a,b)) * 0.05"
   ]
  },
  {
   "cell_type": "code",
   "execution_count": 2,
   "id": "619764d1",
   "metadata": {},
   "outputs": [
    {
     "data": {
      "text/plain": [
       "5.0"
      ]
     },
     "execution_count": 2,
     "metadata": {},
     "output_type": "execute_result"
    }
   ],
   "source": [
    "myfunc(40,60)"
   ]
  },
  {
   "cell_type": "code",
   "execution_count": 5,
   "id": "f5515cf4",
   "metadata": {},
   "outputs": [],
   "source": [
    "def myfunc(*args): # this * lets you add as many arguments as you want. No need for infinite arguments (a,b,c,d,e,...)\n",
    "    return sum(args) * 0.05 "
   ]
  },
  {
   "cell_type": "code",
   "execution_count": 4,
   "id": "ea97f294",
   "metadata": {},
   "outputs": [
    {
     "data": {
      "text/plain": [
       "15.0"
      ]
     },
     "execution_count": 4,
     "metadata": {},
     "output_type": "execute_result"
    }
   ],
   "source": [
    "myfunc(40,50,60,70,80)"
   ]
  },
  {
   "cell_type": "code",
   "execution_count": 6,
   "id": "32dc2f79",
   "metadata": {},
   "outputs": [],
   "source": [
    "def myfunc2(*args): # this will return tuple\n",
    "    for item in args:\n",
    "        print(item)"
   ]
  },
  {
   "cell_type": "code",
   "execution_count": 7,
   "id": "3007c4ff",
   "metadata": {},
   "outputs": [
    {
     "name": "stdout",
     "output_type": "stream",
     "text": [
      "40\n",
      "30\n",
      "22\n",
      "21\n",
      "18\n",
      "15\n"
     ]
    }
   ],
   "source": [
    "myfunc2(40,30,22,21,18,15)"
   ]
  },
  {
   "cell_type": "code",
   "execution_count": 12,
   "id": "b24771ac",
   "metadata": {},
   "outputs": [],
   "source": [
    "def myfunc3(**kwargs): # this will return a dictionary\n",
    "    if 'fruit' in kwargs:\n",
    "        print('My fruit of choice is {}'.format(kwargs))\n",
    "    else:\n",
    "        print('I did not find any fruit here')"
   ]
  },
  {
   "cell_type": "code",
   "execution_count": 17,
   "id": "cd4d21ef",
   "metadata": {},
   "outputs": [
    {
     "name": "stdout",
     "output_type": "stream",
     "text": [
      "My fruit of choice is apple\n"
     ]
    }
   ],
   "source": [
    "myfunc3(fruit='apple')"
   ]
  },
  {
   "cell_type": "code",
   "execution_count": 16,
   "id": "b98ca2bb",
   "metadata": {},
   "outputs": [
    {
     "name": "stdout",
     "output_type": "stream",
     "text": [
      "My fruit of choice is apple\n"
     ]
    }
   ],
   "source": [
    "myfunc3(fruit='apple', veggie = 'lettuce')"
   ]
  },
  {
   "cell_type": "code",
   "execution_count": 18,
   "id": "70667172",
   "metadata": {},
   "outputs": [],
   "source": [
    "def myfunc4(*args,**kwargs):\n",
    "    \n",
    "    print('I would like {} {}'.format(args[0],kwargs['food']))"
   ]
  },
  {
   "cell_type": "code",
   "execution_count": 19,
   "id": "802432d9",
   "metadata": {},
   "outputs": [
    {
     "name": "stdout",
     "output_type": "stream",
     "text": [
      "I would like 10eggs\n"
     ]
    }
   ],
   "source": [
    "myfunc4(10,20,30,fruit='orange', food='eggs',animal='dog')"
   ]
  },
  {
   "cell_type": "code",
   "execution_count": 23,
   "id": "4e6df6d3",
   "metadata": {},
   "outputs": [],
   "source": [
    "def myfunc4(*args,**kwargs):\n",
    "    \n",
    "    print(args)\n",
    "    print(kwargs)\n",
    "    print('I would like {} {}'.format(args[0],kwargs['food'])) # NOW WE CAN SEE WHAT IS INDEXING OR NOT INDEXING"
   ]
  },
  {
   "cell_type": "code",
   "execution_count": 24,
   "id": "9178e055",
   "metadata": {},
   "outputs": [
    {
     "name": "stdout",
     "output_type": "stream",
     "text": [
      "(10, 20, 30)\n",
      "{'fruit': 'orange', 'food': 'eggs', 'animal': 'dog'}\n",
      "I would like 10 eggs\n"
     ]
    }
   ],
   "source": [
    "myfunc4(10,20,30,fruit='orange', food='eggs',animal='dog')"
   ]
  },
  {
   "cell_type": "code",
   "execution_count": null,
   "id": "5cb04d4b",
   "metadata": {},
   "outputs": [],
   "source": []
  }
 ],
 "metadata": {
  "kernelspec": {
   "display_name": "Python 3 (ipykernel)",
   "language": "python",
   "name": "python3"
  },
  "language_info": {
   "codemirror_mode": {
    "name": "ipython",
    "version": 3
   },
   "file_extension": ".py",
   "mimetype": "text/x-python",
   "name": "python",
   "nbconvert_exporter": "python",
   "pygments_lexer": "ipython3",
   "version": "3.9.7"
  }
 },
 "nbformat": 4,
 "nbformat_minor": 5
}
