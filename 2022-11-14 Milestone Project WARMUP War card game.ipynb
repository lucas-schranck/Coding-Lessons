{
 "cells": [
  {
   "cell_type": "code",
   "execution_count": 1,
   "id": "5790f7ac",
   "metadata": {},
   "outputs": [],
   "source": [
    "# CARD\n",
    "# SUIT,RANK,VALUE-int\n",
    "import random # for shuffling deck\n",
    "suits = ('Hearts', 'Diamonds', 'Spades', 'Clubs') # saving as Tuple; I don't want to change this\n",
    "ranks = ('Two', 'Three', 'Four', 'Five', 'Six', 'Seven', 'Eight', 'Nine', 'Ten', 'Jack', 'Queen', 'King', 'Ace') # all global\n",
    "values = {'Two':2, 'Three':3, 'Four':4, 'Five':5, 'Six':6, 'Seven':7, 'Eight':8, 'Nine':9, 'Ten':10,\n",
    "         'Jack':11, 'Queen':12, 'King':13, 'Ace':14} # dictionary to link ranks with INT and not STR\n",
    "# I put all this here for readability"
   ]
  },
  {
   "cell_type": "code",
   "execution_count": 2,
   "id": "41b0c931",
   "metadata": {},
   "outputs": [],
   "source": [
    "# create card class first\n",
    "class Card: # no need for () as we won't use inheritance\n",
    "    \n",
    "    def __init__(self,suit,rank): # no need for user to figure the value\n",
    "        self.suit = suit\n",
    "        self.rank = rank\n",
    "        self.value = values[rank]\n",
    "        \n",
    "    def __str__(self): # string method in case human wants to know what's happening\n",
    "        return self.rank + \" of \" + self.suit"
   ]
  },
  {
   "cell_type": "code",
   "execution_count": 3,
   "id": "9adbe7ef",
   "metadata": {},
   "outputs": [],
   "source": [
    "three_of_clubs = Card('Clubs', \"Three\") # this is case sensitive"
   ]
  },
  {
   "cell_type": "code",
   "execution_count": 4,
   "id": "55c8d6c4",
   "metadata": {},
   "outputs": [
    {
     "data": {
      "text/plain": [
       "3"
      ]
     },
     "execution_count": 4,
     "metadata": {},
     "output_type": "execute_result"
    }
   ],
   "source": [
    "three_of_clubs.value"
   ]
  },
  {
   "cell_type": "code",
   "execution_count": 5,
   "id": "89609f30",
   "metadata": {},
   "outputs": [],
   "source": [
    "two_hearts = Card(\"Hearts\",\"Two\") # assigning values to class"
   ]
  },
  {
   "cell_type": "code",
   "execution_count": 6,
   "id": "52b52150",
   "metadata": {},
   "outputs": [
    {
     "data": {
      "text/plain": [
       "<__main__.Card at 0x244645f1d90>"
      ]
     },
     "execution_count": 6,
     "metadata": {},
     "output_type": "execute_result"
    }
   ],
   "source": [
    "two_hearts # checking if stored"
   ]
  },
  {
   "cell_type": "code",
   "execution_count": 7,
   "id": "36f0d484",
   "metadata": {},
   "outputs": [
    {
     "name": "stdout",
     "output_type": "stream",
     "text": [
      "Two of Hearts\n"
     ]
    }
   ],
   "source": [
    "print(two_hearts) # here's where __str method comes"
   ]
  },
  {
   "cell_type": "code",
   "execution_count": 8,
   "id": "f082a230",
   "metadata": {},
   "outputs": [
    {
     "data": {
      "text/plain": [
       "'Hearts'"
      ]
     },
     "execution_count": 8,
     "metadata": {},
     "output_type": "execute_result"
    }
   ],
   "source": [
    "two_hearts.suit"
   ]
  },
  {
   "cell_type": "code",
   "execution_count": 9,
   "id": "57b82e79",
   "metadata": {},
   "outputs": [
    {
     "data": {
      "text/plain": [
       "'Two'"
      ]
     },
     "execution_count": 9,
     "metadata": {},
     "output_type": "execute_result"
    }
   ],
   "source": [
    "two_hearts.rank # this is STR and I need INT"
   ]
  },
  {
   "cell_type": "code",
   "execution_count": 10,
   "id": "dd07e540",
   "metadata": {},
   "outputs": [
    {
     "data": {
      "text/plain": [
       "{'Two': 2,\n",
       " 'Three': 3,\n",
       " 'Four': 4,\n",
       " 'Five': 5,\n",
       " 'Six': 6,\n",
       " 'Seven': 7,\n",
       " 'Eight': 8,\n",
       " 'Nine': 9,\n",
       " 'Ten': 10,\n",
       " 'Jack': 11,\n",
       " 'Queen': 12,\n",
       " 'King': 13,\n",
       " 'Ace': 14}"
      ]
     },
     "execution_count": 10,
     "metadata": {},
     "output_type": "execute_result"
    }
   ],
   "source": [
    "values # checking if all correct"
   ]
  },
  {
   "cell_type": "code",
   "execution_count": 11,
   "id": "d4077bbe",
   "metadata": {},
   "outputs": [
    {
     "data": {
      "text/plain": [
       "2"
      ]
     },
     "execution_count": 11,
     "metadata": {},
     "output_type": "execute_result"
    }
   ],
   "source": [
    "values[two_hearts.rank] # checking rank"
   ]
  },
  {
   "cell_type": "code",
   "execution_count": 12,
   "id": "74a1f9be",
   "metadata": {},
   "outputs": [
    {
     "data": {
      "text/plain": [
       "True"
      ]
     },
     "execution_count": 12,
     "metadata": {},
     "output_type": "execute_result"
    }
   ],
   "source": [
    "two_hearts.value < three_of_clubs.value # I need .value to get INT values"
   ]
  },
  {
   "cell_type": "code",
   "execution_count": 13,
   "id": "2a39a622",
   "metadata": {},
   "outputs": [],
   "source": [
    "# >>>>>>>>>> CREATING DECK CLASS NOW <<<<< TO DO LIST\n",
    "\n",
    "\n",
    "# Instantiate a new deck\n",
    "# Create all 52 cards\n",
    "# Hold as a list of Card Obj\n",
    "# Shuffle using .shuffle() from import random\n",
    "# Deal cards from the Deck Obj\n",
    "# Pop method from cards list"
   ]
  },
  {
   "cell_type": "code",
   "execution_count": 14,
   "id": "f9e23cd8",
   "metadata": {},
   "outputs": [],
   "source": [
    "class Deck:\n",
    "    \n",
    "    def __init__(self): # instantiating; no need for all_cards as we don't need user input\n",
    "        \n",
    "        self.all_cards = []\n",
    "        \n",
    "        for suit in suits:\n",
    "            for rank in ranks:\n",
    "                # Creating the Card Object\n",
    "                created_card = Card(suit,rank)\n",
    "                \n",
    "                # Below we fill the list with created cards\n",
    "                self.all_cards.append(created_card) #notice that everytime I create deck, they're in order\n",
    "                \n",
    "    def shuffle(self): # method to shuffle\n",
    "        \n",
    "        random.shuffle(self.all_cards) # I don't need to return this, because the method is internal in all_cards\n",
    "        \n",
    "    def deal_one(self): # method to deal cards\n",
    "        return self.all_cards.pop() # it will remove one card from all_cards and return\n",
    "        # this method could be any number of dealings, just repeat them until you get all deck (in this case, 52 times)."
   ]
  },
  {
   "cell_type": "code",
   "execution_count": 15,
   "id": "dd627fb2",
   "metadata": {},
   "outputs": [],
   "source": [
    "new_deck = Deck()"
   ]
  },
  {
   "cell_type": "code",
   "execution_count": 16,
   "id": "4851c1aa",
   "metadata": {},
   "outputs": [
    {
     "data": {
      "text/plain": [
       "[<__main__.Card at 0x2446460e220>,\n",
       " <__main__.Card at 0x2446460e1f0>,\n",
       " <__main__.Card at 0x2446460e190>,\n",
       " <__main__.Card at 0x2446460ea90>,\n",
       " <__main__.Card at 0x2446460eb50>,\n",
       " <__main__.Card at 0x2446460ec70>,\n",
       " <__main__.Card at 0x2446460e0d0>,\n",
       " <__main__.Card at 0x2446460e0a0>,\n",
       " <__main__.Card at 0x2446460e880>,\n",
       " <__main__.Card at 0x2446460e040>,\n",
       " <__main__.Card at 0x2446460e100>,\n",
       " <__main__.Card at 0x2446460e2e0>,\n",
       " <__main__.Card at 0x2446460e310>,\n",
       " <__main__.Card at 0x2446460e370>,\n",
       " <__main__.Card at 0x2446460e280>,\n",
       " <__main__.Card at 0x2446460e700>,\n",
       " <__main__.Card at 0x2446460ed30>,\n",
       " <__main__.Card at 0x2446460e730>,\n",
       " <__main__.Card at 0x2446460edc0>,\n",
       " <__main__.Card at 0x2446460ed60>,\n",
       " <__main__.Card at 0x2446460efd0>,\n",
       " <__main__.Card at 0x2446460e460>,\n",
       " <__main__.Card at 0x2446460e4c0>,\n",
       " <__main__.Card at 0x2446460e580>,\n",
       " <__main__.Card at 0x2446460e640>,\n",
       " <__main__.Card at 0x2446460e6a0>,\n",
       " <__main__.Card at 0x2446460ef10>,\n",
       " <__main__.Card at 0x2446460e7f0>,\n",
       " <__main__.Card at 0x2446460e790>,\n",
       " <__main__.Card at 0x244645e21c0>,\n",
       " <__main__.Card at 0x244645e2520>,\n",
       " <__main__.Card at 0x244645e2370>,\n",
       " <__main__.Card at 0x244645e2190>,\n",
       " <__main__.Card at 0x244645e2c40>,\n",
       " <__main__.Card at 0x244645e2580>,\n",
       " <__main__.Card at 0x244645e2070>,\n",
       " <__main__.Card at 0x244645e2c10>,\n",
       " <__main__.Card at 0x244645e24f0>,\n",
       " <__main__.Card at 0x244645e2160>,\n",
       " <__main__.Card at 0x244645e2a90>,\n",
       " <__main__.Card at 0x244645f1d60>,\n",
       " <__main__.Card at 0x244645f14f0>,\n",
       " <__main__.Card at 0x244645f1a90>,\n",
       " <__main__.Card at 0x244645f19a0>,\n",
       " <__main__.Card at 0x244645f12e0>,\n",
       " <__main__.Card at 0x244645f15e0>,\n",
       " <__main__.Card at 0x244645f18b0>,\n",
       " <__main__.Card at 0x244645f1b80>,\n",
       " <__main__.Card at 0x244645f1f40>,\n",
       " <__main__.Card at 0x244645f19d0>,\n",
       " <__main__.Card at 0x244645f1940>,\n",
       " <__main__.Card at 0x244645f1f70>]"
      ]
     },
     "execution_count": 16,
     "metadata": {},
     "output_type": "execute_result"
    }
   ],
   "source": [
    "new_deck.all_cards # checking if correctly stored in memory"
   ]
  },
  {
   "cell_type": "code",
   "execution_count": 17,
   "id": "f7a858b6",
   "metadata": {},
   "outputs": [],
   "source": [
    "first_card = new_deck.all_cards[0] # checking if correctly assigned. This should be two of hearts"
   ]
  },
  {
   "cell_type": "code",
   "execution_count": 18,
   "id": "5435784b",
   "metadata": {},
   "outputs": [
    {
     "name": "stdout",
     "output_type": "stream",
     "text": [
      "Two of Hearts\n"
     ]
    }
   ],
   "source": [
    "print(first_card)"
   ]
  },
  {
   "cell_type": "code",
   "execution_count": 19,
   "id": "f182578d",
   "metadata": {},
   "outputs": [],
   "source": [
    "last_card = new_deck.all_cards[-1] # checking if correctly assigned. This should be Ace of Clubs"
   ]
  },
  {
   "cell_type": "code",
   "execution_count": 20,
   "id": "63c6a633",
   "metadata": {},
   "outputs": [
    {
     "name": "stdout",
     "output_type": "stream",
     "text": [
      "Ace of Clubs\n"
     ]
    }
   ],
   "source": [
    "print(last_card)"
   ]
  },
  {
   "cell_type": "code",
   "execution_count": 21,
   "id": "3415675f",
   "metadata": {},
   "outputs": [
    {
     "name": "stdout",
     "output_type": "stream",
     "text": [
      "Two of Hearts\n",
      "Three of Hearts\n",
      "Four of Hearts\n",
      "Five of Hearts\n",
      "Six of Hearts\n",
      "Seven of Hearts\n",
      "Eight of Hearts\n",
      "Nine of Hearts\n",
      "Ten of Hearts\n",
      "Jack of Hearts\n",
      "Queen of Hearts\n",
      "King of Hearts\n",
      "Ace of Hearts\n",
      "Two of Diamonds\n",
      "Three of Diamonds\n",
      "Four of Diamonds\n",
      "Five of Diamonds\n",
      "Six of Diamonds\n",
      "Seven of Diamonds\n",
      "Eight of Diamonds\n",
      "Nine of Diamonds\n",
      "Ten of Diamonds\n",
      "Jack of Diamonds\n",
      "Queen of Diamonds\n",
      "King of Diamonds\n",
      "Ace of Diamonds\n",
      "Two of Spades\n",
      "Three of Spades\n",
      "Four of Spades\n",
      "Five of Spades\n",
      "Six of Spades\n",
      "Seven of Spades\n",
      "Eight of Spades\n",
      "Nine of Spades\n",
      "Ten of Spades\n",
      "Jack of Spades\n",
      "Queen of Spades\n",
      "King of Spades\n",
      "Ace of Spades\n",
      "Two of Clubs\n",
      "Three of Clubs\n",
      "Four of Clubs\n",
      "Five of Clubs\n",
      "Six of Clubs\n",
      "Seven of Clubs\n",
      "Eight of Clubs\n",
      "Nine of Clubs\n",
      "Ten of Clubs\n",
      "Jack of Clubs\n",
      "Queen of Clubs\n",
      "King of Clubs\n",
      "Ace of Clubs\n"
     ]
    }
   ],
   "source": [
    "for card_object in new_deck.all_cards: # now checking STR for them, \n",
    "    print(card_object)"
   ]
  },
  {
   "cell_type": "code",
   "execution_count": 22,
   "id": "7fa036f7",
   "metadata": {},
   "outputs": [],
   "source": [
    "new_deck.shuffle() # calling shuffle to see if it words"
   ]
  },
  {
   "cell_type": "code",
   "execution_count": 23,
   "id": "c970f4c1",
   "metadata": {},
   "outputs": [
    {
     "name": "stdout",
     "output_type": "stream",
     "text": [
      "Nine of Hearts\n",
      "Two of Clubs\n",
      "Jack of Spades\n",
      "Two of Diamonds\n",
      "Five of Diamonds\n",
      "Eight of Diamonds\n",
      "Jack of Hearts\n",
      "Ace of Hearts\n",
      "Ten of Spades\n",
      "King of Diamonds\n",
      "Six of Clubs\n",
      "Seven of Diamonds\n",
      "Seven of Spades\n",
      "Four of Hearts\n",
      "Three of Hearts\n",
      "Five of Clubs\n",
      "Queen of Diamonds\n",
      "Jack of Diamonds\n",
      "Eight of Spades\n",
      "Six of Hearts\n",
      "Eight of Hearts\n",
      "Ten of Hearts\n",
      "Queen of Clubs\n",
      "Nine of Clubs\n",
      "Ace of Spades\n",
      "Queen of Hearts\n",
      "Ace of Diamonds\n",
      "Three of Clubs\n",
      "Four of Spades\n",
      "Two of Spades\n",
      "Nine of Diamonds\n",
      "Ace of Clubs\n",
      "Seven of Clubs\n",
      "Eight of Clubs\n",
      "Three of Diamonds\n",
      "Six of Spades\n",
      "Five of Spades\n",
      "Four of Clubs\n",
      "Five of Hearts\n",
      "Ten of Diamonds\n",
      "King of Spades\n",
      "Ten of Clubs\n",
      "Seven of Hearts\n",
      "Queen of Spades\n",
      "Four of Diamonds\n",
      "Nine of Spades\n",
      "Jack of Clubs\n",
      "Six of Diamonds\n",
      "King of Hearts\n",
      "Two of Hearts\n",
      "Three of Spades\n",
      "King of Clubs\n"
     ]
    }
   ],
   "source": [
    "for card_object in new_deck.all_cards: # now checking STR for them after shuffle\n",
    "    print(card_object)"
   ]
  },
  {
   "cell_type": "code",
   "execution_count": 24,
   "id": "f3707544",
   "metadata": {},
   "outputs": [],
   "source": [
    "mycard = new_deck.deal_one()"
   ]
  },
  {
   "cell_type": "code",
   "execution_count": 25,
   "id": "4f8eee4d",
   "metadata": {},
   "outputs": [
    {
     "name": "stdout",
     "output_type": "stream",
     "text": [
      "King of Clubs\n"
     ]
    }
   ],
   "source": [
    "print(mycard)"
   ]
  },
  {
   "cell_type": "code",
   "execution_count": 26,
   "id": "e51434b6",
   "metadata": {},
   "outputs": [
    {
     "data": {
      "text/plain": [
       "51"
      ]
     },
     "execution_count": 26,
     "metadata": {},
     "output_type": "execute_result"
    }
   ],
   "source": [
    "len(new_deck.all_cards) # checking if deck has poped one card (should have 52 if complete)"
   ]
  },
  {
   "cell_type": "code",
   "execution_count": 27,
   "id": "a4cff77b",
   "metadata": {},
   "outputs": [],
   "source": [
    "# >>>>>>>>>> CREATING PLAYER CLASS CLASS NOW <<<<< TO DO LIST\n",
    "\n",
    "\n",
    "# Instantiate the class\n",
    "# Will be used to hold a player's current list of cards(deck).\n",
    "# Should be able to add or remove cards from their hand (list of cards obj).\n",
    "# Player should be able to add a single or multiple cards to their hand (list).\n",
    "# Last, we need to translating a deck/hand of cards with a top and bottom, in a Python list; \n",
    "# using pop(to remove first) and append (to add last) as in a deck with top and bottom\n",
    "# .extend method merges list to list; if you .append, you get nested list\n",
    "# e.g. [a,b] .append to [x,z] would be [a,b[x,z]] whereas .extend would get [a,b,x,z]. "
   ]
  },
  {
   "cell_type": "code",
   "execution_count": 28,
   "id": "791c788b",
   "metadata": {},
   "outputs": [],
   "source": [
    "class Player:\n",
    "    \n",
    "    def __init__ (self,name):\n",
    "        \n",
    "        self.name = name\n",
    "        self.all_cards = [] # this to represent the hand\n",
    "        \n",
    "        \n",
    "    def remove_one(self): # method to remove cards from hand\n",
    "        return self.all_cards.pop(0) # has to be 0 so it pops from the beginning\n",
    "    \n",
    "    \n",
    "    def add_cards(self, new_cards):\n",
    "        # If new_cards is a list of card objects, use .extend\n",
    "        if type(new_cards) == type([]):\n",
    "            self.all_cards.extend(new_cards)\n",
    "        # if new_cards is not a list, it is a single card, use .append\n",
    "        else:\n",
    "            self.all_cards.append(new_cards)\n",
    "    \n",
    "    def __str__(self):\n",
    "        return f'Player {self.name} has {len(self.all_cards)} cards.'"
   ]
  },
  {
   "cell_type": "code",
   "execution_count": 29,
   "id": "cb7ff0f3",
   "metadata": {},
   "outputs": [],
   "source": [
    "new_player = Player('Jose')"
   ]
  },
  {
   "cell_type": "code",
   "execution_count": 30,
   "id": "29cc6ea7",
   "metadata": {},
   "outputs": [
    {
     "name": "stdout",
     "output_type": "stream",
     "text": [
      "Player Jose has 0 cards.\n"
     ]
    }
   ],
   "source": [
    "print(new_player) # checkinf if instantiation worked"
   ]
  },
  {
   "cell_type": "code",
   "execution_count": 31,
   "id": "fade17d1",
   "metadata": {},
   "outputs": [],
   "source": [
    "new_player.add_cards(mycard)"
   ]
  },
  {
   "cell_type": "code",
   "execution_count": 32,
   "id": "f8a6f80b",
   "metadata": {},
   "outputs": [
    {
     "name": "stdout",
     "output_type": "stream",
     "text": [
      "King of Clubs\n"
     ]
    }
   ],
   "source": [
    "print(mycard)"
   ]
  },
  {
   "cell_type": "code",
   "execution_count": 33,
   "id": "49828204",
   "metadata": {},
   "outputs": [
    {
     "name": "stdout",
     "output_type": "stream",
     "text": [
      "Player Jose has 1 cards.\n"
     ]
    }
   ],
   "source": [
    "print(new_player) # checking if player got the card"
   ]
  },
  {
   "cell_type": "code",
   "execution_count": 34,
   "id": "cbbdd822",
   "metadata": {},
   "outputs": [
    {
     "name": "stdout",
     "output_type": "stream",
     "text": [
      "King of Clubs\n"
     ]
    }
   ],
   "source": [
    "print(new_player.all_cards[0])"
   ]
  },
  {
   "cell_type": "code",
   "execution_count": 35,
   "id": "0d15b573",
   "metadata": {},
   "outputs": [],
   "source": [
    "new_player.add_cards([mycard,mycard,mycard,mycard,mycard,mycard])"
   ]
  },
  {
   "cell_type": "code",
   "execution_count": 36,
   "id": "36b74379",
   "metadata": {},
   "outputs": [
    {
     "name": "stdout",
     "output_type": "stream",
     "text": [
      "Player Jose has 7 cards.\n"
     ]
    }
   ],
   "source": [
    "print(new_player) # checking if player got the cards"
   ]
  },
  {
   "cell_type": "code",
   "execution_count": 37,
   "id": "cb7fcc38",
   "metadata": {},
   "outputs": [
    {
     "data": {
      "text/plain": [
       "<__main__.Card at 0x244645f1940>"
      ]
     },
     "execution_count": 37,
     "metadata": {},
     "output_type": "execute_result"
    }
   ],
   "source": [
    "new_player.remove_one() # checking if I can remove properly"
   ]
  },
  {
   "cell_type": "code",
   "execution_count": 38,
   "id": "d56d2dfb",
   "metadata": {},
   "outputs": [
    {
     "name": "stdout",
     "output_type": "stream",
     "text": [
      "Player Jose has 6 cards.\n"
     ]
    }
   ],
   "source": [
    "print(new_player) # number decreased by 1"
   ]
  },
  {
   "cell_type": "code",
   "execution_count": 39,
   "id": "1dd4789e",
   "metadata": {},
   "outputs": [],
   "source": [
    "# Note; logic and classes are created together, before the coding starts. We think about them simultaneously.\n",
    "# Example; we could use table class instead of player class, etc.\n",
    "\n",
    "\n",
    "   # Let's create the logic\n",
    "    \n",
    "#1 In this case; we will use: playerone-playertwo both connected to deck, and split deck between them.\n",
    "#2 Check if they still have cards left, game_on = true or game_on = false.\n",
    "#3 outside loop while game_on; take one card from both players, compare, and add both of them to the winner\n",
    "#3.1 if the draw is ==, we should keep adding to a list, therefore we have a while_war (because we might have many wars happen).\n",
    "#4 Keep on doing it until game_on = false or use break in game_on"
   ]
  },
  {
   "cell_type": "code",
   "execution_count": 45,
   "id": "4605efe4",
   "metadata": {},
   "outputs": [],
   "source": [
    "# GAME SETUP\n",
    "player_one = Player(\"One\")\n",
    "player_two = Player(\"Two\") # Created two players\n",
    "\n",
    "new_deck = Deck()\n",
    "new_deck.shuffle() # Split the deck between them\n",
    "\n",
    "for x in range(26): # this because half of deck (52) equals 26, adding one card until 26\n",
    "    player_one.add_cards(new_deck.deal_one())\n",
    "    player_two.add_cards(new_deck.deal_one())\n"
   ]
  },
  {
   "cell_type": "code",
   "execution_count": 46,
   "id": "cd172dee",
   "metadata": {},
   "outputs": [
    {
     "data": {
      "text/plain": [
       "26"
      ]
     },
     "execution_count": 46,
     "metadata": {},
     "output_type": "execute_result"
    }
   ],
   "source": [
    "len(player_one.all_cards) # checking if it worked"
   ]
  },
  {
   "cell_type": "code",
   "execution_count": 47,
   "id": "f047724c",
   "metadata": {},
   "outputs": [],
   "source": [
    "game_on = True # to make sure we start with the game \"online\""
   ]
  },
  {
   "cell_type": "code",
   "execution_count": 48,
   "id": "af4b65b6",
   "metadata": {},
   "outputs": [
    {
     "name": "stdout",
     "output_type": "stream",
     "text": [
      "Round 1\n",
      "Player one wins the round. Player one played Six of Clubs, whereas player two played Two of Diamonds\n",
      "Round 2\n",
      "Player two wins the round. Player one played Three of Diamonds, whereas player two played Queen of Spades\n",
      "Round 3\n",
      "Player two wins the round. Player one played Seven of Clubs, whereas player two played Eight of Hearts\n",
      "Round 4\n",
      "Player two wins the round. Player one played Seven of Diamonds, whereas player two played Jack of Clubs\n",
      "Round 5\n",
      "Player one wins the round. Player one played Five of Hearts, whereas player two played Two of Hearts\n",
      "Round 6\n",
      "Player one wins the round. Player one played Jack of Spades, whereas player two played Four of Diamonds\n",
      "Round 7\n",
      "Player one wins the round. Player one played Ten of Clubs, whereas player two played Four of Clubs\n",
      "Round 8\n",
      "Player one wins the round. Player one played King of Spades, whereas player two played Eight of Diamonds\n",
      "Round 9\n",
      "Player two wins the round. Player one played Six of Diamonds, whereas player two played Ten of Hearts\n",
      "Round 10\n",
      "Player two wins the round. Player one played Eight of Clubs, whereas player two played Nine of Clubs\n",
      "Round 11\n",
      "Player one wins the round. Player one played Seven of Spades, whereas player two played Two of Clubs\n",
      "Round 12\n",
      "Player two wins the round. Player one played Ten of Spades, whereas player two played Queen of Diamonds\n",
      "Round 13\n",
      "Player one wins the round. Player one played Five of Diamonds, whereas player two played Two of Spades\n",
      "Round 14\n",
      "Player one wins the round. Player one played Nine of Hearts, whereas player two played Three of Hearts\n",
      "Round 15\n",
      "Player two wins the round. Player one played Six of Spades, whereas player two played Eight of Spades\n",
      "Round 16\n",
      "Player one wins the round. Player one played Jack of Hearts, whereas player two played Three of Clubs\n",
      "Round 17\n",
      "Player one wins the round. Player one played King of Diamonds, whereas player two played Ten of Diamonds\n",
      "Round 18\n",
      "WAR!\n",
      "Player two wins the round. Player one played Four of Spades, whereas player two played Six of Hearts\n",
      "Round 19\n",
      "Player two wins the round. Player one played Four of Hearts, whereas player two played Ace of Diamonds\n",
      "Round 20\n",
      "Player two wins the round. Player one played Three of Spades, whereas player two played Ace of Spades\n",
      "Round 21\n",
      "Player one wins the round. Player one played King of Clubs, whereas player two played Seven of Hearts\n",
      "Round 22\n",
      "Player one wins the round. Player one played Six of Clubs, whereas player two played Three of Diamonds\n",
      "Round 23\n",
      "Player two wins the round. Player one played Two of Diamonds, whereas player two played Queen of Spades\n",
      "Round 24\n",
      "Player two wins the round. Player one played Five of Hearts, whereas player two played Seven of Clubs\n",
      "Round 25\n",
      "Player two wins the round. Player one played Two of Hearts, whereas player two played Eight of Hearts\n",
      "Round 26\n",
      "Player one wins the round. Player one played Jack of Spades, whereas player two played Seven of Diamonds\n",
      "Round 27\n",
      "Player two wins the round. Player one played Four of Diamonds, whereas player two played Jack of Clubs\n",
      "Round 28\n",
      "Player one wins the round. Player one played Ten of Clubs, whereas player two played Six of Diamonds\n",
      "Round 29\n",
      "Player two wins the round. Player one played Four of Clubs, whereas player two played Ten of Hearts\n",
      "Round 30\n",
      "Player one wins the round. Player one played King of Spades, whereas player two played Eight of Clubs\n",
      "Round 31\n",
      "Player two wins the round. Player one played Eight of Diamonds, whereas player two played Nine of Clubs\n",
      "Round 32\n",
      "Player two wins the round. Player one played Seven of Spades, whereas player two played Ten of Spades\n",
      "Round 33\n",
      "Player two wins the round. Player one played Two of Clubs, whereas player two played Queen of Diamonds\n",
      "Round 34\n",
      "Player two wins the round. Player one played Five of Diamonds, whereas player two played Six of Spades\n",
      "Round 35\n",
      "Player two wins the round. Player one played Two of Spades, whereas player two played Eight of Spades\n",
      "Round 36\n",
      "Player one wins the round. Player one played Nine of Hearts, whereas player two played Five of Clubs\n",
      "Round 37\n",
      "Player two wins the round. Player one played Three of Hearts, whereas player two played Nine of Spades\n",
      "Round 38\n",
      "Player two wins the round. Player one played Jack of Hearts, whereas player two played Queen of Hearts\n",
      "Round 39\n",
      "Player two wins the round. Player one played Three of Clubs, whereas player two played Queen of Clubs\n",
      "Round 40\n",
      "Player one wins the round. Player one played King of Diamonds, whereas player two played Nine of Diamonds\n",
      "Round 41\n",
      "Player one wins the round. Player one played Ten of Diamonds, whereas player two played Four of Spades\n",
      "Round 42\n",
      "Player one wins the round. Player one played King of Clubs, whereas player two played Five of Spades\n",
      "Round 43\n",
      "Player two wins the round. Player one played Seven of Hearts, whereas player two played King of Hearts\n",
      "Round 44\n",
      "Player two wins the round. Player one played Six of Clubs, whereas player two played Ace of Clubs\n",
      "Round 45\n",
      "Player two wins the round. Player one played Three of Diamonds, whereas player two played Jack of Diamonds\n",
      "Round 46\n",
      "Player two wins the round. Player one played Jack of Spades, whereas player two played Ace of Hearts\n",
      "Round 47\n",
      "Player one wins the round. Player one played Seven of Diamonds, whereas player two played Six of Hearts\n",
      "Round 48\n",
      "Player one wins the round. Player one played Ten of Clubs, whereas player two played Four of Hearts\n",
      "Round 49\n",
      "Player two wins the round. Player one played Six of Diamonds, whereas player two played Ace of Diamonds\n",
      "Round 50\n",
      "Player one wins the round. Player one played King of Spades, whereas player two played Three of Spades\n",
      "Round 51\n",
      "Player two wins the round. Player one played Eight of Clubs, whereas player two played Ace of Spades\n",
      "Round 52\n",
      "Player one wins the round. Player one played Nine of Hearts, whereas player two played Two of Diamonds\n",
      "Round 53\n",
      "Player two wins the round. Player one played Five of Clubs, whereas player two played Queen of Spades\n",
      "Round 54\n",
      "Player one wins the round. Player one played King of Diamonds, whereas player two played Five of Hearts\n",
      "Round 55\n",
      "Player one wins the round. Player one played Nine of Diamonds, whereas player two played Seven of Clubs\n",
      "Round 56\n",
      "Player one wins the round. Player one played Ten of Diamonds, whereas player two played Two of Hearts\n",
      "Round 57\n",
      "Player two wins the round. Player one played Four of Spades, whereas player two played Eight of Hearts\n",
      "Round 58\n",
      "Player one wins the round. Player one played King of Clubs, whereas player two played Four of Diamonds\n",
      "Round 59\n",
      "Player two wins the round. Player one played Five of Spades, whereas player two played Jack of Clubs\n",
      "Round 60\n",
      "Player one wins the round. Player one played Seven of Diamonds, whereas player two played Four of Clubs\n",
      "Round 61\n",
      "Player two wins the round. Player one played Six of Hearts, whereas player two played Ten of Hearts\n",
      "Round 62\n",
      "Player one wins the round. Player one played Ten of Clubs, whereas player two played Eight of Diamonds\n",
      "Round 63\n",
      "Player two wins the round. Player one played Four of Hearts, whereas player two played Nine of Clubs\n",
      "Round 64\n",
      "Player one wins the round. Player one played King of Spades, whereas player two played Seven of Spades\n",
      "Round 65\n",
      "Player two wins the round. Player one played Three of Spades, whereas player two played Ten of Spades\n",
      "Round 66\n",
      "Player one wins the round. Player one played Nine of Hearts, whereas player two played Two of Clubs\n",
      "Round 67\n",
      "Player two wins the round. Player one played Two of Diamonds, whereas player two played Queen of Diamonds\n",
      "Round 68\n",
      "Player one wins the round. Player one played King of Diamonds, whereas player two played Five of Diamonds\n",
      "Round 69\n",
      "Player two wins the round. Player one played Five of Hearts, whereas player two played Six of Spades\n",
      "Round 70\n",
      "Player one wins the round. Player one played Nine of Diamonds, whereas player two played Two of Spades\n",
      "Round 71\n",
      "Player two wins the round. Player one played Seven of Clubs, whereas player two played Eight of Spades\n",
      "Round 72\n",
      "Player one wins the round. Player one played Ten of Diamonds, whereas player two played Three of Hearts\n",
      "Round 73\n",
      "Player two wins the round. Player one played Two of Hearts, whereas player two played Nine of Spades\n",
      "Round 74\n",
      "Player one wins the round. Player one played King of Clubs, whereas player two played Jack of Hearts\n",
      "Round 75\n",
      "Player two wins the round. Player one played Four of Diamonds, whereas player two played Queen of Hearts\n",
      "Round 76\n",
      "Player one wins the round. Player one played Seven of Diamonds, whereas player two played Three of Clubs\n",
      "Round 77\n",
      "Player two wins the round. Player one played Four of Clubs, whereas player two played Queen of Clubs\n",
      "Round 78\n",
      "Player one wins the round. Player one played Ten of Clubs, whereas player two played Seven of Hearts\n",
      "Round 79\n",
      "Player two wins the round. Player one played Eight of Diamonds, whereas player two played King of Hearts\n",
      "Round 80\n",
      "Player one wins the round. Player one played King of Spades, whereas player two played Six of Clubs\n",
      "Round 81\n",
      "Player two wins the round. Player one played Seven of Spades, whereas player two played Ace of Clubs\n",
      "Round 82\n",
      "Player one wins the round. Player one played Nine of Hearts, whereas player two played Three of Diamonds\n",
      "Round 83\n",
      "Player two wins the round. Player one played Two of Clubs, whereas player two played Jack of Diamonds\n",
      "Round 84\n",
      "Player one wins the round. Player one played King of Diamonds, whereas player two played Jack of Spades\n",
      "Round 85\n",
      "Player two wins the round. Player one played Five of Diamonds, whereas player two played Ace of Hearts\n",
      "Round 86\n",
      "Player one wins the round. Player one played Nine of Diamonds, whereas player two played Six of Diamonds\n",
      "Round 87\n",
      "Player two wins the round. Player one played Two of Spades, whereas player two played Ace of Diamonds\n",
      "Round 88\n",
      "Player one wins the round. Player one played Ten of Diamonds, whereas player two played Eight of Clubs\n",
      "Round 89\n",
      "Player two wins the round. Player one played Three of Hearts, whereas player two played Ace of Spades\n",
      "Round 90\n",
      "Player one wins the round. Player one played King of Clubs, whereas player two played Five of Clubs\n",
      "Round 91\n",
      "Player two wins the round. Player one played Jack of Hearts, whereas player two played Queen of Spades\n",
      "Round 92\n",
      "Player one wins the round. Player one played Seven of Diamonds, whereas player two played Four of Spades\n",
      "Round 93\n",
      "Player two wins the round. Player one played Three of Clubs, whereas player two played Eight of Hearts\n",
      "Round 94\n",
      "Player one wins the round. Player one played Ten of Clubs, whereas player two played Five of Spades\n",
      "Round 95\n",
      "Player two wins the round. Player one played Seven of Hearts, whereas player two played Jack of Clubs\n",
      "Round 96\n",
      "Player one wins the round. Player one played King of Spades, whereas player two played Six of Hearts\n",
      "Round 97\n",
      "Player two wins the round. Player one played Six of Clubs, whereas player two played Ten of Hearts\n",
      "Round 98\n",
      "Player one wins the round. Player one played Nine of Hearts, whereas player two played Four of Hearts\n",
      "Round 99\n",
      "Player two wins the round. Player one played Three of Diamonds, whereas player two played Nine of Clubs\n",
      "Round 100\n",
      "Player one wins the round. Player one played King of Diamonds, whereas player two played Three of Spades\n",
      "Round 101\n",
      "Player one wins the round. Player one played Jack of Spades, whereas player two played Ten of Spades\n",
      "Round 102\n",
      "Player one wins the round. Player one played Nine of Diamonds, whereas player two played Two of Diamonds\n",
      "Round 103\n",
      "Player two wins the round. Player one played Six of Diamonds, whereas player two played Queen of Diamonds\n",
      "Round 104\n",
      "Player one wins the round. Player one played Ten of Diamonds, whereas player two played Five of Hearts\n",
      "Round 105\n",
      "Player one wins the round. Player one played Eight of Clubs, whereas player two played Six of Spades\n",
      "Round 106\n",
      "Player one wins the round. Player one played King of Clubs, whereas player two played Seven of Clubs\n",
      "Round 107\n",
      "Player two wins the round. Player one played Five of Clubs, whereas player two played Eight of Spades\n",
      "Round 108\n",
      "Player one wins the round. Player one played Seven of Diamonds, whereas player two played Two of Hearts\n",
      "Round 109\n",
      "Player two wins the round. Player one played Four of Spades, whereas player two played Nine of Spades\n",
      "Round 110\n",
      "Player one wins the round. Player one played Ten of Clubs, whereas player two played Four of Diamonds\n",
      "Round 111\n",
      "Player two wins the round. Player one played Five of Spades, whereas player two played Queen of Hearts\n",
      "Round 112\n",
      "Player one wins the round. Player one played King of Spades, whereas player two played Four of Clubs\n",
      "Round 113\n",
      "Player two wins the round. Player one played Six of Hearts, whereas player two played Queen of Clubs\n",
      "Round 114\n",
      "Player one wins the round. Player one played Nine of Hearts, whereas player two played Eight of Diamonds\n",
      "Round 115\n",
      "Player two wins the round. Player one played Four of Hearts, whereas player two played King of Hearts\n",
      "Round 116\n",
      "Player one wins the round. Player one played King of Diamonds, whereas player two played Seven of Spades\n",
      "Round 117\n",
      "Player two wins the round. Player one played Three of Spades, whereas player two played Ace of Clubs\n",
      "Round 118\n",
      "Player one wins the round. Player one played Jack of Spades, whereas player two played Two of Clubs\n",
      "Round 119\n",
      "Player two wins the round. Player one played Ten of Spades, whereas player two played Jack of Diamonds\n",
      "Round 120\n",
      "Player one wins the round. Player one played Nine of Diamonds, whereas player two played Five of Diamonds\n",
      "Round 121\n",
      "Player two wins the round. Player one played Two of Diamonds, whereas player two played Ace of Hearts\n",
      "Round 122\n",
      "Player one wins the round. Player one played Ten of Diamonds, whereas player two played Two of Spades\n",
      "Round 123\n",
      "Player two wins the round. Player one played Five of Hearts, whereas player two played Ace of Diamonds\n",
      "Round 124\n",
      "Player one wins the round. Player one played Eight of Clubs, whereas player two played Three of Hearts\n",
      "Round 125\n",
      "Player two wins the round. Player one played Six of Spades, whereas player two played Ace of Spades\n",
      "Round 126\n",
      "Player one wins the round. Player one played King of Clubs, whereas player two played Jack of Hearts\n",
      "Round 127\n",
      "Player two wins the round. Player one played Seven of Clubs, whereas player two played Queen of Spades\n",
      "Round 128\n",
      "Player one wins the round. Player one played Seven of Diamonds, whereas player two played Three of Clubs\n",
      "Round 129\n",
      "Player two wins the round. Player one played Two of Hearts, whereas player two played Eight of Hearts\n",
      "Round 130\n",
      "Player one wins the round. Player one played Ten of Clubs, whereas player two played Seven of Hearts\n",
      "Round 131\n",
      "Player two wins the round. Player one played Four of Diamonds, whereas player two played Jack of Clubs\n",
      "Round 132\n",
      "Player one wins the round. Player one played King of Spades, whereas player two played Six of Clubs\n",
      "Round 133\n",
      "Player two wins the round. Player one played Four of Clubs, whereas player two played Ten of Hearts\n",
      "Round 134\n",
      "Player one wins the round. Player one played Nine of Hearts, whereas player two played Three of Diamonds\n",
      "Round 135\n",
      "Player two wins the round. Player one played Eight of Diamonds, whereas player two played Nine of Clubs\n",
      "Round 136\n",
      "Player one wins the round. Player one played King of Diamonds, whereas player two played Six of Diamonds\n",
      "Round 137\n",
      "Player two wins the round. Player one played Seven of Spades, whereas player two played Queen of Diamonds\n",
      "Round 138\n",
      "Player one wins the round. Player one played Jack of Spades, whereas player two played Five of Clubs\n",
      "Round 139\n",
      "Player two wins the round. Player one played Two of Clubs, whereas player two played Eight of Spades\n",
      "Round 140\n",
      "Player one wins the round. Player one played Nine of Diamonds, whereas player two played Four of Spades\n",
      "Round 141\n",
      "Player two wins the round. Player one played Five of Diamonds, whereas player two played Nine of Spades\n",
      "Round 142\n",
      "Player one wins the round. Player one played Ten of Diamonds, whereas player two played Five of Spades\n",
      "Round 143\n",
      "Player two wins the round. Player one played Two of Spades, whereas player two played Queen of Hearts\n",
      "Round 144\n",
      "Player one wins the round. Player one played Eight of Clubs, whereas player two played Six of Hearts\n",
      "Round 145\n",
      "Player two wins the round. Player one played Three of Hearts, whereas player two played Queen of Clubs\n",
      "Round 146\n",
      "Player one wins the round. Player one played King of Clubs, whereas player two played Four of Hearts\n",
      "Round 147\n",
      "Player two wins the round. Player one played Jack of Hearts, whereas player two played King of Hearts\n",
      "Round 148\n",
      "Player one wins the round. Player one played Seven of Diamonds, whereas player two played Three of Spades\n",
      "Round 149\n",
      "Player two wins the round. Player one played Three of Clubs, whereas player two played Ace of Clubs\n",
      "Round 150\n",
      "WAR!\n",
      "Player two wins the round. Player one played Three of Diamonds, whereas player two played Ace of Diamonds\n",
      "Round 151\n",
      "Player one wins the round. Player one played King of Diamonds, whereas player two played Six of Spades\n",
      "Round 152\n",
      "Player two wins the round. Player one played Six of Diamonds, whereas player two played Ace of Spades\n",
      "Round 153\n",
      "Player one wins the round. Player one played Jack of Spades, whereas player two played Seven of Clubs\n",
      "Round 154\n",
      "Player two wins the round. Player one played Five of Clubs, whereas player two played Queen of Spades\n",
      "Round 155\n",
      "Player one wins the round. Player one played Nine of Diamonds, whereas player two played Two of Hearts\n",
      "Round 156\n",
      "Player two wins the round. Player one played Four of Spades, whereas player two played Eight of Hearts\n",
      "Round 157\n",
      "Player one wins the round. Player one played Ten of Diamonds, whereas player two played Four of Diamonds\n",
      "Round 158\n",
      "Player two wins the round. Player one played Five of Spades, whereas player two played Jack of Clubs\n",
      "Round 159\n",
      "Player one wins the round. Player one played Eight of Clubs, whereas player two played Four of Clubs\n",
      "Round 160\n",
      "Player two wins the round. Player one played Six of Hearts, whereas player two played Ten of Hearts\n",
      "Round 161\n",
      "Player one wins the round. Player one played King of Clubs, whereas player two played Eight of Diamonds\n",
      "Round 162\n",
      "Player two wins the round. Player one played Four of Hearts, whereas player two played Nine of Clubs\n",
      "Round 163\n",
      "WAR!\n",
      "Player two wins the round. Player one played Seven of Clubs, whereas player two played Nine of Spades\n",
      "Round 164\n",
      "Player one wins the round. Player one played Nine of Diamonds, whereas player two played Two of Spades\n",
      "Round 165\n",
      "Player two wins the round. Player one played Two of Hearts, whereas player two played Queen of Hearts\n",
      "Round 166\n",
      "Player one wins the round. Player one played Ten of Diamonds, whereas player two played Three of Hearts\n",
      "Round 167\n",
      "Player two wins the round. Player one played Four of Diamonds, whereas player two played Queen of Clubs\n",
      "Round 168\n",
      "Player two wins the round. Player one played Eight of Clubs, whereas player two played Jack of Hearts\n",
      "Round 169\n",
      "Player two wins the round. Player one played Four of Clubs, whereas player two played King of Hearts\n",
      "Round 170\n",
      "Player one wins the round. Player one played King of Clubs, whereas player two played Three of Clubs\n",
      "Round 171\n",
      "Player two wins the round. Player one played Eight of Diamonds, whereas player two played Ace of Clubs\n",
      "Round 172\n",
      "Player two wins the round. Player one played Nine of Diamonds, whereas player two played Ten of Clubs\n",
      "Round 173\n",
      "Player two wins the round. Player one played Two of Spades, whereas player two played Seven of Hearts\n",
      "Round 174\n",
      "Player two wins the round. Player one played Ten of Diamonds, whereas player two played King of Spades\n",
      "Round 175\n",
      "Player two wins the round. Player one played Three of Hearts, whereas player two played Six of Clubs\n",
      "Round 176\n",
      "Player one wins the round. Player one played King of Clubs, whereas player two played Nine of Hearts\n",
      "Round 177\n",
      "WAR!\n",
      "Player one can't declare WAR!\n",
      "Player two wins.\n",
      "Round 178\n",
      "Player one wins the round. Player one played King of Clubs, whereas player two played Ten of Spades\n",
      "Round 179\n",
      "Player two wins the round. Player one played Nine of Hearts, whereas player two played Jack of Diamonds\n",
      "Round 180\n",
      "Player one wins the round. Player one played King of Clubs, whereas player two played Two of Diamonds\n",
      "Round 181\n",
      "Player two wins the round. Player one played Ten of Spades, whereas player two played Ace of Hearts\n",
      "Round 182\n",
      "Player one wins the round. Player one played King of Clubs, whereas player two played Five of Hearts\n",
      "Round 183\n",
      "Player two wins the round. Player one played Two of Diamonds, whereas player two played Ace of Diamonds\n",
      "Round 184\n",
      "Player one wins the round. Player one played King of Clubs, whereas player two played Six of Diamonds\n",
      "Round 185\n",
      "Player two wins the round. Player one played Five of Hearts, whereas player two played Ace of Spades\n",
      "Round 186\n",
      "Player one wins the round. Player one played King of Clubs, whereas player two played Five of Clubs\n",
      "Round 187\n",
      "Player two wins the round. Player one played Six of Diamonds, whereas player two played Queen of Spades\n",
      "Round 188\n",
      "Player one wins the round. Player one played King of Clubs, whereas player two played Four of Spades\n",
      "Round 189\n",
      "Player two wins the round. Player one played Five of Clubs, whereas player two played Eight of Hearts\n",
      "Round 190\n",
      "Player one wins the round. Player one played King of Clubs, whereas player two played Five of Spades\n",
      "Round 191\n",
      "Player two wins the round. Player one played Four of Spades, whereas player two played Jack of Clubs\n",
      "Round 192\n",
      "Player one wins the round. Player one played King of Clubs, whereas player two played Six of Hearts\n",
      "Round 193\n",
      "Player two wins the round. Player one played Five of Spades, whereas player two played Ten of Hearts\n",
      "Round 194\n",
      "Player one wins the round. Player one played King of Clubs, whereas player two played Four of Hearts\n",
      "Round 195\n",
      "Player two wins the round. Player one played Six of Hearts, whereas player two played Nine of Clubs\n",
      "Round 196\n",
      "Player one wins the round. Player one played King of Clubs, whereas player two played Seven of Diamonds\n",
      "Round 197\n",
      "Player one wins the round. Player one played Four of Hearts, whereas player two played Three of Spades\n",
      "Round 198\n",
      "WAR!\n",
      "Player one can't declare WAR!\n",
      "Player two wins.\n",
      "Round 199\n",
      "Player one wins the round. Player one played Seven of Diamonds, whereas player two played Six of Spades\n",
      "Round 200\n",
      "Player two wins the round. Player one played Four of Hearts, whereas player two played Jack of Spades\n",
      "Round 201\n",
      "Player two wins the round. Player one played Three of Spades, whereas player two played Seven of Clubs\n",
      "Round 202\n",
      "WAR!\n",
      "Player one can't declare WAR!\n",
      "Player two wins.\n",
      "Round 203\n",
      "Player two wins the round. Player one played Six of Spades, whereas player two played Queen of Diamonds\n",
      "Round 204\n",
      "Player one is out of cards! Player two wins!\n"
     ]
    }
   ],
   "source": [
    "round_num = 0 # to check how many rounds to finish the match\n",
    "while game_on:\n",
    "    \n",
    "    round_num += 1\n",
    "    print(f\"Round {round_num}\")\n",
    "\n",
    "    \n",
    "    if len(player_one.all_cards) == 0: # checking if anyone loses\n",
    "        print('Player one is out of cards! Player two wins!')\n",
    "        game_on = False # remember this ends the game\n",
    "        break\n",
    "        \n",
    "    if len(player_two.all_cards) == 0:\n",
    "        print('Player two is out of cards! Player one wins!')\n",
    "        game_on = False\n",
    "        break\n",
    "    # no loses, so we do this:    \n",
    "    # Start a new round, we take a card from their hand(allcards) and put them on the table (below).\n",
    "    player_one_cards = [] # cards that player leave on the table (cards in play), whereas all_cards are all of them\n",
    "    player_one_cards.append(player_one.remove_one())\n",
    "    \n",
    "    \n",
    "    player_two_cards = [] # same as above, remember this will reset cards in table (assigning variable again).\n",
    "    player_two_cards.append(player_two.remove_one())\n",
    "    \n",
    "    \n",
    "    # while at_war\n",
    "    at_war = True\n",
    "    \n",
    "    while at_war: # checking to end it\n",
    "        # if player one wins\n",
    "        if player_one_cards[-1].value > player_two_cards[-1].value: # checking for the last cards using -1            \n",
    "\n",
    "            print(f\"Player one wins the round. Player one played {player_one_cards[-1]}, whereas player two played {player_two_cards[-1]}\")\n",
    "            player_one.add_cards(player_one_cards) # add cards can be plural no problem\n",
    "            player_one.add_cards(player_two_cards)\n",
    "            \n",
    "            at_war = False # finish loop go back to beginning\n",
    "        # if player two wins    \n",
    "        elif player_one_cards[-1].value < player_two_cards[-1].value:\n",
    "            \n",
    "            print(f\"Player two wins the round. Player one played {player_one_cards[-1]}, whereas player two played {player_two_cards[-1]}\")\n",
    "            player_two.add_cards(player_one_cards) # player two is getting cards\n",
    "            player_two.add_cards(player_two_cards)\n",
    "            \n",
    "            at_war = False\n",
    "            \n",
    "        else:\n",
    "            print(\"WAR!\") # just to check if it happened\n",
    "            \n",
    "            if len(player_one.all_cards) < 5: # rule says if it's less than 5, player can't war\n",
    "                print(\"Player one can't declare WAR!\")\n",
    "                print(\"Player two wins.\")\n",
    "                game_one = False\n",
    "                break\n",
    "            \n",
    "            elif len(player_two.all_cards) < 5: # rule says if it's less than 5, player can't war\n",
    "                print(\"Player two can't declare WAR!\")\n",
    "                print(\"Player one wins.\")\n",
    "                game_one = False\n",
    "                break\n",
    "                \n",
    "            else:\n",
    "                for num in range(5):\n",
    "                    player_one_cards.append(player_one.remove_one())\n",
    "                    player_two_cards.append(player_two.remove_one())\n",
    "    "
   ]
  },
  {
   "cell_type": "code",
   "execution_count": null,
   "id": "eced88a0",
   "metadata": {},
   "outputs": [],
   "source": []
  }
 ],
 "metadata": {
  "kernelspec": {
   "display_name": "Python 3 (ipykernel)",
   "language": "python",
   "name": "python3"
  },
  "language_info": {
   "codemirror_mode": {
    "name": "ipython",
    "version": 3
   },
   "file_extension": ".py",
   "mimetype": "text/x-python",
   "name": "python",
   "nbconvert_exporter": "python",
   "pygments_lexer": "ipython3",
   "version": "3.9.7"
  }
 },
 "nbformat": 4,
 "nbformat_minor": 5
}
