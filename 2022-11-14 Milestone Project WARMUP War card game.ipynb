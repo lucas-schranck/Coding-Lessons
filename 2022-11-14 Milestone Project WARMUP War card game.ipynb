{
 "cells": [
  {
   "cell_type": "code",
   "execution_count": 47,
   "id": "5790f7ac",
   "metadata": {},
   "outputs": [],
   "source": [
    "# CARD\n",
    "# SUIT,RANK,VALUE-int\n",
    "import random # for shuffling deck\n",
    "suits = ('Hearts', 'Diamonds', 'Spades', 'Clubs') # saving as Tuple; I don't want to change this\n",
    "ranks = ('Two', 'Three', 'Four', 'Five', 'Six', 'Seven', 'Eight', 'Nine', 'Ten', 'Jack', 'Queen', 'King', 'Ace') # all global\n",
    "values = {'Two':2, 'Three':3, 'Four':4, 'Five':5, 'Six':6, 'Seven':7, 'Eight':8, 'Nine':9, 'Ten':10,\n",
    "         'Jack':11, 'Queen':12, 'King':13, 'Ace':14} # dictionary to link ranks with INT and not STR\n",
    "# I put all this here for readability"
   ]
  },
  {
   "cell_type": "code",
   "execution_count": 48,
   "id": "41b0c931",
   "metadata": {},
   "outputs": [],
   "source": [
    "# create card class first\n",
    "class Card: # no need for () as we won't use inheritance\n",
    "    \n",
    "    def __init__(self,suit,rank): # no need for user to figure the value\n",
    "        self.suit = suit\n",
    "        self.rank = rank\n",
    "        self.value = values[rank]\n",
    "        \n",
    "    def __str__(self): # string method in case human wants to know what's happening\n",
    "        return self.rank + \" of \" + self.suit"
   ]
  },
  {
   "cell_type": "code",
   "execution_count": 49,
   "id": "9adbe7ef",
   "metadata": {},
   "outputs": [],
   "source": [
    "three_of_clubs = Card('Clubs', \"Three\") # this is case sensitive"
   ]
  },
  {
   "cell_type": "code",
   "execution_count": 50,
   "id": "55c8d6c4",
   "metadata": {},
   "outputs": [
    {
     "data": {
      "text/plain": [
       "3"
      ]
     },
     "execution_count": 50,
     "metadata": {},
     "output_type": "execute_result"
    }
   ],
   "source": [
    "three_of_clubs.value"
   ]
  },
  {
   "cell_type": "code",
   "execution_count": 51,
   "id": "89609f30",
   "metadata": {},
   "outputs": [],
   "source": [
    "two_hearts = Card(\"Hearts\",\"Two\") # assigning values to class"
   ]
  },
  {
   "cell_type": "code",
   "execution_count": 52,
   "id": "52b52150",
   "metadata": {},
   "outputs": [
    {
     "data": {
      "text/plain": [
       "<__main__.Card at 0x26daa95e580>"
      ]
     },
     "execution_count": 52,
     "metadata": {},
     "output_type": "execute_result"
    }
   ],
   "source": [
    "two_hearts # checking if stored"
   ]
  },
  {
   "cell_type": "code",
   "execution_count": 53,
   "id": "36f0d484",
   "metadata": {},
   "outputs": [
    {
     "name": "stdout",
     "output_type": "stream",
     "text": [
      "Two of Hearts\n"
     ]
    }
   ],
   "source": [
    "print(two_hearts) # here's where __str method comes"
   ]
  },
  {
   "cell_type": "code",
   "execution_count": 54,
   "id": "f082a230",
   "metadata": {},
   "outputs": [
    {
     "data": {
      "text/plain": [
       "'Hearts'"
      ]
     },
     "execution_count": 54,
     "metadata": {},
     "output_type": "execute_result"
    }
   ],
   "source": [
    "two_hearts.suit"
   ]
  },
  {
   "cell_type": "code",
   "execution_count": 55,
   "id": "57b82e79",
   "metadata": {},
   "outputs": [
    {
     "data": {
      "text/plain": [
       "'Two'"
      ]
     },
     "execution_count": 55,
     "metadata": {},
     "output_type": "execute_result"
    }
   ],
   "source": [
    "two_hearts.rank # this is STR and I need INT"
   ]
  },
  {
   "cell_type": "code",
   "execution_count": 56,
   "id": "dd07e540",
   "metadata": {},
   "outputs": [
    {
     "data": {
      "text/plain": [
       "{'Two': 2,\n",
       " 'Three': 3,\n",
       " 'Four': 4,\n",
       " 'Five': 5,\n",
       " 'Six': 6,\n",
       " 'Seven': 7,\n",
       " 'Eight': 8,\n",
       " 'Nine': 9,\n",
       " 'Ten': 10,\n",
       " 'Jack': 11,\n",
       " 'Queen': 12,\n",
       " 'King': 13,\n",
       " 'Ace': 14}"
      ]
     },
     "execution_count": 56,
     "metadata": {},
     "output_type": "execute_result"
    }
   ],
   "source": [
    "values # checking if all correct"
   ]
  },
  {
   "cell_type": "code",
   "execution_count": 57,
   "id": "d4077bbe",
   "metadata": {},
   "outputs": [
    {
     "data": {
      "text/plain": [
       "2"
      ]
     },
     "execution_count": 57,
     "metadata": {},
     "output_type": "execute_result"
    }
   ],
   "source": [
    "values[two_hearts.rank] # checking rank"
   ]
  },
  {
   "cell_type": "code",
   "execution_count": 58,
   "id": "74a1f9be",
   "metadata": {},
   "outputs": [
    {
     "data": {
      "text/plain": [
       "True"
      ]
     },
     "execution_count": 58,
     "metadata": {},
     "output_type": "execute_result"
    }
   ],
   "source": [
    "two_hearts.value < three_of_clubs.value # I need .value to get INT values"
   ]
  },
  {
   "cell_type": "code",
   "execution_count": 59,
   "id": "2a39a622",
   "metadata": {},
   "outputs": [],
   "source": [
    "# >>>>>>>>>> CREATING DECK CLASS NOW <<<<< TO DO LIST\n",
    "\n",
    "\n",
    "# Instantiate a new deck\n",
    "# Create all 52 cards\n",
    "# Hold as a list of Card Obj\n",
    "# Shuffle using .shuffle() from import random\n",
    "# Deal cards from the Deck Obj\n",
    "# Pop method from cards list"
   ]
  },
  {
   "cell_type": "code",
   "execution_count": 85,
   "id": "f9e23cd8",
   "metadata": {},
   "outputs": [],
   "source": [
    "class Deck:\n",
    "    \n",
    "    def __init__(self): # instantiating; no need for all_cards as we don't need user input\n",
    "        \n",
    "        self.all_cards = []\n",
    "        \n",
    "        for suit in suits:\n",
    "            for rank in ranks:\n",
    "                # Creating the Card Object\n",
    "                created_card = Card(suit,rank)\n",
    "                \n",
    "                # Below we fill the list with created cards\n",
    "                self.all_cards.append(created_card) #notice that everytime I create deck, they're in order\n",
    "                \n",
    "    def shuffle(self): # method to shuffle\n",
    "        \n",
    "        random.shuffle(self.all_cards) # I don't need to return this, because the method is internal in all_cards\n",
    "        \n",
    "    def deal_one(self): # method to deal cards\n",
    "        return self.all_cards.pop() # it will remove one card from all_cards and return\n",
    "        # this method could be any number of dealings, just repeat them until you get all deck (in this case, 52 times)."
   ]
  },
  {
   "cell_type": "code",
   "execution_count": 86,
   "id": "dd627fb2",
   "metadata": {},
   "outputs": [],
   "source": [
    "new_deck = Deck()"
   ]
  },
  {
   "cell_type": "code",
   "execution_count": 87,
   "id": "4851c1aa",
   "metadata": {},
   "outputs": [
    {
     "data": {
      "text/plain": [
       "[<__main__.Card at 0x26daaa757c0>,\n",
       " <__main__.Card at 0x26daaa75790>,\n",
       " <__main__.Card at 0x26daaa75730>,\n",
       " <__main__.Card at 0x26daaa75820>,\n",
       " <__main__.Card at 0x26daaa75160>,\n",
       " <__main__.Card at 0x26daaa751c0>,\n",
       " <__main__.Card at 0x26daaa75190>,\n",
       " <__main__.Card at 0x26daaa75250>,\n",
       " <__main__.Card at 0x26daaa752b0>,\n",
       " <__main__.Card at 0x26daaa75fa0>,\n",
       " <__main__.Card at 0x26daaa75640>,\n",
       " <__main__.Card at 0x26daaa755b0>,\n",
       " <__main__.Card at 0x26daaa75550>,\n",
       " <__main__.Card at 0x26daaa754f0>,\n",
       " <__main__.Card at 0x26daaa75490>,\n",
       " <__main__.Card at 0x26daaa75430>,\n",
       " <__main__.Card at 0x26daaa753d0>,\n",
       " <__main__.Card at 0x26daaa75130>,\n",
       " <__main__.Card at 0x26daaa750d0>,\n",
       " <__main__.Card at 0x26daaa75070>,\n",
       " <__main__.Card at 0x26daa971580>,\n",
       " <__main__.Card at 0x26daa9718e0>,\n",
       " <__main__.Card at 0x26daa971670>,\n",
       " <__main__.Card at 0x26daa9713d0>,\n",
       " <__main__.Card at 0x26daa971730>,\n",
       " <__main__.Card at 0x26daa971280>,\n",
       " <__main__.Card at 0x26daa971c10>,\n",
       " <__main__.Card at 0x26daa971940>,\n",
       " <__main__.Card at 0x26daa8d90d0>,\n",
       " <__main__.Card at 0x26daa8d9310>,\n",
       " <__main__.Card at 0x26daa8d9490>,\n",
       " <__main__.Card at 0x26daa8d9610>,\n",
       " <__main__.Card at 0x26daa95e730>,\n",
       " <__main__.Card at 0x26daa95e850>,\n",
       " <__main__.Card at 0x26daa95e7f0>,\n",
       " <__main__.Card at 0x26daa95e760>,\n",
       " <__main__.Card at 0x26daa95e490>,\n",
       " <__main__.Card at 0x26daa95e4c0>,\n",
       " <__main__.Card at 0x26daaa724f0>,\n",
       " <__main__.Card at 0x26daaa722b0>,\n",
       " <__main__.Card at 0x26daaa72940>,\n",
       " <__main__.Card at 0x26daaa72250>,\n",
       " <__main__.Card at 0x26daaa72820>,\n",
       " <__main__.Card at 0x26daaa72430>,\n",
       " <__main__.Card at 0x26daaa72ac0>,\n",
       " <__main__.Card at 0x26daaa723d0>,\n",
       " <__main__.Card at 0x26daaa72f40>,\n",
       " <__main__.Card at 0x26daaa72d60>,\n",
       " <__main__.Card at 0x26daaa72730>,\n",
       " <__main__.Card at 0x26daaa72580>,\n",
       " <__main__.Card at 0x26daaa72850>,\n",
       " <__main__.Card at 0x26daaa72460>]"
      ]
     },
     "execution_count": 87,
     "metadata": {},
     "output_type": "execute_result"
    }
   ],
   "source": [
    "new_deck.all_cards # checking if correctly stored in memory"
   ]
  },
  {
   "cell_type": "code",
   "execution_count": 88,
   "id": "f7a858b6",
   "metadata": {},
   "outputs": [],
   "source": [
    "first_card = new_deck.all_cards[0] # checking if correctly assigned. This should be two of hearts"
   ]
  },
  {
   "cell_type": "code",
   "execution_count": 89,
   "id": "5435784b",
   "metadata": {},
   "outputs": [
    {
     "name": "stdout",
     "output_type": "stream",
     "text": [
      "Two of Hearts\n"
     ]
    }
   ],
   "source": [
    "print(first_card)"
   ]
  },
  {
   "cell_type": "code",
   "execution_count": 90,
   "id": "f182578d",
   "metadata": {},
   "outputs": [],
   "source": [
    "last_card = new_deck.all_cards[-1] # checking if correctly assigned. This should be Ace of Clubs"
   ]
  },
  {
   "cell_type": "code",
   "execution_count": 91,
   "id": "63c6a633",
   "metadata": {},
   "outputs": [
    {
     "name": "stdout",
     "output_type": "stream",
     "text": [
      "Ace of Clubs\n"
     ]
    }
   ],
   "source": [
    "print(last_card)"
   ]
  },
  {
   "cell_type": "code",
   "execution_count": 92,
   "id": "3415675f",
   "metadata": {},
   "outputs": [
    {
     "name": "stdout",
     "output_type": "stream",
     "text": [
      "Two of Hearts\n",
      "Three of Hearts\n",
      "Four of Hearts\n",
      "Five of Hearts\n",
      "Six of Hearts\n",
      "Seven of Hearts\n",
      "Eight of Hearts\n",
      "Nine of Hearts\n",
      "Ten of Hearts\n",
      "Jack of Hearts\n",
      "Queen of Hearts\n",
      "King of Hearts\n",
      "Ace of Hearts\n",
      "Two of Diamonds\n",
      "Three of Diamonds\n",
      "Four of Diamonds\n",
      "Five of Diamonds\n",
      "Six of Diamonds\n",
      "Seven of Diamonds\n",
      "Eight of Diamonds\n",
      "Nine of Diamonds\n",
      "Ten of Diamonds\n",
      "Jack of Diamonds\n",
      "Queen of Diamonds\n",
      "King of Diamonds\n",
      "Ace of Diamonds\n",
      "Two of Spades\n",
      "Three of Spades\n",
      "Four of Spades\n",
      "Five of Spades\n",
      "Six of Spades\n",
      "Seven of Spades\n",
      "Eight of Spades\n",
      "Nine of Spades\n",
      "Ten of Spades\n",
      "Jack of Spades\n",
      "Queen of Spades\n",
      "King of Spades\n",
      "Ace of Spades\n",
      "Two of Clubs\n",
      "Three of Clubs\n",
      "Four of Clubs\n",
      "Five of Clubs\n",
      "Six of Clubs\n",
      "Seven of Clubs\n",
      "Eight of Clubs\n",
      "Nine of Clubs\n",
      "Ten of Clubs\n",
      "Jack of Clubs\n",
      "Queen of Clubs\n",
      "King of Clubs\n",
      "Ace of Clubs\n"
     ]
    }
   ],
   "source": [
    "for card_object in new_deck.all_cards: # now checking STR for them, \n",
    "    print(card_object)"
   ]
  },
  {
   "cell_type": "code",
   "execution_count": 93,
   "id": "7fa036f7",
   "metadata": {},
   "outputs": [],
   "source": [
    "new_deck.shuffle() # calling shuffle to see if it words"
   ]
  },
  {
   "cell_type": "code",
   "execution_count": 94,
   "id": "c970f4c1",
   "metadata": {},
   "outputs": [
    {
     "name": "stdout",
     "output_type": "stream",
     "text": [
      "Seven of Clubs\n",
      "Ten of Clubs\n",
      "Three of Clubs\n",
      "Eight of Clubs\n",
      "Ten of Spades\n",
      "Three of Hearts\n",
      "Ten of Diamonds\n",
      "Five of Hearts\n",
      "Eight of Spades\n",
      "King of Spades\n",
      "Ace of Hearts\n",
      "Seven of Spades\n",
      "Queen of Diamonds\n",
      "Three of Diamonds\n",
      "Four of Diamonds\n",
      "Eight of Hearts\n",
      "Jack of Hearts\n",
      "Nine of Hearts\n",
      "Queen of Hearts\n",
      "Six of Clubs\n",
      "Two of Diamonds\n",
      "Nine of Clubs\n",
      "King of Clubs\n",
      "Five of Clubs\n",
      "Eight of Diamonds\n",
      "Nine of Diamonds\n",
      "Two of Spades\n",
      "Four of Hearts\n",
      "Six of Diamonds\n",
      "Jack of Spades\n",
      "Five of Diamonds\n",
      "Seven of Hearts\n",
      "Two of Hearts\n",
      "Queen of Spades\n",
      "Four of Spades\n",
      "King of Hearts\n",
      "Seven of Diamonds\n",
      "Four of Clubs\n",
      "Ace of Spades\n",
      "Ace of Diamonds\n",
      "Nine of Spades\n",
      "Six of Hearts\n",
      "Ten of Hearts\n",
      "Three of Spades\n",
      "Two of Clubs\n",
      "Six of Spades\n",
      "King of Diamonds\n",
      "Jack of Diamonds\n",
      "Ace of Clubs\n",
      "Jack of Clubs\n",
      "Five of Spades\n",
      "Queen of Clubs\n"
     ]
    }
   ],
   "source": [
    "for card_object in new_deck.all_cards: # now checking STR for them after shuffle\n",
    "    print(card_object)"
   ]
  },
  {
   "cell_type": "code",
   "execution_count": 95,
   "id": "f3707544",
   "metadata": {},
   "outputs": [],
   "source": [
    "mycard = new_deck.deal_one()"
   ]
  },
  {
   "cell_type": "code",
   "execution_count": 96,
   "id": "4f8eee4d",
   "metadata": {},
   "outputs": [
    {
     "name": "stdout",
     "output_type": "stream",
     "text": [
      "Queen of Clubs\n"
     ]
    }
   ],
   "source": [
    "print(mycard)"
   ]
  },
  {
   "cell_type": "code",
   "execution_count": 98,
   "id": "e51434b6",
   "metadata": {},
   "outputs": [
    {
     "data": {
      "text/plain": [
       "51"
      ]
     },
     "execution_count": 98,
     "metadata": {},
     "output_type": "execute_result"
    }
   ],
   "source": [
    "len(new_deck.all_cards) # checking if deck has poped one card (should have 52 if complete)"
   ]
  },
  {
   "cell_type": "code",
   "execution_count": 99,
   "id": "a4cff77b",
   "metadata": {},
   "outputs": [],
   "source": [
    "# >>>>>>>>>> CREATING PLAYER CLASS CLASS NOW <<<<< TO DO LIST\n",
    "\n",
    "\n",
    "# Instantiate the class\n",
    "# Will be used to hold a player's current list of cards(deck).\n",
    "# Should be able to add or remove cards from their hand (list of cards obj).\n",
    "# Player should be able to add a single or multiple cards to their hand (list).\n",
    "# Last, we need to translating a deck/hand of cards with a top and bottom, in a Python list; \n",
    "# using pop(to remove first) and append (to add last) as in a deck with top and bottom\n",
    "# .extend method merges list to list; if you .append, you get nested list\n",
    "# e.g. [a,b] .append to [x,z] would be [a,b[x,z]] whereas .extend would get [a,b,x,z]. "
   ]
  },
  {
   "cell_type": "code",
   "execution_count": 107,
   "id": "791c788b",
   "metadata": {},
   "outputs": [],
   "source": [
    "class Player:\n",
    "    \n",
    "    def __init__ (self,name):\n",
    "        \n",
    "        self.name = name\n",
    "        self.all_cards = [] # this to represent the hand\n",
    "        \n",
    "        \n",
    "    def remove_one(self): # method to remove cards from hand\n",
    "        return self.all_cards.pop(0) # has to be 0 so it pops from the beginning\n",
    "    \n",
    "    \n",
    "    def add_cards(self, new_cards):\n",
    "        # If new_cards is a list of card objects, use .extend\n",
    "        if type(new_cards) == type([]):\n",
    "            self.all_cards.extend(new_cards)\n",
    "        # if new_cards is not a list, it is a single card, use .append\n",
    "        else:\n",
    "            self.all_cards.append(new_cards)\n",
    "    \n",
    "    def __str__(self):\n",
    "        return f'Player {self.name} has {len(self.all_cards)} cards.'"
   ]
  },
  {
   "cell_type": "code",
   "execution_count": 108,
   "id": "cb7ff0f3",
   "metadata": {},
   "outputs": [],
   "source": [
    "new_player = Player('Jose')"
   ]
  },
  {
   "cell_type": "code",
   "execution_count": 109,
   "id": "29cc6ea7",
   "metadata": {},
   "outputs": [
    {
     "name": "stdout",
     "output_type": "stream",
     "text": [
      "Player Jose has 0 cards.\n"
     ]
    }
   ],
   "source": [
    "print(new_player) # checkinf if instantiation worked"
   ]
  },
  {
   "cell_type": "code",
   "execution_count": 112,
   "id": "fade17d1",
   "metadata": {},
   "outputs": [],
   "source": [
    "new_player.add_cards(mycard)"
   ]
  },
  {
   "cell_type": "code",
   "execution_count": 113,
   "id": "f8a6f80b",
   "metadata": {},
   "outputs": [
    {
     "name": "stdout",
     "output_type": "stream",
     "text": [
      "Queen of Clubs\n"
     ]
    }
   ],
   "source": [
    "print(mycard)"
   ]
  },
  {
   "cell_type": "code",
   "execution_count": 114,
   "id": "49828204",
   "metadata": {},
   "outputs": [
    {
     "name": "stdout",
     "output_type": "stream",
     "text": [
      "Player Jose has 1 cards.\n"
     ]
    }
   ],
   "source": [
    "print(new_player) # checking if player got the card"
   ]
  },
  {
   "cell_type": "code",
   "execution_count": 115,
   "id": "cbbdd822",
   "metadata": {},
   "outputs": [
    {
     "name": "stdout",
     "output_type": "stream",
     "text": [
      "Queen of Clubs\n"
     ]
    }
   ],
   "source": [
    "print(new_player.all_cards[0])"
   ]
  },
  {
   "cell_type": "code",
   "execution_count": 116,
   "id": "0d15b573",
   "metadata": {},
   "outputs": [],
   "source": [
    "new_player.add_cards([mycard,mycard,mycard,mycard,mycard,mycard])"
   ]
  },
  {
   "cell_type": "code",
   "execution_count": 117,
   "id": "36b74379",
   "metadata": {},
   "outputs": [
    {
     "name": "stdout",
     "output_type": "stream",
     "text": [
      "Player Jose has 7 cards.\n"
     ]
    }
   ],
   "source": [
    "print(new_player) # checking if player got the cards"
   ]
  },
  {
   "cell_type": "code",
   "execution_count": 119,
   "id": "cb7fcc38",
   "metadata": {},
   "outputs": [
    {
     "data": {
      "text/plain": [
       "<__main__.Card at 0x26daaa72580>"
      ]
     },
     "execution_count": 119,
     "metadata": {},
     "output_type": "execute_result"
    }
   ],
   "source": [
    "new_player.remove_one() # checking if I can remove properly"
   ]
  },
  {
   "cell_type": "code",
   "execution_count": 120,
   "id": "d56d2dfb",
   "metadata": {},
   "outputs": [
    {
     "name": "stdout",
     "output_type": "stream",
     "text": [
      "Player Jose has 6 cards.\n"
     ]
    }
   ],
   "source": [
    "print(new_player) # number decreased by 1"
   ]
  },
  {
   "cell_type": "code",
   "execution_count": null,
   "id": "1dd4789e",
   "metadata": {},
   "outputs": [],
   "source": []
  }
 ],
 "metadata": {
  "kernelspec": {
   "display_name": "Python 3 (ipykernel)",
   "language": "python",
   "name": "python3"
  },
  "language_info": {
   "codemirror_mode": {
    "name": "ipython",
    "version": 3
   },
   "file_extension": ".py",
   "mimetype": "text/x-python",
   "name": "python",
   "nbconvert_exporter": "python",
   "pygments_lexer": "ipython3",
   "version": "3.9.7"
  }
 },
 "nbformat": 4,
 "nbformat_minor": 5
}
