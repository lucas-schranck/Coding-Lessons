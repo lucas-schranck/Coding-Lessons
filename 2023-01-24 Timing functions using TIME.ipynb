{
 "cells": [
  {
   "cell_type": "code",
   "execution_count": 1,
   "id": "4b63e02a",
   "metadata": {},
   "outputs": [],
   "source": [
    "def func1(n):\n",
    "    return list(map(str,range(n)))"
   ]
  },
  {
   "cell_type": "code",
   "execution_count": 2,
   "id": "5fc71c89",
   "metadata": {},
   "outputs": [],
   "source": [
    "def func2(n):\n",
    "    return [str(num) for num in range(n)]"
   ]
  },
  {
   "cell_type": "code",
   "execution_count": 3,
   "id": "5bf27842",
   "metadata": {},
   "outputs": [
    {
     "data": {
      "text/plain": [
       "['0', '1', '2', '3', '4', '5', '6', '7', '8', '9']"
      ]
     },
     "execution_count": 3,
     "metadata": {},
     "output_type": "execute_result"
    }
   ],
   "source": [
    "func1(10)"
   ]
  },
  {
   "cell_type": "code",
   "execution_count": 4,
   "id": "2224062b",
   "metadata": {},
   "outputs": [
    {
     "data": {
      "text/plain": [
       "['0', '1', '2', '3', '4', '5', '6', '7', '8', '9']"
      ]
     },
     "execution_count": 4,
     "metadata": {},
     "output_type": "execute_result"
    }
   ],
   "source": [
    "func2(10)"
   ]
  },
  {
   "cell_type": "code",
   "execution_count": 5,
   "id": "0cfcf85d",
   "metadata": {},
   "outputs": [],
   "source": [
    "import time # initializing time func"
   ]
  },
  {
   "cell_type": "code",
   "execution_count": 6,
   "id": "91d668f1",
   "metadata": {},
   "outputs": [
    {
     "name": "stdout",
     "output_type": "stream",
     "text": [
      "0.012937545776367188\n"
     ]
    }
   ],
   "source": [
    "# Current time\n",
    "start_time = time.time()\n",
    "\n",
    "# RUN CODE HERE V\n",
    "result = func1(100000)\n",
    "# RUN CODE HERE ^\n",
    "\n",
    "# Current time after code runs\n",
    "end_time = time.time()\n",
    "\n",
    "# See how long the code takes\n",
    "elapsed_time = end_time - start_time\n",
    "\n",
    "print(elapsed_time)"
   ]
  },
  {
   "cell_type": "code",
   "execution_count": 7,
   "id": "b46d4d4f",
   "metadata": {},
   "outputs": [
    {
     "name": "stdout",
     "output_type": "stream",
     "text": [
      "0.022937536239624023\n"
     ]
    }
   ],
   "source": [
    "# Current time\n",
    "start_time = time.time()\n",
    "\n",
    "# RUN CODE HERE V\n",
    "result = func2(100000)\n",
    "# RUN CODE HERE ^\n",
    "\n",
    "# Current time after code runs\n",
    "end_time = time.time()\n",
    "\n",
    "# See how long the code takes\n",
    "elapsed_time = end_time - start_time\n",
    "\n",
    "print(elapsed_time)"
   ]
  },
  {
   "cell_type": "code",
   "execution_count": 8,
   "id": "78361c98",
   "metadata": {},
   "outputs": [
    {
     "name": "stdout",
     "output_type": "stream",
     "text": [
      "1.322465181350708\n"
     ]
    }
   ],
   "source": [
    "# Current time\n",
    "start_time = time.time()\n",
    "\n",
    "# RUN CODE HERE V\n",
    "result = func1(10000000)\n",
    "# RUN CODE HERE ^\n",
    "\n",
    "# Current time after code runs\n",
    "end_time = time.time()\n",
    "\n",
    "# See how long the code takes\n",
    "elapsed_time = end_time - start_time\n",
    "\n",
    "print(elapsed_time)"
   ]
  },
  {
   "cell_type": "code",
   "execution_count": 9,
   "id": "0508946a",
   "metadata": {},
   "outputs": [
    {
     "name": "stdout",
     "output_type": "stream",
     "text": [
      "1.973724603652954\n"
     ]
    }
   ],
   "source": [
    "# Current time\n",
    "start_time = time.time()\n",
    "\n",
    "# RUN CODE HERE V\n",
    "result = func2(10000000)\n",
    "# RUN CODE HERE ^\n",
    "\n",
    "# Current time after code runs\n",
    "end_time = time.time()\n",
    "\n",
    "# See how long the code takes\n",
    "elapsed_time = end_time - start_time\n",
    "\n",
    "print(elapsed_time)"
   ]
  },
  {
   "cell_type": "code",
   "execution_count": 10,
   "id": "1ac39c49",
   "metadata": {},
   "outputs": [],
   "source": [
    "# Now we can see the difference in codes that need a lot of memory"
   ]
  },
  {
   "cell_type": "code",
   "execution_count": 11,
   "id": "d536b929",
   "metadata": {},
   "outputs": [
    {
     "name": "stdout",
     "output_type": "stream",
     "text": [
      "18.203349113464355\n"
     ]
    }
   ],
   "source": [
    "# Current time\n",
    "start_time = time.time()\n",
    "\n",
    "# RUN CODE HERE V\n",
    "result = func2(100000000)\n",
    "# RUN CODE HERE ^\n",
    "\n",
    "# Current time after code runs\n",
    "end_time = time.time()\n",
    "\n",
    "# See how long the code takes\n",
    "elapsed_time = end_time - start_time\n",
    "\n",
    "print(elapsed_time)"
   ]
  },
  {
   "cell_type": "code",
   "execution_count": 12,
   "id": "4595c5b5",
   "metadata": {},
   "outputs": [
    {
     "name": "stdout",
     "output_type": "stream",
     "text": [
      "15.368921756744385\n"
     ]
    }
   ],
   "source": [
    "# Current time\n",
    "start_time = time.time()\n",
    "\n",
    "# RUN CODE HERE V\n",
    "result = func1(100000000)\n",
    "# RUN CODE HERE ^\n",
    "\n",
    "# Current time after code runs\n",
    "end_time = time.time()\n",
    "\n",
    "# See how long the code takes\n",
    "elapsed_time = end_time - start_time\n",
    "\n",
    "print(elapsed_time)"
   ]
  },
  {
   "cell_type": "code",
   "execution_count": 13,
   "id": "8c7997e5",
   "metadata": {},
   "outputs": [],
   "source": [
    "# Now codes that require almost nothing"
   ]
  },
  {
   "cell_type": "code",
   "execution_count": 15,
   "id": "cf353eed",
   "metadata": {},
   "outputs": [
    {
     "name": "stdout",
     "output_type": "stream",
     "text": [
      "0.0\n"
     ]
    }
   ],
   "source": [
    "# Current time\n",
    "start_time = time.time()\n",
    "\n",
    "# RUN CODE HERE V\n",
    "result = func1(1)\n",
    "# RUN CODE HERE ^\n",
    "\n",
    "# Current time after code runs\n",
    "end_time = time.time()\n",
    "\n",
    "# See how long the code takes\n",
    "elapsed_time = end_time - start_time\n",
    "\n",
    "print(elapsed_time)"
   ]
  },
  {
   "cell_type": "code",
   "execution_count": 16,
   "id": "6f4b390c",
   "metadata": {},
   "outputs": [
    {
     "name": "stdout",
     "output_type": "stream",
     "text": [
      "0.0\n"
     ]
    }
   ],
   "source": [
    "# Current time\n",
    "start_time = time.time()\n",
    "\n",
    "# RUN CODE HERE V\n",
    "result = func1(2)\n",
    "# RUN CODE HERE ^\n",
    "\n",
    "# Current time after code runs\n",
    "end_time = time.time()\n",
    "\n",
    "# See how long the code takes\n",
    "elapsed_time = end_time - start_time\n",
    "\n",
    "print(elapsed_time)"
   ]
  },
  {
   "cell_type": "code",
   "execution_count": 20,
   "id": "ffa9e889",
   "metadata": {},
   "outputs": [
    {
     "name": "stdout",
     "output_type": "stream",
     "text": [
      "0.0009968280792236328\n"
     ]
    }
   ],
   "source": [
    "# Current time\n",
    "start_time = time.time()\n",
    "\n",
    "# RUN CODE HERE V\n",
    "result = func1(1000)\n",
    "# RUN CODE HERE ^\n",
    "\n",
    "# Current time after code runs\n",
    "end_time = time.time()\n",
    "\n",
    "# See how long the code takes\n",
    "elapsed_time = end_time - start_time\n",
    "\n",
    "print(elapsed_time)"
   ]
  },
  {
   "cell_type": "code",
   "execution_count": 21,
   "id": "8c47cd47",
   "metadata": {},
   "outputs": [
    {
     "name": "stdout",
     "output_type": "stream",
     "text": [
      "0.0009899139404296875\n"
     ]
    }
   ],
   "source": [
    "# Current time\n",
    "start_time = time.time()\n",
    "\n",
    "# RUN CODE HERE V\n",
    "result = func2(1000)\n",
    "# RUN CODE HERE ^\n",
    "\n",
    "# Current time after code runs\n",
    "end_time = time.time()\n",
    "\n",
    "# See how long the code takes\n",
    "elapsed_time = end_time - start_time\n",
    "\n",
    "print(elapsed_time)"
   ]
  },
  {
   "cell_type": "code",
   "execution_count": 22,
   "id": "43a7d6b5",
   "metadata": {},
   "outputs": [],
   "source": [
    "import timeit # build-in to time things"
   ]
  },
  {
   "cell_type": "code",
   "execution_count": 28,
   "id": "5dea5748",
   "metadata": {},
   "outputs": [],
   "source": [
    "stmt = '''\n",
    "func1(100)\n",
    "'''"
   ]
  },
  {
   "cell_type": "code",
   "execution_count": 24,
   "id": "a4fafcfa",
   "metadata": {},
   "outputs": [],
   "source": [
    "setup = '''\n",
    "def func1(n):\n",
    "    return list(map(str,range(n)))\n",
    "'''"
   ]
  },
  {
   "cell_type": "code",
   "execution_count": 31,
   "id": "9ae621a3",
   "metadata": {},
   "outputs": [
    {
     "data": {
      "text/plain": [
       "10.965189500000065"
      ]
     },
     "execution_count": 31,
     "metadata": {},
     "output_type": "execute_result"
    }
   ],
   "source": [
    "timeit.timeit(stmt,setup,number=1000000)"
   ]
  },
  {
   "cell_type": "code",
   "execution_count": 27,
   "id": "80d84759",
   "metadata": {},
   "outputs": [],
   "source": [
    "stmt2 = '''\n",
    "func2(100)\n",
    "'''"
   ]
  },
  {
   "cell_type": "code",
   "execution_count": 29,
   "id": "c99c9b97",
   "metadata": {},
   "outputs": [],
   "source": [
    "setup2 = '''\n",
    "def func2(n):\n",
    "    return [str(num) for num in range(n)]\n",
    "'''"
   ]
  },
  {
   "cell_type": "code",
   "execution_count": 32,
   "id": "1c044564",
   "metadata": {},
   "outputs": [
    {
     "data": {
      "text/plain": [
       "15.445350699999949"
      ]
     },
     "execution_count": 32,
     "metadata": {},
     "output_type": "execute_result"
    }
   ],
   "source": [
    "timeit.timeit(stmt2,setup2,number=1000000)"
   ]
  },
  {
   "cell_type": "code",
   "execution_count": 33,
   "id": "fd352f97",
   "metadata": {},
   "outputs": [],
   "source": [
    "# now this is only for Jupter notebook:"
   ]
  },
  {
   "cell_type": "code",
   "execution_count": 34,
   "id": "c4f838af",
   "metadata": {},
   "outputs": [
    {
     "name": "stdout",
     "output_type": "stream",
     "text": [
      "11.1 µs ± 53 ns per loop (mean ± std. dev. of 7 runs, 100000 loops each)\n"
     ]
    }
   ],
   "source": [
    "%%timeit\n",
    "func1(100)"
   ]
  },
  {
   "cell_type": "code",
   "execution_count": 35,
   "id": "cdd1ffb2",
   "metadata": {},
   "outputs": [
    {
     "name": "stdout",
     "output_type": "stream",
     "text": [
      "15.6 µs ± 477 ns per loop (mean ± std. dev. of 7 runs, 100000 loops each)\n"
     ]
    }
   ],
   "source": [
    "%%timeit\n",
    "func2(100)"
   ]
  },
  {
   "cell_type": "code",
   "execution_count": null,
   "id": "590b3812",
   "metadata": {},
   "outputs": [],
   "source": []
  }
 ],
 "metadata": {
  "kernelspec": {
   "display_name": "Python 3 (ipykernel)",
   "language": "python",
   "name": "python3"
  },
  "language_info": {
   "codemirror_mode": {
    "name": "ipython",
    "version": 3
   },
   "file_extension": ".py",
   "mimetype": "text/x-python",
   "name": "python",
   "nbconvert_exporter": "python",
   "pygments_lexer": "ipython3",
   "version": "3.9.7"
  }
 },
 "nbformat": 4,
 "nbformat_minor": 5
}
