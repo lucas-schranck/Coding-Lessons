{
 "cells": [
  {
   "cell_type": "code",
   "execution_count": 11,
   "id": "7df1727a",
   "metadata": {},
   "outputs": [],
   "source": [
    "f = open('2023-01-24zipone.txt', 'w+')\n",
    "f.write('zip this one')\n",
    "f.close()"
   ]
  },
  {
   "cell_type": "code",
   "execution_count": 12,
   "id": "995beb00",
   "metadata": {},
   "outputs": [],
   "source": [
    "f = open('2023-01-24ziptwo.txt', 'w+')\n",
    "f.write('zip this one two(too)')\n",
    "f.close()"
   ]
  },
  {
   "cell_type": "code",
   "execution_count": 13,
   "id": "2c2ab4ef",
   "metadata": {},
   "outputs": [],
   "source": [
    "import zipfile"
   ]
  },
  {
   "cell_type": "code",
   "execution_count": 14,
   "id": "11b61f58",
   "metadata": {},
   "outputs": [],
   "source": [
    "comp_file = zipfile.ZipFile('2023-01-24comp_file.zip','w')"
   ]
  },
  {
   "cell_type": "code",
   "execution_count": 15,
   "id": "8914b14f",
   "metadata": {},
   "outputs": [],
   "source": [
    "comp_file.write('2023-01-24zipone.txt',compress_type=zipfile.ZIP_DEFLATED)"
   ]
  },
  {
   "cell_type": "code",
   "execution_count": 16,
   "id": "685663f6",
   "metadata": {},
   "outputs": [],
   "source": [
    "comp_file.write('2023-01-24ziptwo.txt',compress_type=zipfile.ZIP_DEFLATED)"
   ]
  },
  {
   "cell_type": "code",
   "execution_count": 17,
   "id": "d0d4dfff",
   "metadata": {},
   "outputs": [],
   "source": [
    "comp_file.close()"
   ]
  },
  {
   "cell_type": "code",
   "execution_count": 18,
   "id": "8bc2a2d4",
   "metadata": {},
   "outputs": [],
   "source": [
    "# now extracting files"
   ]
  },
  {
   "cell_type": "code",
   "execution_count": 19,
   "id": "cbc4a864",
   "metadata": {},
   "outputs": [],
   "source": [
    "zip_obj = zipfile.ZipFile('2023-01-24comp_file.zip', 'r')"
   ]
  },
  {
   "cell_type": "code",
   "execution_count": 20,
   "id": "60e2ab2e",
   "metadata": {},
   "outputs": [],
   "source": [
    "zip_obj.extractall('2023-01-24 ZippingFiles extracted_content')"
   ]
  },
  {
   "cell_type": "code",
   "execution_count": null,
   "id": "f7f06740",
   "metadata": {},
   "outputs": [],
   "source": []
  }
 ],
 "metadata": {
  "kernelspec": {
   "display_name": "Python 3 (ipykernel)",
   "language": "python",
   "name": "python3"
  },
  "language_info": {
   "codemirror_mode": {
    "name": "ipython",
    "version": 3
   },
   "file_extension": ".py",
   "mimetype": "text/x-python",
   "name": "python",
   "nbconvert_exporter": "python",
   "pygments_lexer": "ipython3",
   "version": "3.9.7"
  }
 },
 "nbformat": 4,
 "nbformat_minor": 5
}
