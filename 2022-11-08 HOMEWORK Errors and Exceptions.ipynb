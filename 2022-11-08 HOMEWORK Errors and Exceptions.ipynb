{
 "cells": [
  {
   "cell_type": "markdown",
   "metadata": {},
   "source": [
    "___\n",
    "\n",
    "<a href='https://www.udemy.com/user/joseportilla/'><img src='../Pierian_Data_Logo.png'/></a>\n",
    "___\n",
    "<center><em>Content Copyright by Pierian Data</em></center>"
   ]
  },
  {
   "cell_type": "markdown",
   "metadata": {},
   "source": [
    "# Errors and Exceptions Homework"
   ]
  },
  {
   "cell_type": "markdown",
   "metadata": {},
   "source": [
    "### Problem 1\n",
    "Handle the exception thrown by the code below by using <code>try</code> and <code>except</code> blocks."
   ]
  },
  {
   "cell_type": "code",
   "execution_count": 3,
   "metadata": {},
   "outputs": [
    {
     "name": "stdout",
     "output_type": "stream",
     "text": [
      "Looks like you've got a type error; check out values before running operations!\n",
      "Looks like you've got a type error; check out values before running operations!\n",
      "Looks like you've got a type error; check out values before running operations!\n"
     ]
    }
   ],
   "source": [
    "for i in ['a','b','c']: # This is just error message; doesn't fix the problem and isn't very clear\n",
    "    try:\n",
    "        print(i**2)\n",
    "    except TypeError: \n",
    "        print(\"Looks like you've got a type error; check out values before running operations!\")"
   ]
  },
  {
   "cell_type": "code",
   "execution_count": 9,
   "metadata": {},
   "outputs": [
    {
     "name": "stdout",
     "output_type": "stream",
     "text": [
      "LOG: Looks like you've got an error; check out values before running operation!\n",
      "LOG: Looks like you've got an error; check out values before running operation!\n",
      "LOG: Looks like you've got an error; check out values before running operation!\n"
     ]
    }
   ],
   "source": [
    "for i in ['a','b','c']: # This is just checking if there is error or not (with error)\n",
    "    try:\n",
    "        print(i**2)\n",
    "    except:\n",
    "        print(\"LOG: Looks like you've got an error; check out values before running operation!\")\n",
    "    else: # this will print if no error is detected\n",
    "        print(\"LOG: All went well in the operation!\")"
   ]
  },
  {
   "cell_type": "code",
   "execution_count": 10,
   "metadata": {},
   "outputs": [
    {
     "ename": "SyntaxError",
     "evalue": "unexpected EOF while parsing (Temp/ipykernel_17112/892150811.py, line 3)",
     "output_type": "error",
     "traceback": [
      "\u001b[1;36m  File \u001b[1;32m\"C:\\Users\\User\\AppData\\Local\\Temp/ipykernel_17112/892150811.py\"\u001b[1;36m, line \u001b[1;32m3\u001b[0m\n\u001b[1;33m    print(i+1)\u001b[0m\n\u001b[1;37m              ^\u001b[0m\n\u001b[1;31mSyntaxError\u001b[0m\u001b[1;31m:\u001b[0m unexpected EOF while parsing\n"
     ]
    }
   ],
   "source": [
    "for i in ['a','b','c']: # This is just checking if there is error or not (without error)\n",
    "    try:\n",
    "        print(i)\n",
    "    except:\n",
    "        print(\"LOG: Looks like you've got an error; check out values before running operation!\")\n",
    "    else: # this will print if no error is detected\n",
    "        print(\"LOG: All went well in the operation!\")"
   ]
  },
  {
   "cell_type": "markdown",
   "metadata": {},
   "source": [
    "### Problem 2\n",
    "Handle the exception thrown by the code below by using <code>try</code> and <code>except</code> blocks. Then use a <code>finally</code> block to print 'All Done.'"
   ]
  },
  {
   "cell_type": "code",
   "execution_count": 8,
   "metadata": {},
   "outputs": [
    {
     "name": "stdout",
     "output_type": "stream",
     "text": [
      "You can't divide a number by zero; try another number: kok\n",
      "This is not a number. Please enter a valid number\n",
      "You can't divide a number by zero; try another number: 10.5\n",
      "Input is an float number.\n",
      "You selected the number: 10.5\n",
      "The division using the new number is equal: 0.47619047619047616\n",
      "All done.\n"
     ]
    }
   ],
   "source": [
    "x = 5\n",
    "y = 0\n",
    "\n",
    "try: # Instead of just giving feedback message, this will ask another number via input and a failsafe against str\n",
    "    z = x/y\n",
    "except ZeroDivisionError: # If divided by zero, do this\n",
    "    while True: # making sure input is int or float\n",
    "        num = input(\"You can't divide a number by zero; try another number: \")\n",
    "        try: # if input = int\n",
    "            val = int(num)\n",
    "            print(\"Input is a integer number.\")\n",
    "            print(f\"You selected the number: {num}\")\n",
    "            num = int(num)\n",
    "            z = int(x+y)/num\n",
    "            print(f\"The division using the new number is equal: {z}\")\n",
    "            break; # to finish code\n",
    "        except ValueError: # if input = float\n",
    "            try:\n",
    "                float(num)\n",
    "                print(\"Input is an float number.\")\n",
    "                print(f\"You selected the number: {num}\")\n",
    "                num = float(num)\n",
    "                z = float(x+y)/num\n",
    "                print(f\"The division using the new number is equal: {z}\")\n",
    "                break; # to finish code\n",
    "            except ValueError: # if input isn't a number\n",
    "                print(\"This is not a number. Please enter a valid number\") \n",
    "                # no break = loop\n",
    "\n",
    "finally: # will always run\n",
    "    print('All done.')"
   ]
  },
  {
   "cell_type": "markdown",
   "metadata": {},
   "source": [
    "### Problem 3\n",
    "Write a function that asks for an integer and prints the square of it. Use a <code>while</code> loop with a <code>try</code>, <code>except</code>, <code>else</code> block to account for incorrect inputs."
   ]
  },
  {
   "cell_type": "code",
   "execution_count": 2,
   "metadata": {},
   "outputs": [],
   "source": [
    "def ask():\n",
    "    \n",
    "    while True: # making sure input is int or float\n",
    "        num = input(\"Let's see the square of a number, please, select a number: \")\n",
    "        try: # if input = int\n",
    "            val = int(num)\n",
    "            print(\"Input is a integer number.\")\n",
    "            print(f\"You selected the number: {num}\")\n",
    "            num = int(num)\n",
    "            z = int(num**2)\n",
    "            print(f\"The square of {num} equals: {z}\")\n",
    "            break; # to finish code\n",
    "        except ValueError: # if input = float\n",
    "            try:\n",
    "                float(num)\n",
    "                print(\"Input is an float number.\")\n",
    "                print(f\"You selected the number: {num}\")\n",
    "                num = float(num)\n",
    "                z = float(num**2)\n",
    "                print(f\"The square of {num} equals: {z}\")\n",
    "                break; # to finish code\n",
    "            except ValueError: # if input isn't a number\n",
    "                print(\"This is not a number. Please enter a valid number\") \n",
    "                # no break = loop\n",
    "        finally:\n",
    "            print(\"Operation went well!\")"
   ]
  },
  {
   "cell_type": "code",
   "execution_count": 4,
   "metadata": {},
   "outputs": [
    {
     "name": "stdout",
     "output_type": "stream",
     "text": [
      "Let's see the square of a number, please, select a number: 5.5\n",
      "Input is an float number.\n",
      "You selected the number: 5.5\n",
      "The square of 5.5 equals: 30.25\n",
      "Operation went well!\n"
     ]
    }
   ],
   "source": [
    "ask()"
   ]
  },
  {
   "cell_type": "markdown",
   "metadata": {},
   "source": [
    "# Great Job!"
   ]
  }
 ],
 "metadata": {
  "kernelspec": {
   "display_name": "Python 3 (ipykernel)",
   "language": "python",
   "name": "python3"
  },
  "language_info": {
   "codemirror_mode": {
    "name": "ipython",
    "version": 3
   },
   "file_extension": ".py",
   "mimetype": "text/x-python",
   "name": "python",
   "nbconvert_exporter": "python",
   "pygments_lexer": "ipython3",
   "version": "3.9.7"
  }
 },
 "nbformat": 4,
 "nbformat_minor": 1
}
