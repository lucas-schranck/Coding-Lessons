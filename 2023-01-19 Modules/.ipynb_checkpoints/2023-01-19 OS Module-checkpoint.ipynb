{
 "cells": [
  {
   "cell_type": "code",
   "execution_count": 1,
   "id": "46fa3c18",
   "metadata": {},
   "outputs": [
    {
     "data": {
      "text/plain": [
       "'C:\\\\Users\\\\User\\\\Desktop\\\\Coding\\\\My Python stuff\\\\Python from zero to hero\\\\ipynb_checkpoints\\\\2023-01-19 Modules'"
      ]
     },
     "execution_count": 1,
     "metadata": {},
     "output_type": "execute_result"
    }
   ],
   "source": [
    "pwd"
   ]
  },
  {
   "cell_type": "code",
   "execution_count": 2,
   "id": "77051b6e",
   "metadata": {},
   "outputs": [],
   "source": [
    "f = open('practice.txt', 'w+') #being 1- arquive 2- mode (writing mode).\n",
    "f.write('This is a python script writing.')\n",
    "f.close()"
   ]
  },
  {
   "cell_type": "code",
   "execution_count": 3,
   "id": "0aeae3ff",
   "metadata": {},
   "outputs": [],
   "source": [
    "import os"
   ]
  },
  {
   "cell_type": "code",
   "execution_count": 4,
   "id": "751b25c3",
   "metadata": {},
   "outputs": [
    {
     "data": {
      "text/plain": [
       "'C:\\\\Users\\\\User\\\\Desktop\\\\Coding\\\\My Python stuff\\\\Python from zero to hero\\\\ipynb_checkpoints\\\\2023-01-19 Modules'"
      ]
     },
     "execution_count": 4,
     "metadata": {},
     "output_type": "execute_result"
    }
   ],
   "source": [
    "os.getcwd() #cdw being current working directory"
   ]
  },
  {
   "cell_type": "code",
   "execution_count": 5,
   "id": "c7922849",
   "metadata": {},
   "outputs": [
    {
     "data": {
      "text/plain": [
       "['All Users',\n",
       " 'Default',\n",
       " 'Default User',\n",
       " 'desktop.ini',\n",
       " 'Public',\n",
       " 'TEMP',\n",
       " 'Todos os Usuários',\n",
       " 'User',\n",
       " 'Usuário Padrão']"
      ]
     },
     "execution_count": 5,
     "metadata": {},
     "output_type": "execute_result"
    }
   ],
   "source": [
    "os.listdir('C:\\\\Users') # all items in directory"
   ]
  },
  {
   "cell_type": "code",
   "execution_count": 6,
   "id": "8bb07fb9",
   "metadata": {},
   "outputs": [],
   "source": [
    "import shutil # useful for moving files"
   ]
  },
  {
   "cell_type": "code",
   "execution_count": 7,
   "id": "b6332ee6",
   "metadata": {},
   "outputs": [
    {
     "data": {
      "text/plain": [
       "'C:\\\\Users\\\\User\\\\Desktop\\\\Coding\\\\My Python stuff\\\\Python from zero to hero\\\\ipynb_checkpoints\\\\2023-01-19 Modules\\\\practicemove\\\\practice.txt'"
      ]
     },
     "execution_count": 7,
     "metadata": {},
     "output_type": "execute_result"
    }
   ],
   "source": [
    "shutil.move('practice.txt', 'C:\\\\Users\\\\User\\\\Desktop\\\\Coding\\\\My Python stuff\\\\Python from zero to hero\\\\ipynb_checkpoints\\\\2023-01-19 Modules\\\\practicemove')"
   ]
  },
  {
   "cell_type": "code",
   "execution_count": 8,
   "id": "692a9111",
   "metadata": {},
   "outputs": [],
   "source": [
    "# note I used double '\\' for moving, instead of just one."
   ]
  },
  {
   "cell_type": "code",
   "execution_count": 9,
   "id": "180b5000",
   "metadata": {},
   "outputs": [
    {
     "data": {
      "text/plain": [
       "['.ipynb_checkpoints',\n",
       " '2023-01-17 Python Advanced Module1 - collections.ipynb',\n",
       " '2023-01-19 OS Module.ipynb',\n",
       " 'practicemove']"
      ]
     },
     "execution_count": 9,
     "metadata": {},
     "output_type": "execute_result"
    }
   ],
   "source": [
    "os.listdir('C:\\\\Users\\\\User\\\\Desktop\\\\Coding\\\\My Python stuff\\\\Python from zero to hero\\\\ipynb_checkpoints\\\\2023-01-19 Modules')"
   ]
  },
  {
   "cell_type": "code",
   "execution_count": 10,
   "id": "1ff58d69",
   "metadata": {},
   "outputs": [
    {
     "data": {
      "text/plain": [
       "['practice.txt']"
      ]
     },
     "execution_count": 10,
     "metadata": {},
     "output_type": "execute_result"
    }
   ],
   "source": [
    "os.listdir('C:\\\\Users\\\\User\\\\Desktop\\\\Coding\\\\My Python stuff\\\\Python from zero to hero\\\\ipynb_checkpoints\\\\2023-01-19 Modules\\\\practicemove')"
   ]
  },
  {
   "cell_type": "code",
   "execution_count": 11,
   "id": "9d1256ae",
   "metadata": {},
   "outputs": [
    {
     "name": "stdout",
     "output_type": "stream",
     "text": [
      "Instructions above\n"
     ]
    }
   ],
   "source": [
    "    \"\"\"\n",
    "We can delete files using:\n",
    "os.unlink(path) - this will remove the file\n",
    "os.rmdir(path) - this will remove folder IF EMPTY\n",
    "shutil.rmtree(path) - this will remove anything in the path (DANGEROUS).\n",
    "\n",
    "Therefore, we will be using send2trash; outside module that instead of directly deleting, send things to trash\n",
    "\n",
    "go to cmd and install\n",
    "    pip install send2trash\n",
    "\n",
    "    \"\"\"\n",
    "print('Instructions above')"
   ]
  },
  {
   "cell_type": "code",
   "execution_count": 12,
   "id": "44a45d42",
   "metadata": {},
   "outputs": [],
   "source": [
    "import send2trash"
   ]
  },
  {
   "cell_type": "code",
   "execution_count": 13,
   "id": "2f9c02a6",
   "metadata": {},
   "outputs": [
    {
     "data": {
      "text/plain": [
       "['.ipynb_checkpoints',\n",
       " '2023-01-17 Python Advanced Module1 - collections.ipynb',\n",
       " '2023-01-19 OS Module.ipynb',\n",
       " 'practicemove']"
      ]
     },
     "execution_count": 13,
     "metadata": {},
     "output_type": "execute_result"
    }
   ],
   "source": [
    "os.listdir()"
   ]
  },
  {
   "cell_type": "code",
   "execution_count": 14,
   "id": "9023c040",
   "metadata": {},
   "outputs": [
    {
     "data": {
      "text/plain": [
       "'C:\\\\Users\\\\User\\\\Desktop\\\\Coding\\\\My Python stuff\\\\Python from zero to hero\\\\ipynb_checkpoints\\\\2023-01-19 Modules\\\\practice.txt'"
      ]
     },
     "execution_count": 14,
     "metadata": {},
     "output_type": "execute_result"
    }
   ],
   "source": [
    "shutil.move('C:\\\\Users\\\\User\\\\Desktop\\\\Coding\\\\My Python stuff\\\\Python from zero to hero\\\\ipynb_checkpoints\\\\2023-01-19 Modules\\\\practicemove\\\\practice.txt', 'C:\\\\Users\\\\User\\\\Desktop\\\\Coding\\\\My Python stuff\\\\Python from zero to hero\\\\ipynb_checkpoints\\\\2023-01-19 Modules')"
   ]
  },
  {
   "cell_type": "code",
   "execution_count": 15,
   "id": "60226ebe",
   "metadata": {},
   "outputs": [
    {
     "data": {
      "text/plain": [
       "['.ipynb_checkpoints',\n",
       " '2023-01-17 Python Advanced Module1 - collections.ipynb',\n",
       " '2023-01-19 OS Module.ipynb',\n",
       " 'practice.txt',\n",
       " 'practicemove']"
      ]
     },
     "execution_count": 15,
     "metadata": {},
     "output_type": "execute_result"
    }
   ],
   "source": [
    "os.listdir() # see if practice.txt is here"
   ]
  },
  {
   "cell_type": "code",
   "execution_count": 16,
   "id": "f451fd6e",
   "metadata": {},
   "outputs": [],
   "source": [
    "send2trash.send2trash('C:\\\\Users\\\\User\\\\Desktop\\\\Coding\\\\My Python stuff\\\\Python from zero to hero\\\\ipynb_checkpoints\\\\2023-01-19 Modules\\\\practice.txt')"
   ]
  },
  {
   "cell_type": "code",
   "execution_count": 17,
   "id": "b2930a8f",
   "metadata": {},
   "outputs": [
    {
     "data": {
      "text/plain": [
       "['.ipynb_checkpoints',\n",
       " '2023-01-17 Python Advanced Module1 - collections.ipynb',\n",
       " '2023-01-19 OS Module.ipynb',\n",
       " 'practicemove']"
      ]
     },
     "execution_count": 17,
     "metadata": {},
     "output_type": "execute_result"
    }
   ],
   "source": [
    "os.listdir()"
   ]
  },
  {
   "cell_type": "code",
   "execution_count": null,
   "id": "f5753a34",
   "metadata": {},
   "outputs": [],
   "source": []
  }
 ],
 "metadata": {
  "kernelspec": {
   "display_name": "Python 3 (ipykernel)",
   "language": "python",
   "name": "python3"
  },
  "language_info": {
   "codemirror_mode": {
    "name": "ipython",
    "version": 3
   },
   "file_extension": ".py",
   "mimetype": "text/x-python",
   "name": "python",
   "nbconvert_exporter": "python",
   "pygments_lexer": "ipython3",
   "version": "3.9.7"
  }
 },
 "nbformat": 4,
 "nbformat_minor": 5
}
