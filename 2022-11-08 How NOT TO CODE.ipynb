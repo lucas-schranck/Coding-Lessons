{
 "cells": [
  {
   "cell_type": "code",
   "execution_count": 56,
   "id": "596dfa10",
   "metadata": {
    "scrolled": true
   },
   "outputs": [
    {
     "name": "stdout",
     "output_type": "stream",
     "text": [
      "a\n",
      "a\n",
      "b\n",
      "b\n",
      "c\n",
      "c\n",
      "d\n",
      "d\n",
      "e\n",
      "e\n",
      "2\n",
      "3\n",
      "5\n"
     ]
    }
   ],
   "source": [
    "var = 6\n",
    "\n",
    "for i in ['a','b','c','d','e', 2, 3, 5]:\n",
    "    try: \n",
    "        if i.isdigit():\n",
    "            pop(i)\n",
    "    except AttributeError:\n",
    "        pass\n",
    "    else:\n",
    "        for i in i:\n",
    "            [i].append(i)\n",
    "            print(i)\n",
    "    print(i) # GLHF"
   ]
  },
  {
   "cell_type": "code",
   "execution_count": null,
   "id": "5f764cbb",
   "metadata": {},
   "outputs": [],
   "source": []
  }
 ],
 "metadata": {
  "kernelspec": {
   "display_name": "Python 3 (ipykernel)",
   "language": "python",
   "name": "python3"
  },
  "language_info": {
   "codemirror_mode": {
    "name": "ipython",
    "version": 3
   },
   "file_extension": ".py",
   "mimetype": "text/x-python",
   "name": "python",
   "nbconvert_exporter": "python",
   "pygments_lexer": "ipython3",
   "version": "3.9.7"
  }
 },
 "nbformat": 4,
 "nbformat_minor": 5
}
