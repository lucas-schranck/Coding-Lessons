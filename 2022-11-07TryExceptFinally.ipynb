{
 "cells": [
  {
   "cell_type": "code",
   "execution_count": 1,
   "id": "2bcf7354",
   "metadata": {},
   "outputs": [],
   "source": [
    "def add(n1,n2):\n",
    "    print(n1+n2)"
   ]
  },
  {
   "cell_type": "code",
   "execution_count": 2,
   "id": "302a9b53",
   "metadata": {},
   "outputs": [
    {
     "name": "stdout",
     "output_type": "stream",
     "text": [
      "30\n"
     ]
    }
   ],
   "source": [
    "add(10,20)"
   ]
  },
  {
   "cell_type": "code",
   "execution_count": 3,
   "id": "86e617df",
   "metadata": {},
   "outputs": [],
   "source": [
    "number1 = 10"
   ]
  },
  {
   "cell_type": "code",
   "execution_count": 4,
   "id": "3cf5917f",
   "metadata": {},
   "outputs": [
    {
     "name": "stdout",
     "output_type": "stream",
     "text": [
      "Please provide a number: 20\n"
     ]
    }
   ],
   "source": [
    "numeber2 = input(\"Please provide a number: \") #forcing typeerror starts here"
   ]
  },
  {
   "cell_type": "code",
   "execution_count": 7,
   "id": "e6afed13",
   "metadata": {},
   "outputs": [
    {
     "ename": "NameError",
     "evalue": "name 'number2' is not defined",
     "output_type": "error",
     "traceback": [
      "\u001b[1;31m---------------------------------------------------------------------------\u001b[0m",
      "\u001b[1;31mNameError\u001b[0m                                 Traceback (most recent call last)",
      "\u001b[1;32m~\\AppData\\Local\\Temp/ipykernel_15852/1803183162.py\u001b[0m in \u001b[0;36m<module>\u001b[1;34m\u001b[0m\n\u001b[1;32m----> 1\u001b[1;33m \u001b[0madd\u001b[0m\u001b[1;33m(\u001b[0m\u001b[0mnumber1\u001b[0m\u001b[1;33m,\u001b[0m\u001b[0mnumber2\u001b[0m\u001b[1;33m)\u001b[0m \u001b[1;31m#as number input wasn't passed as int\u001b[0m\u001b[1;33m\u001b[0m\u001b[1;33m\u001b[0m\u001b[0m\n\u001b[0m\u001b[0;32m      2\u001b[0m \u001b[0mprint\u001b[0m\u001b[1;33m(\u001b[0m\u001b[1;34m'Something Happened!'\u001b[0m\u001b[1;33m)\u001b[0m\u001b[1;33m\u001b[0m\u001b[1;33m\u001b[0m\u001b[0m\n",
      "\u001b[1;31mNameError\u001b[0m: name 'number2' is not defined"
     ]
    }
   ],
   "source": [
    "add(number1,number2) #as number input wasn't passed as int\n",
    "print('Something Happened!') #after error, no lines will read"
   ]
  },
  {
   "cell_type": "code",
   "execution_count": 8,
   "id": "0d38603b",
   "metadata": {},
   "outputs": [],
   "source": [
    "# Example of try-except without error\n",
    "try: \n",
    "    # THIS IS THE QUESTION\n",
    "    # WANT TO ATTEMPT THIS CODE\n",
    "    # MAY HAVE ERROR\n",
    "    result = 10+10\n",
    "except:\n",
    "    # THIS HAPPENS IF THERE IS AN ERROR\n",
    "    print(\"Hey it looks like you aren't adding correctly!\")"
   ]
  },
  {
   "cell_type": "code",
   "execution_count": 9,
   "id": "345327c6",
   "metadata": {},
   "outputs": [
    {
     "name": "stdout",
     "output_type": "stream",
     "text": [
      "Hey it looks like you aren't adding correctly!\n"
     ]
    }
   ],
   "source": [
    "# Example of try-except with error\n",
    "try: \n",
    "    # THIS IS THE QUESTION\n",
    "    # WANT TO ATTEMPT THIS CODE\n",
    "    # MAY HAVE ERROR\n",
    "    result = 10+'10'\n",
    "except:\n",
    "    # THIS HAPPENS IF THERE IS AN ERROR\n",
    "    print(\"Hey it looks like you aren't adding correctly!\")"
   ]
  },
  {
   "cell_type": "code",
   "execution_count": 11,
   "id": "4574f126",
   "metadata": {},
   "outputs": [
    {
     "name": "stdout",
     "output_type": "stream",
     "text": [
      "Add went well!\n",
      "20\n"
     ]
    }
   ],
   "source": [
    "# Example of try-except-else without error\n",
    "try: \n",
    "    # THIS IS THE QUESTION\n",
    "    # WANT TO ATTEMPT THIS CODE\n",
    "    # MAY HAVE ERROR\n",
    "    result = 10+10\n",
    "except:\n",
    "    # THIS HAPPENS IF THERE IS AN ERROR\n",
    "    print(\"Hey it looks like you aren't adding correctly!\")\n",
    "else:\n",
    "    # THIS HAPPENS IF THERE IS NO ERROR\n",
    "    print(\"Add went well!\")\n",
    "    print(result)"
   ]
  },
  {
   "cell_type": "code",
   "execution_count": 12,
   "id": "223ed61d",
   "metadata": {},
   "outputs": [
    {
     "name": "stdout",
     "output_type": "stream",
     "text": [
      "Hey it looks like you aren't adding correctly!\n"
     ]
    }
   ],
   "source": [
    "# Example of try-except-else with error\n",
    "try:\n",
    "    # THIS IS THE QUESTION\n",
    "    # WANT TO ATTEMPT THIS CODE\n",
    "    # MAY HAVE ERROR\n",
    "    result = 10+'10'\n",
    "except:\n",
    "    # THIS HAPPENS IF THERE IS AN ERROR\n",
    "    print(\"Hey it looks like you aren't adding correctly!\")\n",
    "else:\n",
    "    # THIS HAPPENS IF THERE IS NO ERROR\n",
    "    print(\"Add went well!\")\n",
    "    print(result)"
   ]
  },
  {
   "cell_type": "code",
   "execution_count": 16,
   "id": "a3b99e30",
   "metadata": {},
   "outputs": [
    {
     "name": "stdout",
     "output_type": "stream",
     "text": [
      "I always run\n"
     ]
    }
   ],
   "source": [
    "try:\n",
    "    f = open('testfile','w') #R for read only, W for creating new if not there\n",
    "    f.write(\"Write a test line\")\n",
    "except TypeError: # except: is for any error; except TypeError: would only make exception for specific error\n",
    "    print('There is a type error')\n",
    "except OSError: # this will return if this specific error occurs\n",
    "    print('Hey you have an OS Error')\n",
    "except: # This will return any other type of error not mentioned above\n",
    "    print(\"You have other error (not mentioned)\")\n",
    "finally: # Finally makes anything below run no matter what\n",
    "    print(\"I always run\")"
   ]
  },
  {
   "cell_type": "code",
   "execution_count": 17,
   "id": "5d464a75",
   "metadata": {},
   "outputs": [],
   "source": [
    "def ask_for_int(): # Function to ask for integer from user\n",
    "    try:\n",
    "        result = int(input(\"Please provide a number: \")) # askinf for INT here\n",
    "    except: \n",
    "        print('Whoops! This is not a number') # If input not integer\n",
    "    finally:\n",
    "        print('End of try/except/finally') # will always run"
   ]
  },
  {
   "cell_type": "code",
   "execution_count": 18,
   "id": "598c82ff",
   "metadata": {},
   "outputs": [
    {
     "name": "stdout",
     "output_type": "stream",
     "text": [
      "Please provide a number: 20\n",
      "End of try/except/finally\n"
     ]
    }
   ],
   "source": [
    "ask_for_int()"
   ]
  },
  {
   "cell_type": "code",
   "execution_count": 19,
   "id": "f46a9018",
   "metadata": {},
   "outputs": [
    {
     "name": "stdout",
     "output_type": "stream",
     "text": [
      "Please provide a number: hello\n",
      "Whoops! This is not a number\n",
      "End of try/except/finally\n"
     ]
    }
   ],
   "source": [
    "ask_for_int()"
   ]
  },
  {
   "cell_type": "code",
   "execution_count": 21,
   "id": "9cb790e8",
   "metadata": {},
   "outputs": [],
   "source": [
    "def ask_for_intw(): # Function to ask for integer from user WITH WHILE\n",
    "    \n",
    "    while True: # remember to always shut down while-true somehow\n",
    "        try:\n",
    "            result = int(input(\"Please provide a number: \")) # askinf for INT here\n",
    "        except: \n",
    "            print('Whoops! This is not a number') # If input not integer\n",
    "            continue # will keep running until get to a correct input\n",
    "        else:\n",
    "            print('Yes, thank you')\n",
    "            break # this will end the while True loop\n",
    "        finally:\n",
    "            print('End of try/except/finally') # will always run\n",
    "            print('I will always run at the end, regardless of error or not')"
   ]
  },
  {
   "cell_type": "code",
   "execution_count": 22,
   "id": "2a173724",
   "metadata": {},
   "outputs": [
    {
     "name": "stdout",
     "output_type": "stream",
     "text": [
      "Please provide a number: 20\n",
      "Yes, thank you\n",
      "End of try/except/finally\n",
      "I will always run at the end, regardless of error or not\n"
     ]
    }
   ],
   "source": [
    "ask_for_intw()"
   ]
  },
  {
   "cell_type": "code",
   "execution_count": 23,
   "id": "72b8b522",
   "metadata": {},
   "outputs": [
    {
     "name": "stdout",
     "output_type": "stream",
     "text": [
      "Please provide a number: q\n",
      "Whoops! This is not a number\n",
      "End of try/except/finally\n",
      "I will always run at the end, regardless of error or not\n",
      "Please provide a number: why\n",
      "Whoops! This is not a number\n",
      "End of try/except/finally\n",
      "I will always run at the end, regardless of error or not\n",
      "Please provide a number: This is infinite (because of while True)\n",
      "Whoops! This is not a number\n",
      "End of try/except/finally\n",
      "I will always run at the end, regardless of error or not\n",
      "Please provide a number: 99\n",
      "Yes, thank you\n",
      "End of try/except/finally\n",
      "I will always run at the end, regardless of error or not\n"
     ]
    }
   ],
   "source": [
    "ask_for_intw()"
   ]
  },
  {
   "cell_type": "code",
   "execution_count": null,
   "id": "6a78013d",
   "metadata": {},
   "outputs": [],
   "source": []
  }
 ],
 "metadata": {
  "kernelspec": {
   "display_name": "Python 3 (ipykernel)",
   "language": "python",
   "name": "python3"
  },
  "language_info": {
   "codemirror_mode": {
    "name": "ipython",
    "version": 3
   },
   "file_extension": ".py",
   "mimetype": "text/x-python",
   "name": "python",
   "nbconvert_exporter": "python",
   "pygments_lexer": "ipython3",
   "version": "3.9.7"
  }
 },
 "nbformat": 4,
 "nbformat_minor": 5
}
